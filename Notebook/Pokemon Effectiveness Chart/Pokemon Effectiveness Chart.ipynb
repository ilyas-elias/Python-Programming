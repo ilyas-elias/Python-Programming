{
 "cells": [
  {
   "cell_type": "markdown",
   "metadata": {
    "tags": []
   },
   "source": [
    "Submitted by : <br>\n",
    "Name : **ILYAS.D**  <br>\n",
    "\n"
   ]
  },
  {
   "cell_type": "markdown",
   "metadata": {},
   "source": []
  },
  {
   "cell_type": "markdown",
   "metadata": {},
   "source": []
  },
  {
   "cell_type": "markdown",
   "metadata": {},
   "source": []
  },
  {
   "cell_type": "markdown",
   "metadata": {},
   "source": [
    "# Pokemon Type Effectiveness Chart\n",
    "Pokemon GO allows a player to battle other players with parties of three Pokemons.  A player wins when he manages to knock out his opponent's team of Pokémons.  Like the game of Scissors-Paper-Stone, some Pokemon are \"stronger\" than other Pokemons.  For example, Grass-type Pokemons are stronger than Water-type Pokemons, Water-type Pokemons are stronger than Fire-type Pokemons and in turn, Fire-type Pokemons are stronger than Grass-type Pokemons.  The strategy to win a Pokemon battle is to choose Pokemon types that are \"stronger\" than your opponent's Pokemon types.\n",
    "\n",
    "<img src=\"https://i.redd.it/e84xp7thrt4z.png\" alt=\"Pokemon Type Effectiveness Chart\" width=\"600\"/>\n",
    "\n",
    "The 7th row in the above table defines the strength, weakness and immunity of the _attacking_ __FIGHTING__ type in relation with the other types.  There are five _green +_ in this row indicating that the Fighting type is **strong** (super effective) against Normal, Ice, Rock, Dark and Steel types.  Also, there are five _red -_ in this row indicating that the Fighting type is **weak** (not very effective) against Poison, Flying, Psychic, Bug and Fairy types.  Then the _black X_ indicates that the Ghost type is **immune** to the Fighting type.  Or, we can say that the Fighting type is _double not very effective_ against the Ghost type.  Finally, the rest of the white spaces indicate that the Fighting type is normal or **neutral** effective against Fire, Water, Grass, Electric, Fighting (itself), Ground and Dragon types. \n",
    "\n",
    "From the _defending_ perspective, let's consider the __FLYING__ type of Pokemon as indicated in the 10th column.  A Flying type pokemon is **resistant** to Grass, Fighting and Bug attack moves.  It is **vulnerable** to Electric, Ice and Rock attack moves.  It is **immuned** to Ground attack moves.  It is **neutral** (normal effective) to Normal, Fire, Water, Poison, Flying, Psychic, Ghost, Dragon, Dark, Steel and Fairy attack moves.\n",
    "\n",
    "All Pokemons are either _single-type_ or _dual-type_.  For example, Pikachu (Electric) is a single-type while Balbasaur (Grass/Poison) is a dual-type. For Pokemons that are dual-type, the order of the types is insignificant in battling.  For example WATER/ICE is the same as ICE/WATER.  When an attack move is executed against a dual-type Pokemon, the effectiveness or the ineffectiveness against each of type are _multiplied_ together.  In the case of against one type is **not very effective** and against the other type is **super effective**, they cancel each other and become **normal** or **neutral effective**.  There can be occasions when the attack move is **super effective** or **not very effective** on both types, then the move becomes **double super effective** or **double not very effective**.  \n",
    "\n",
    "Consider the example of a __GROUND__ type attack against Balbasaur which is __GRASS__/__POISON__.  The Ground against Grass is **not very effective** (0.625) and the Ground against Poison is **super effective** (1.6).  The result of the multiplication of 0.625 and 1.6 is 1.0 which is **normal** or **neutral effective**.\n"
   ]
  },
  {
   "cell_type": "markdown",
   "metadata": {},
   "source": [
    "## PokeType Enum\n",
    "This enum defines the 18 types of Pokemons and their attack moves."
   ]
  },
  {
   "cell_type": "code",
   "execution_count": 17,
   "metadata": {},
   "outputs": [
    {
     "name": "stdout",
     "output_type": "stream",
     "text": [
      "PokeType.NORMAL NORMAL 0\n",
      "PokeType.FIRE FIRE 1\n",
      "PokeType.WATER WATER 2\n",
      "PokeType.GRASS GRASS 3\n",
      "PokeType.ELECTRIC ELECTRIC 4\n",
      "PokeType.ICE ICE 5\n",
      "PokeType.FIGHTING FIGHTING 6\n",
      "PokeType.POISON POISON 7\n",
      "PokeType.GROUND GROUND 8\n",
      "PokeType.FLYING FLYING 9\n",
      "PokeType.PSYCHIC PSYCHIC 10\n",
      "PokeType.BUG BUG 11\n",
      "PokeType.ROCK ROCK 12\n",
      "PokeType.GHOST GHOST 13\n",
      "PokeType.DRAGON DRAGON 14\n",
      "PokeType.DARK DARK 15\n",
      "PokeType.STEEL STEEL 16\n",
      "PokeType.FAIRY FAIRY 17\n"
     ]
    }
   ],
   "source": [
    "import enum\n",
    "\n",
    "class PokeType(enum.Enum):\n",
    "    NORMAL = 0 \n",
    "    FIRE = 1 \n",
    "    WATER = 2 \n",
    "    GRASS = 3 \n",
    "    ELECTRIC = 4 \n",
    "    ICE = 5\n",
    "    FIGHTING = 6\n",
    "    POISON = 7\n",
    "    GROUND = 8 \n",
    "    FLYING = 9 \n",
    "    PSYCHIC = 10 \n",
    "    BUG = 11 \n",
    "    ROCK = 12 \n",
    "    GHOST = 13 \n",
    "    DRAGON = 14 \n",
    "    DARK = 15 \n",
    "    STEEL = 16 \n",
    "    FAIRY = 17\n",
    "\n",
    "# Print all Pokemon Types\n",
    "for type in PokeType:\n",
    "    print(type, type.name, type.value) \n",
    "       "
   ]
  },
  {
   "cell_type": "markdown",
   "metadata": {},
   "source": [
    "## Question 1 (3 marks)\n",
    "\n",
    "Using the enum **PokeType** defined in the previous cell and list comprehension, produce a list named **type_list** which contains the 18 Pokemon types.   "
   ]
  },
  {
   "cell_type": "code",
   "execution_count": 18,
   "metadata": {},
   "outputs": [
    {
     "name": "stdout",
     "output_type": "stream",
     "text": [
      "['NORMAL', 'FIRE', 'WATER', 'GRASS', 'ELECTRIC', 'ICE', 'FIGHTING', 'POISON', 'GROUND', 'FLYING', 'PSYCHIC', 'BUG', 'ROCK', 'GHOST', 'DRAGON', 'DARK', 'STEEL', 'FAIRY']\n"
     ]
    }
   ],
   "source": [
    "# Provide your answer here\n",
    "\n",
    "#pokelist = PokeType()\n",
    "#import enum\n",
    "\n",
    "\n",
    "# Print all Pokemon Types\n",
    "#for type in PokeType:\n",
    " #   print(type, type.name, type.value) \n",
    "strTemp=\"\"\n",
    "booCount=0\n",
    "count=0\n",
    "totalEnum = type.value -1\n",
    "\n",
    "#print(type.value)\n",
    "for type in PokeType:\n",
    "    \n",
    "    if(booCount==0):\n",
    "        strTemp=\"[\" + strTemp + \"'\" + type.name + \"', \"\n",
    "        booCount = 1\n",
    "    elif(booCount==1):\n",
    "        #print(type.name)\n",
    "        if(count < totalEnum):\n",
    "            #print(type.value)\n",
    "            count= count+1\n",
    "            strTemp=strTemp + \"'\" + type.name + \"', \"\n",
    "        elif count == totalEnum:\n",
    "            strTemp=strTemp + \"'\" + type.name + \"']\"\n",
    "    \n",
    "\n",
    "print(strTemp)\n",
    "\n",
    "\n",
    "\n",
    "\n",
    "\n",
    "# Expected Outcome\n",
    "# ['Normal', 'Fire', 'Water', 'Grass', 'Electric', 'Ice', 'Fighting', 'Poison', 'Ground', 'Flying', 'Psychic', 'Bug', 'Rock', 'Ghost', 'Dragon', 'Dark', 'Steel', 'Fairy']\n"
   ]
  },
  {
   "cell_type": "markdown",
   "metadata": {},
   "source": [
    "## Question 2 (5 marks)\n",
    "\n",
    "Use **adjacency matrix** to represent the Poke Type Effectiveness Chart.  Name the matrix **pokeTypeTable**.\n"
   ]
  },
  {
   "cell_type": "code",
   "execution_count": 19,
   "metadata": {},
   "outputs": [],
   "source": [
    "SE = 1.6       # Super Effective     (Green Plus)\n",
    "NM = 1.0       # Normal Effective    (Blank) \n",
    "NE = 0.625     # Not Very Effective  (Red Minus)\n",
    "IM = NE * NE   # Immune (0.390625)   (Black Cross)\n",
    "\n",
    "# Provide your answer here\n",
    "#pokeTypeTable = [[],[]]\n",
    "\n",
    "#                                   \t\t\t\ty\n",
    "\n",
    "pokeTypeTable =\t[[\tNM\t,NM\t,NM\t,NM\t,NM\t,NM\t,NM\t,NM\t,NM\t,NM\t,NM\t,NM\t,NE\t,IM\t,NM\t,NM\t,NE\t,NM\t],\t  #0 \n",
    "            \t[\tNM\t,NE\t,NE\t,SE\t,NM\t,SE\t,NM\t,NM\t,NM\t,NM\t,NM\t,SE\t,NE\t,NM\t,NE\t,NM\t,SE\t,NM\t],\t  #1 \n",
    "\t            [\tNM\t,SE\t,NE\t,NE\t,NM\t,NM\t,NM\t,NM\t,SE\t,NM\t,NM\t,NM\t,SE\t,NM\t,NE\t,NM\t,NM\t,NM\t],\t  #2\n",
    "\t            [\tNM\t,NE\t,SE\t,NE\t,NM\t,NM\t,NM\t,NE\t,SE\t,NE\t,NM\t,NE\t,SE\t,NM\t,NE\t,NM\t,NE\t,NM\t],\t  #3\n",
    "\t            [\tNM\t,NM\t,SE\t,NE\t,NE\t,NM\t,NM\t,NM\t,IM\t,SE\t,NM\t,NM\t,NM\t,NM\t,NE\t,NM\t,NM\t,NM\t],\t  #4\n",
    "\t            [\tNM\t,NE\t,NE\t,SE\t,NM\t,NE\t,NM\t,NM\t,SE\t,SE\t,NM\t,NM\t,NM\t,NM\t,SE\t,NM\t,NE\t,NM\t],\t  #5\n",
    "\t            [\tSE\t,NM\t,NM\t,NM\t,NM\t,SE\t,NM\t,NE\t,NM\t,NE\t,NE\t,NE\t,SE\t,IM\t,NM\t,SE\t,SE\t,NE\t],\t  #6\n",
    "       \t        [\tNM\t,NM\t,NM\t,SE\t,NM\t,NM\t,NM\t,NE\t,NE\t,NM\t,NM\t,NM\t,NE\t,NE\t,NM\t,NM\t,IM\t,SE\t],\t  #7\n",
    "\t            [\tNM\t,SE\t,NM\t,NE\t,SE\t,NM\t,NM\t,SE\t,NM\t,IM\t,NM\t,NE\t,SE\t,NM\t,NM\t,NM\t,SE\t,NM\t],\t  #8  : x\n",
    "\t            [\tNM\t,NM\t,NM\t,SE\t,NE\t,NM\t,SE\t,NM\t,NM\t,NM\t,NM\t,SE\t,NE\t,NM\t,NM\t,NM\t,NE\t,NM\t],\t  #9\n",
    "            \t[\tNM\t,NM\t,NM\t,NM\t,NM\t,NM\t,SE\t,SE\t,NM\t,NM\t,NE\t,NM\t,NM\t,NM\t,NM\t,IM\t,NE\t,NM\t],\t  #10\n",
    "\t            [\tNM\t,NE\t,NM\t,SE\t,NM\t,NM\t,NE\t,NE\t,NM\t,NE\t,SE\t,NM\t,NM\t,NE\t,NM\t,SE\t,NE\t,NE\t],\t  #11\n",
    "            \t[\tNM\t,SE\t,NM\t,NM\t,NM\t,SE\t,NE\t,NM\t,NE\t,SE\t,NM\t,SE\t,NM\t,NM\t,NM\t,NM\t,NE\t,NM\t],\t  #12\n",
    "\t            [\tIM\t,NM\t,NM\t,NM\t,NM\t,NM\t,NM\t,NM\t,NM\t,NM\t,SE\t,NM\t,NM\t,SE\t,NM\t,NE\t,NE\t,NM\t],\t  #13 \n",
    "\t            [\tNM\t,NM\t,NM\t,NM\t,NM\t,NM\t,NM\t,NM\t,NM\t,NM\t,NM\t,NM\t,NM\t,NM\t,SE\t,NM\t,NE\t,IM\t],\t  #14 \n",
    "            \t[\tNM\t,NM\t,NM\t,NM\t,NM\t,NM\t,NE\t,NM\t,NM\t,NM\t,SE\t,NM\t,NM\t,SE\t,NM\t,NE\t,NE\t,NE\t],\t  #15\n",
    "\t            [\tNM\t,NE\t,NE\t,NM\t,NM\t,SE\t,NM\t,NM\t,NM\t,NM\t,NM\t,NM\t,SE\t,NM\t,NM\t,NM\t,NE\t,SE\t],\t  #16 \n",
    "\t            [\tNM\t,NE\t,NM\t,NM\t,NM\t,NM\t,SE\t,NE\t,NM\t,NM\t,NM\t,NM\t,NM\t,NM\t,SE\t,SE\t,NE\t,NM\t]]    #17\n",
    "\n",
    "#subpoke = pokeTypeTable[16] # x \n",
    "\n",
    "#print(subpoke[11])          # y\n",
    "\n",
    "\n",
    "\n",
    "\n",
    "\n",
    "\n",
    "\n"
   ]
  },
  {
   "cell_type": "markdown",
   "metadata": {},
   "source": [
    "## Question 3 (3 Marks)\n",
    "\n",
    "From the attacking perspective, what type(s) is a FIRE type pokemon **strong** against?  Write code to print the types that a FIRE type is strong against given this statement.<br> \n",
    "<code>attacker = PokeType.FIRE</code>"
   ]
  },
  {
   "cell_type": "code",
   "execution_count": 20,
   "metadata": {},
   "outputs": [
    {
     "name": "stdout",
     "output_type": "stream",
     "text": [
      "GRASS, ICE, BUG, STEEL, \n"
     ]
    }
   ],
   "source": [
    "#SE = 1.6       # Super Effective     (Green Plus)XXXXXXX\n",
    "#NM = 1.0       # Normal Effective    (Blank) \n",
    "#NE = 0.625     # Not Very Effective  (Red Minus)\n",
    "#IM = NE * NE   # Immune (0.390625)   (Black Cross)\n",
    "\n",
    "attacker = PokeType.FIRE\n",
    "\n",
    "#print(attacker.value)   >>> 1\n",
    "\n",
    "tempFinal = SE\n",
    "arrayTemp = []\n",
    "count2 = 0\n",
    "\n",
    "subpoke = pokeTypeTable[attacker.value]\n",
    "for x in subpoke:  # [\tNM\t,NE\t,NE\t,SE\t,NM\t,SE\t,NM\t,NM\t,NM\t,NM\t,NM\t,SE\t,NE\t,NM\t,NE\t,NM\t,SE\t,11\t],\t  #1 \n",
    "    #print(x)\n",
    "    if tempFinal == x :\n",
    "        arrayTemp.append(count2)\n",
    "        #print(count2)\n",
    "    count2 = count2 + 1\n",
    "\n",
    "#print(arrayTemp) >>> [3, 5, 11, 16]\n",
    "tempText = \"\"\n",
    "\n",
    "for at in arrayTemp:\n",
    "    #print(at)   >>> 3   5   11   16\n",
    "    for type2 in PokeType:\n",
    "        if at==type2.value:\n",
    "            # print(type2.name)   >>> Grass     Ice      Bug     Steel\n",
    "            tempText = tempText + type2.name + \", \"\n",
    "\n",
    "print(tempText)\n",
    "\n",
    "# Expected Output: Grass, Ice, Bug, Steel, "
   ]
  },
  {
   "cell_type": "markdown",
   "metadata": {},
   "source": [
    "## Question 4 (3 Marks)\n",
    "\n",
    "From the attacking perspective, what type(s) is a FIGHTING type pokemon **weak** against?  Write code to print the types that a FIGHTING type is **weak** against given this statement.<br>\n",
    "<code>attacker = PokeType.FIGHTING</code>\n"
   ]
  },
  {
   "cell_type": "code",
   "execution_count": 21,
   "metadata": {},
   "outputs": [
    {
     "name": "stdout",
     "output_type": "stream",
     "text": [
      "POISON, FLYING, PSYCHIC, BUG, GHOST, FAIRY, \n"
     ]
    }
   ],
   "source": [
    "attacker = PokeType.FIGHTING\n",
    "#SE = 1.6       # Super Effective     (Green Plus)\n",
    "#NM = 1.0       # Normal Effective    (Blank) \n",
    "#NE = 0.625     # Not Very Effective  (Red Minus)\n",
    "#IM = NE * NE   # Immune (0.390625)   (Black Cross)\n",
    "# Provide your answer here\n",
    "\n",
    "tempFinal = [NE,IM]\n",
    "arrayTemp = []\n",
    "count2 = 0\n",
    "\n",
    "subpoke = pokeTypeTable[attacker.value]\n",
    "for x in subpoke: \n",
    "    #print(x)\n",
    "    for tf in tempFinal:\n",
    "        if tf == x:\n",
    "            arrayTemp.append(count2)\n",
    "            #print(count2)\n",
    "    count2 = count2 + 1\n",
    "\n",
    "#print(arrayTemp)# >>> [3, 5, 11, 16]\n",
    "tempText = \"\"\n",
    "\n",
    "for at in arrayTemp:\n",
    "    #print(at)   >>> 3   5   11   16\n",
    "    for type2 in PokeType:\n",
    "        if at==type2.value:\n",
    "            # print(type2.name)   >>> Grass     Ice      Bug     Steel\n",
    "            tempText = tempText + type2.name + \", \"\n",
    "\n",
    "print(tempText)\n",
    "\n",
    "\n",
    "\n",
    "\n",
    "\n",
    "# Expected Output: Poison, Flying, Psychic, Bug, Ghost, Fairy, "
   ]
  },
  {
   "cell_type": "markdown",
   "metadata": {},
   "source": [
    "## Question 5 (3 Marks)\n",
    "From the defending perspective, what attack move type(s) is a DRAGON type pokemon **neutral** to?  Write code to print the type(s) that a DRAGON type is **neutral** to given this statement <br>\n",
    "<code>\n",
    "defender = PokeType.DRAGON\n",
    "</code>\n"
   ]
  },
  {
   "cell_type": "code",
   "execution_count": 22,
   "metadata": {},
   "outputs": [
    {
     "name": "stdout",
     "output_type": "stream",
     "text": [
      "NORMAL, FIGHTING, POISON, GROUND, FLYING, PSYCHIC, BUG, ROCK, GHOST, DARK, STEEL, \n"
     ]
    }
   ],
   "source": [
    "defender = PokeType.DRAGON\n",
    "\n",
    "# Provide your answer here\n",
    "#SE = 1.6       # Super Effective     (Green Plus)\n",
    "#NM = 1.0       # Normal Effective    (Blank) \n",
    "#NE = 0.625     # Not Very Effective  (Red Minus)\n",
    "#IM = NE * NE   # Immune (0.390625)   (Black Cross)\n",
    "# Provide your answer here\n",
    "\n",
    "tempFinal = [NM]\n",
    "arrayTemp = []\n",
    "count = 0\n",
    "tempText2= \"\"\n",
    "tempArray2 = []   # The purpose is to collect count number to be used on the PokeType\n",
    "#print(defender.value)   >>> 14\n",
    "\n",
    "for checkTable in pokeTypeTable:\n",
    "    # print(checkTable)\n",
    "        tempArray2.append(checkTable[defender.value])  \n",
    "# within the Array, i just want to retrieve number to create another array in a column format.\n",
    "\n",
    "# print(tempArray2) >>> [1.0, 0.625, 0.625, 0.625, 0.625, 1.6, 1.0, 1.0, 1.0, 1.0, 1.0, 1.0, 1.0, 1.0, 1.6, 1.0, 1.0, 1.6]\n",
    "\n",
    "for ta in tempArray2:\n",
    "    if(NM==ta):\n",
    "        arrayTemp.append(count)\n",
    "    count = count + 1    \n",
    "\n",
    "# print(arrayTemp)   >>> [0, 6, 7, 8, 9, 10, 11, 12, 13, 15, 16]\n",
    "\n",
    "for type3 in PokeType:\n",
    "    for at in arrayTemp:\n",
    "        if at == type3.value:\n",
    "            tempText2 = tempText2 + type3.name + \", \"\n",
    "\n",
    "print(tempText2)\n",
    "\n",
    "# Normal, Fighting, Poison, Ground, Flying, Psychic, Bug, Rock, Ghost, Dark, Steel,"
   ]
  },
  {
   "cell_type": "markdown",
   "metadata": {},
   "source": [
    "## Question 6 (3 Marks)\n",
    "From the defending perspective, what attack move type(s) is a dual type STEEL/FAIRY pokemon **resistant** to?  Write code to print out the type(s) given these statements.<br>\n",
    "<code>\n",
    "defender1 = PokeType.STEEL<br>\n",
    "defender2 = PokeType.FAIRY\n",
    "</code>\n"
   ]
  },
  {
   "cell_type": "code",
   "execution_count": 23,
   "metadata": {},
   "outputs": [
    {
     "name": "stdout",
     "output_type": "stream",
     "text": [
      "NORMAL, GRASS, ICE, POISON, FLYING, PSYCHIC, BUG, ROCK, GHOST, DRAGON, DARK, FAIRY, \n"
     ]
    }
   ],
   "source": [
    "defender1 = PokeType.STEEL\n",
    "defender2 = PokeType.FAIRY\n",
    "\n",
    "# Provide your answer here\n",
    "\n",
    "# Provide your answer here\n",
    "#SE = 1.6       # Super Effective     (Green Plus)\n",
    "#NM = 1.0       # Normal Effective    (Blank) \n",
    "#NE = 0.625     # Not Very Effective  (Red Minus)\n",
    "#IM = NE * NE   # Immune (0.390625)   (Black Cross)\n",
    "# Provide your answer here\n",
    "\n",
    "tempText2= \"\"\n",
    "tempArray1 = []   # The purpose is to collect count number to be used on the PokeType\n",
    "tempArray2 = []   # The purpose is to collect count number to be used on the PokeType\n",
    "\n",
    "for checkTable in pokeTypeTable:\n",
    "    # print(checkTable)\n",
    "        tempArray1.append(checkTable[defender1.value])  \n",
    "        tempArray2.append(checkTable[defender2.value])  \n",
    "# within the Array, i just want to retrieve number to create another array in a column format.\n",
    "\n",
    "tempArray3 = []\n",
    "x =0\n",
    "for x in range(len(tempArray1)):\n",
    "        tempArray3.append(tempArray1[x]*tempArray2[x])  \n",
    "\n",
    "arrayTemp = []\n",
    "count = 0\n",
    "for ta3 in tempArray3:\n",
    "    if ta3==NE or ta3<=IM:\n",
    "        arrayTemp.append(count)\n",
    "    count = count + 1\n",
    "\n",
    "tempText2 = \"\"\n",
    "\n",
    "for type4 in PokeType:\n",
    "    for at in arrayTemp:\n",
    "        if at == type4.value:\n",
    "            tempText2 = tempText2 + type4.name + \", \"\n",
    "\n",
    "print(tempText2)\n",
    "\n",
    "# Expected Output: Normal, Grass, Ice, Poison, Flying, Psychic, Bug, Rock, Ghost, Dragon, Dark, Fairy,"
   ]
  },
  {
   "cell_type": "markdown",
   "metadata": {},
   "source": [
    "## Question 7 (5 marks)\n",
    "\n",
    "Using the **type_list** of 18 pokemon types, write code to generate a list of tuples of all possible combination of dual types without repetition (E.g. Water,Ice and Ice,Water are the same and should not be repeated).  Solution using functional programming will be preferred over imperative programming."
   ]
  },
  {
   "cell_type": "code",
   "execution_count": 24,
   "metadata": {},
   "outputs": [
    {
     "name": "stdout",
     "output_type": "stream",
     "text": [
      "[('Normal', 'Fire'), ('Normal', 'Water'), ('Normal', 'Grass'), ('Normal', 'Electric'), ('Normal', 'Ice'), ('Normal', 'Fighting'), ('Normal', 'Poison'), ('Normal', 'Ground'), ('Normal', 'Flying'), ('Normal', 'Psychic'), ('Normal', 'Bug'), ('Normal', 'Rock'), ('Normal', 'Ghost'), ('Normal', 'Dragon'), ('Normal', 'Dark'), ('Normal', 'Steel'), ('Normal', 'Fairy'), ('Fire', 'Water'), ('Fire', 'Grass'), ('Fire', 'Electric'), ('Fire', 'Ice'), ('Fire', 'Fighting'), ('Fire', 'Poison'), ('Fire', 'Ground'), ('Fire', 'Flying'), ('Fire', 'Psychic'), ('Fire', 'Bug'), ('Fire', 'Rock'), ('Fire', 'Ghost'), ('Fire', 'Dragon'), ('Fire', 'Dark'), ('Fire', 'Steel'), ('Fire', 'Fairy'), ('Water', 'Grass'), ('Water', 'Electric'), ('Water', 'Ice'), ('Water', 'Fighting'), ('Water', 'Poison'), ('Water', 'Ground'), ('Water', 'Flying'), ('Water', 'Psychic'), ('Water', 'Bug'), ('Water', 'Rock'), ('Water', 'Ghost'), ('Water', 'Dragon'), ('Water', 'Dark'), ('Water', 'Steel'), ('Water', 'Fairy'), ('Grass', 'Electric'), ('Grass', 'Ice'), ('Grass', 'Fighting'), ('Grass', 'Poison'), ('Grass', 'Ground'), ('Grass', 'Flying'), ('Grass', 'Psychic'), ('Grass', 'Bug'), ('Grass', 'Rock'), ('Grass', 'Ghost'), ('Grass', 'Dragon'), ('Grass', 'Dark'), ('Grass', 'Steel'), ('Grass', 'Fairy'), ('Electric', 'Ice'), ('Electric', 'Fighting'), ('Electric', 'Poison'), ('Electric', 'Ground'), ('Electric', 'Flying'), ('Electric', 'Psychic'), ('Electric', 'Bug'), ('Electric', 'Rock'), ('Electric', 'Ghost'), ('Electric', 'Dragon'), ('Electric', 'Dark'), ('Electric', 'Steel'), ('Electric', 'Fairy'), ('Ice', 'Fighting'), ('Ice', 'Poison'), ('Ice', 'Ground'), ('Ice', 'Flying'), ('Ice', 'Psychic'), ('Ice', 'Bug'), ('Ice', 'Rock'), ('Ice', 'Ghost'), ('Ice', 'Dragon'), ('Ice', 'Dark'), ('Ice', 'Steel'), ('Ice', 'Fairy'), ('Fighting', 'Poison'), ('Fighting', 'Ground'), ('Fighting', 'Flying'), ('Fighting', 'Psychic'), ('Fighting', 'Bug'), ('Fighting', 'Rock'), ('Fighting', 'Ghost'), ('Fighting', 'Dragon'), ('Fighting', 'Dark'), ('Fighting', 'Steel'), ('Fighting', 'Fairy'), ('Poison', 'Ground'), ('Poison', 'Flying'), ('Poison', 'Psychic'), ('Poison', 'Bug'), ('Poison', 'Rock'), ('Poison', 'Ghost'), ('Poison', 'Dragon'), ('Poison', 'Dark'), ('Poison', 'Steel'), ('Poison', 'Fairy'), ('Ground', 'Flying'), ('Ground', 'Psychic'), ('Ground', 'Bug'), ('Ground', 'Rock'), ('Ground', 'Ghost'), ('Ground', 'Dragon'), ('Ground', 'Dark'), ('Ground', 'Steel'), ('Ground', 'Fairy'), ('Flying', 'Psychic'), ('Flying', 'Bug'), ('Flying', 'Rock'), ('Flying', 'Ghost'), ('Flying', 'Dragon'), ('Flying', 'Dark'), ('Flying', 'Steel'), ('Flying', 'Fairy'), ('Psychic', 'Bug'), ('Psychic', 'Rock'), ('Psychic', 'Ghost'), ('Psychic', 'Dragon'), ('Psychic', 'Dark'), ('Psychic', 'Steel'), ('Psychic', 'Fairy'), ('Bug', 'Rock'), ('Bug', 'Ghost'), ('Bug', 'Dragon'), ('Bug', 'Dark'), ('Bug', 'Steel'), ('Bug', 'Fairy'), ('Rock', 'Ghost'), ('Rock', 'Dragon'), ('Rock', 'Dark'), ('Rock', 'Steel'), ('Rock', 'Fairy'), ('Ghost', 'Dragon'), ('Ghost', 'Dark'), ('Ghost', 'Steel'), ('Ghost', 'Fairy'), ('Dragon', 'Dark'), ('Dragon', 'Steel'), ('Dragon', 'Fairy'), ('Dark', 'Steel'), ('Dark', 'Fairy'), ('Steel', 'Fairy')] \n"
     ]
    }
   ],
   "source": [
    "type_list = ['Normal', 'Fire', 'Water', 'Grass', 'Electric', 'Ice', 'Fighting', 'Poison', 'Ground', 'Flying', 'Psychic', 'Bug', 'Rock', 'Ghost', 'Dragon', 'Dark', 'Steel', 'Fairy']\n",
    "\n",
    "# Provide your answer here\n",
    "\n",
    "arrayMain = []\n",
    "\n",
    "for tl in type_list:\n",
    "    for type5 in PokeType:\n",
    "        tempText = type5.name\n",
    "        if tl != tempText.title():\n",
    "            arraySub = []        # reset the array to null everytime during a for loop\n",
    "            arraySub.append(tl)\n",
    "            arraySub.append(tempText.title())\n",
    "\n",
    "            arrayMain.append(arraySub)   # Append an sub array within a main array\n",
    "\n",
    "for s1 in arrayMain:\n",
    "    for s2 in arrayMain:\n",
    "        if s1[0]==s2[1] and s1[1]==s2[0]: # Cross check\n",
    "            arrayMain.remove(s2)  # remove duplication\n",
    "            #print(s2)\n",
    "           # textCheck1 - Normal   TextCheck2 - fire \n",
    "           #     x                      o            \n",
    "           #          x             o                \n",
    "           #               o  x                         \n",
    "           #          o             x                  \n",
    "           # arraySub3[0]        array Sub3[1]   \n",
    "\n",
    "tempBuffer = \"[\"\n",
    "count = 0\n",
    "for ans in arrayMain:\n",
    "    if count < (len(arrayMain)-1): \n",
    "        tempBuffer = tempBuffer + (lambda a,b : \"('\" + a + \"', '\" + b + \"'), \")(ans[0],ans[1])\n",
    "        count = count + 1\n",
    "    elif count == (len(arrayMain)-1):\n",
    "        tempBuffer = tempBuffer + (lambda a,b : \"('\" + a + \"', '\" + b + \"')] \")(ans[0],ans[1])\n",
    "    \n",
    "print(tempBuffer) \n",
    "\n",
    "\n",
    "\n",
    "\n",
    "\n",
    "# Expected Output: [('Normal', 'Fire'), ('Normal', 'Water'), ('Normal', 'Grass'), .... , ('Steel', 'Fairy')]"
   ]
  }
 ],
 "metadata": {
  "interpreter": {
   "hash": "ee5cc6fef2d70a7e71ee3826687cbd150f18158e0b1eef11d4f4f92bb920e304"
  },
  "kernelspec": {
   "display_name": "Python 3.9.7 64-bit",
   "name": "python3"
  },
  "language_info": {
   "codemirror_mode": {
    "name": "ipython",
    "version": 3
   },
   "file_extension": ".py",
   "mimetype": "text/x-python",
   "name": "python",
   "nbconvert_exporter": "python",
   "pygments_lexer": "ipython3",
   "version": "3.9.7"
  },
  "orig_nbformat": 2
 },
 "nbformat": 4,
 "nbformat_minor": 2
}
