{
 "cells": [
  {
   "cell_type": "markdown",
   "metadata": {},
   "source": [
    "## Imports"
   ]
  },
  {
   "cell_type": "code",
   "execution_count": 21,
   "metadata": {},
   "outputs": [],
   "source": [
    "from functools import partial\n",
    "from functools import reduce\n",
    "import csv\n"
   ]
  },
  {
   "cell_type": "markdown",
   "metadata": {},
   "source": [
    "# Recursion"
   ]
  },
  {
   "cell_type": "markdown",
   "metadata": {},
   "source": [
    "## Introduction\n",
    "\n",
    " Recursion is a powerful algorithmic technique in which a function calls itself (either directly or indirectly) on a smaller problem of the same type in order to simplify the problem to a solvable state.\n",
    "\n",
    "Every recursive function must have at least two cases: the _recursive case_ and the _base case_. The base case is a small problem that we know how to solve and is the case that causes the recursion to end. The recursive case is the more general case of the problem we're trying to solve. As an example, with the factorial function n!, the recursive case is n! = n*(n - 1)! and the base case is n = 1 when n == 0 or n == 1.\n",
    "\n",
    "Recursive techniques can often present simple and elegant solutions to problems. However, they are not always the most efficient. Recursive functions often use a good deal of memory and stack space during their operation. The stack space is the memory set aside for a program to use to keep track of all of the functions and their local states currently in the middle of execution. Because they are easy to implement but relatively inefficient, recursive solutions are often best used in cases where development time is a significant concern.  (Taken from [Spark Notes](https://www.sparknotes.com/cs/recursion/whatisrecursion/summary/))"
   ]
  },
  {
   "cell_type": "markdown",
   "metadata": {},
   "source": [
    "## Examples"
   ]
  },
  {
   "cell_type": "code",
   "execution_count": 22,
   "metadata": {},
   "outputs": [],
   "source": [
    "def factorial_i(n: int) -> int:\n",
    "    '''Factorial using iteration'''\n",
    "    assert n >= 0\n",
    "    result: int = 1\n",
    "    for i in range(1, n+1):\n",
    "        result *= i\n",
    "    return result\n"
   ]
  },
  {
   "cell_type": "code",
   "execution_count": 23,
   "metadata": {},
   "outputs": [],
   "source": [
    "def factorial_r(n: int) -> int:\n",
    "    '''Factorial using recursion'''\n",
    "    assert n >= 0\n",
    "    if (n <= 1):\n",
    "        return 1\n",
    "    else:\n",
    "        return n * factorial_r(n-1)\n",
    "\n"
   ]
  },
  {
   "cell_type": "code",
   "execution_count": 24,
   "metadata": {},
   "outputs": [
    {
     "name": "stdout",
     "output_type": "stream",
     "text": [
      "0 1 1\n",
      "1 1 1\n",
      "2 2 2\n",
      "3 6 6\n",
      "4 24 24\n",
      "5 120 120\n"
     ]
    }
   ],
   "source": [
    "for n in range(0, 6):\n",
    "    print(n, factorial_i(n), factorial_r(n))\n",
    "    "
   ]
  },
  {
   "cell_type": "markdown",
   "metadata": {},
   "source": [
    "### Exercises"
   ]
  },
  {
   "cell_type": "code",
   "execution_count": 25,
   "metadata": {},
   "outputs": [
    {
     "name": "stdout",
     "output_type": "stream",
     "text": [
      "10 9 8 7 6 5 4 3 2 1 0 \n",
      "10 9 8 7 6 5 4 3 2 1 0\n"
     ]
    }
   ],
   "source": [
    "### Count down from X to 0\n",
    "def count_down_i(x):\n",
    "    for n in range(x, -1, -1):\n",
    "        print(n, end=\" \")\n",
    "    print();\n",
    "\n",
    "count_down_i(10)\n",
    "\n",
    "\n",
    "# TODO : Write the recursive version here\n",
    "def count_down(x):\n",
    "    if x == 0: \n",
    "        print(x)\n",
    "    else:\n",
    "        print(x, end=\" \")\n",
    "        count_down(x - 1)\n",
    "\n",
    "count_down(10)\n"
   ]
  },
  {
   "cell_type": "code",
   "execution_count": 26,
   "metadata": {},
   "outputs": [
    {
     "name": "stdout",
     "output_type": "stream",
     "text": [
      "1 2 3 4 5 6 7 8 9 10 \n",
      "1 2 3 4 5 6 7 8 9 10 "
     ]
    }
   ],
   "source": [
    "### Count from 1 to X\n",
    "def count_up_i(x):\n",
    "    for n in range(x):\n",
    "        print(n+1, end=\" \")\n",
    "    print();\n",
    "\n",
    "count_up_i(10)\n",
    "\n",
    "# TODO : Write the recursive version here\n",
    "def count_up(x):\n",
    "    if x == 1: \n",
    "        print(1, end=\" \")\n",
    "    else:\n",
    "        count_up(x - 1)\n",
    "        print(x, end=\" \")\n",
    "\n",
    "count_up(10)\n"
   ]
  },
  {
   "cell_type": "code",
   "execution_count": 27,
   "metadata": {},
   "outputs": [
    {
     "name": "stdout",
     "output_type": "stream",
     "text": [
      "0 1 1 2 3 5 8 13 21 34 \n",
      "0 1 1 2 3 5 8 13 21 34 "
     ]
    }
   ],
   "source": [
    "# The Fibonacci sequence starts with 0 and 1.  The next number in the sequence is the addition of the previous two number.\n",
    "# Hence the Fibonacci sequence is 0, 1, 1, 2, 3, 5, 8, 13 and so on.\n",
    "def Fibonacci_i(x) -> int:\n",
    "    a, b = 0, 1\n",
    "    if x == 1: \n",
    "        return a\n",
    "    if x in [1, 2]: \n",
    "        return b\n",
    "    else: \n",
    "        for i in range(2, x):\n",
    "            c = a + b\n",
    "            a = b\n",
    "            b = c\n",
    "        return b\n",
    "\n",
    "for i in range(10):\n",
    "    print(Fibonacci_i(i+1), end=\" \") \n",
    "print()\n",
    "\n",
    "# TODO : Write the recursive version here\n",
    "def Fibonacci(x) -> int:\n",
    "    if x == 1: \n",
    "        return 0\n",
    "    if x in [1, 2]: \n",
    "        return 1\n",
    "    else: \n",
    "        return Fibonacci(x-2) + Fibonacci(x-1)\n",
    "\n",
    "for i in range(10):\n",
    "    print(Fibonacci(i+1), end=\" \")\n",
    "\n"
   ]
  },
  {
   "cell_type": "code",
   "execution_count": 28,
   "metadata": {},
   "outputs": [
    {
     "name": "stdout",
     "output_type": "stream",
     "text": [
      "R True\n",
      "Ee True\n",
      "reffer True\n",
      "radar True\n",
      "level True\n",
      "reviver True\n",
      "Hannah True\n",
      "Otto True\n",
      "xy False\n",
      "apple False\n",
      "R True\n",
      "Ee True\n",
      "reffer True\n",
      "radar True\n",
      "level True\n",
      "reviver True\n",
      "Hannah True\n",
      "Otto True\n",
      "xy False\n",
      "apple False\n"
     ]
    }
   ],
   "source": [
    "# A palindrome is a word that reads the same backward as it does forward. \n",
    "# Examples include the following words: madam, refer, radar, level, reviver, Hannah, Otto, Bob.\n",
    "\n",
    "def is_palindrome_i(word):\n",
    "    for i in range(len(word) // 2):\n",
    "        if word[i] != word[-(i+1)]:\n",
    "            return False\n",
    "    return True\n",
    "\n",
    "for word in ['R', 'Ee', 'reffer', 'radar', 'level', 'reviver', 'Hannah', 'Otto', 'xy', 'apple']:\n",
    "    print(word, is_palindrome_i(word.upper()))\n",
    "\n",
    "### Write the recursive version here\n",
    "#\n",
    "# HINTS\n",
    "# - The first character is word[0].\n",
    "# - The last character is word[-1].\n",
    "# - The substring between the first and last characters is word[1:-1].\n",
    "#\n",
    "def is_palindrome(word):\n",
    "    if len(word) <= 1:\n",
    "        return True\n",
    "    else:\n",
    "        return word[0] == word[-1] and is_palindrome(word[1:-1])\n",
    "\n",
    "for word in ['R', 'Ee', 'reffer', 'radar', 'level', 'reviver', 'Hannah', 'Otto', 'xy', 'apple']:\n",
    "    print(word, is_palindrome(word.upper()))\n",
    "    "
   ]
  },
  {
   "cell_type": "markdown",
   "metadata": {},
   "source": [
    "# Functional Programming"
   ]
  },
  {
   "cell_type": "markdown",
   "metadata": {},
   "source": [
    "# Introduction\n",
    "\n",
    "In computer science, functional programming is a programming paradigm where programs are constructed by applying and composing functions. It is a declarative programming paradigm in which function definitions are trees of expressions that map values to other values, rather than a sequence of imperative statements which update the running state of the program.  (Taken from [Wikipedia](https://en.wikipedia.org/wiki/Functional_programming))"
   ]
  },
  {
   "cell_type": "markdown",
   "metadata": {},
   "source": [
    "## Anonymous Functions with Lambda"
   ]
  },
  {
   "cell_type": "code",
   "execution_count": 29,
   "metadata": {},
   "outputs": [
    {
     "name": "stdout",
     "output_type": "stream",
     "text": [
      "11\n",
      "5\n"
     ]
    }
   ],
   "source": [
    "# Takes two parameters and add them together\n",
    "lambda a, b: a + b\n",
    "\n",
    "# Define a function and call it with 5, 6\n",
    "print((lambda a, b: a + b)(5, 6)) \n",
    "\n",
    "# Assign a function to variable plus \n",
    "plus = lambda a, b: a + b\n",
    "# Call plus with 2, 3\n",
    "print(plus(2, 3))\n"
   ]
  },
  {
   "cell_type": "markdown",
   "metadata": {},
   "source": [
    "## First Class Functions"
   ]
  },
  {
   "cell_type": "code",
   "execution_count": 30,
   "metadata": {},
   "outputs": [
    {
     "name": "stdout",
     "output_type": "stream",
     "text": [
      "1024\n",
      "1024\n"
     ]
    }
   ],
   "source": [
    "def power(base: int, exp: int) -> int:\n",
    "    return base ** exp\n",
    "print(power(2, 10))  #prints 1024\n",
    "\n",
    "func = power #variable that stores function\n",
    "print(func(2, 10))   #prints 1024\n"
   ]
  },
  {
   "cell_type": "markdown",
   "metadata": {},
   "source": [
    "## Partial Functions (Currying)"
   ]
  },
  {
   "cell_type": "code",
   "execution_count": 31,
   "metadata": {},
   "outputs": [
    {
     "name": "stdout",
     "output_type": "stream",
     "text": [
      "81\n"
     ]
    }
   ],
   "source": [
    "### from functools import partial\n",
    "\n",
    "square = partial(power, exp=2)\n",
    "print(square(9))\n"
   ]
  },
  {
   "cell_type": "markdown",
   "metadata": {},
   "source": [
    "## Map"
   ]
  },
  {
   "cell_type": "code",
   "execution_count": 32,
   "metadata": {},
   "outputs": [
    {
     "name": "stdout",
     "output_type": "stream",
     "text": [
      "[1, 4, 9, 16, 25]\n",
      "[1, 4, 9, 16, 25]\n"
     ]
    }
   ],
   "source": [
    "# Imperative\n",
    "items = [1, 2, 3, 4, 5]\n",
    "squared = []\n",
    "for i in items:\n",
    "    squared.append(i**2)\n",
    "print(squared)\n",
    "\n",
    "# Functional\n",
    "squared = map(lambda x: x**2, items)\n",
    "print(list(squared))\n"
   ]
  },
  {
   "cell_type": "code",
   "execution_count": 33,
   "metadata": {},
   "outputs": [
    {
     "name": "stdout",
     "output_type": "stream",
     "text": [
      "[4, 4, 3]\n"
     ]
    }
   ],
   "source": [
    "name_lengths = map(len, [\"Mary\", \"Isla\", \"Sam\"])\n",
    "print(list(name_lengths)) \n"
   ]
  },
  {
   "cell_type": "markdown",
   "metadata": {},
   "source": [
    "## Filter"
   ]
  },
  {
   "cell_type": "code",
   "execution_count": 34,
   "metadata": {},
   "outputs": [
    {
     "name": "stdout",
     "output_type": "stream",
     "text": [
      "[-5, -4, -3, -2, -1, 0, 1, 2, 3, 4]\n",
      "[-5, -4, -3, -2, -1]\n",
      "[-4, -2, 0, 2, 4]\n",
      "[-5, -3, -1, 1, 3]\n"
     ]
    }
   ],
   "source": [
    "number_list = list(range(-5, 5))\n",
    "print(number_list)\n",
    "\n",
    "less_than_zero = list(filter(lambda x: x < 0, number_list))\n",
    "print(less_than_zero)\n",
    "\n",
    "even_numbers = list(filter(lambda x: x % 2 == 0, number_list))\n",
    "print(even_numbers)\n",
    "\n",
    "odd_numbers = list(filter(lambda x: x % 2 == 1, number_list))\n",
    "print(odd_numbers)\n"
   ]
  },
  {
   "cell_type": "markdown",
   "metadata": {},
   "source": [
    "## Reduce"
   ]
  },
  {
   "cell_type": "code",
   "execution_count": 35,
   "metadata": {},
   "outputs": [
    {
     "name": "stdout",
     "output_type": "stream",
     "text": [
      "24\n",
      "24\n"
     ]
    }
   ],
   "source": [
    "### from functools import reduce\n",
    "\n",
    "product = 1\n",
    "number_list = [1, 2, 3, 4]\n",
    "for num in number_list:\n",
    "    product = product * num\n",
    "print(product)\n",
    "\n",
    "product = reduce((lambda x, y: x * y), number_list)\n",
    "print(product)\n"
   ]
  },
  {
   "cell_type": "code",
   "execution_count": 36,
   "metadata": {},
   "outputs": [
    {
     "name": "stdout",
     "output_type": "stream",
     "text": [
      "Apple Banana Cherry Durian Elderberry\n"
     ]
    }
   ],
   "source": [
    "fruit_list = [\"Apple\", \"Banana\", \"Cherry\", \"Durian\", \"Elderberry\"]\n",
    "fruit_string = reduce(lambda x, y: x + \" \" + y, fruit_list)\n",
    "\n",
    "print(fruit_string)\n"
   ]
  },
  {
   "cell_type": "markdown",
   "metadata": {},
   "source": [
    "## List Comprehension"
   ]
  },
  {
   "cell_type": "code",
   "execution_count": 37,
   "metadata": {},
   "outputs": [
    {
     "name": "stdout",
     "output_type": "stream",
     "text": [
      "[1, 4, 9, 16]\n"
     ]
    }
   ],
   "source": [
    "# Procedural\n",
    "squares = []\n",
    "for x in (1, 2, 3, 4):\n",
    "    squares.append(x * x)\n",
    "\n",
    "# Comprehension\n",
    "squares = [x * x for x in (1, 2, 3, 4)]\n",
    "# [1, 4, 9, 16]\n",
    "print(squares)\n"
   ]
  },
  {
   "cell_type": "code",
   "execution_count": 38,
   "metadata": {},
   "outputs": [
    {
     "name": "stdout",
     "output_type": "stream",
     "text": [
      "[0, 3, 6, 9, 12, 15, 18, 21, 24, 27]\n"
     ]
    }
   ],
   "source": [
    "multiples = [i for i in range(30) if i % 3 == 0]\n",
    "# [0, 3, 6, 9, 12, 15, 18, 21, 24, 27]\n",
    "print(multiples)\n"
   ]
  },
  {
   "cell_type": "code",
   "execution_count": 39,
   "metadata": {},
   "outputs": [
    {
     "name": "stdout",
     "output_type": "stream",
     "text": [
      "['H', 'E', 'L', 'L', 'O', ' ', 'W', 'O', 'R', 'L', 'D']\n"
     ]
    }
   ],
   "source": [
    "# Get a list of uppercase characters from a string\n",
    "upper_list = [s.upper() for s in \"Hello World\"]\n",
    "# ['H', 'E', 'L', 'L', 'O', ' ', 'W', 'O', 'R', 'L', 'D']\n",
    "print(upper_list)\n"
   ]
  },
  {
   "cell_type": "markdown",
   "metadata": {},
   "source": [
    "# Case Study - Certificate of Entitlement"
   ]
  },
  {
   "cell_type": "markdown",
   "metadata": {},
   "source": [
    "## Loading Records\n",
    "### Procedural Approach"
   ]
  },
  {
   "cell_type": "code",
   "execution_count": 40,
   "metadata": {},
   "outputs": [
    {
     "name": "stdout",
     "output_type": "stream",
     "text": [
      "64 COE Records Loaded\n",
      "(2018, 'March', 2, 5116, 1843, 2202)\n",
      "(2018, 'March', 1, 4890, 1839, 2376)\n",
      "(2018, 'February', 2, 4460, 1846, 2722)\n",
      "(2018, 'February', 1, 1020, 1894, 2077)\n",
      "(2018, 'January', 2, 2693, 1839, 2109)\n",
      "(2018, 'January', 1, 5001, 1839, 2541)\n",
      "(2017, 'December', 2, 6200, 1851, 2788)\n",
      "(2017, 'December', 1, 7721, 1840, 3149)\n",
      "(2017, 'November', 2, 2, 1851, 1852)\n",
      "(2017, 'November', 1, 10455, 1848, 2049)\n"
     ]
    }
   ],
   "source": [
    "# import csv\n",
    "\n",
    "coe_list: list[tuple[int, str, int, int, int, int]] = []\n",
    "\n",
    "with open('coe.csv') as f:\n",
    "    reader = csv.reader(f)\n",
    "    for row in reader:\n",
    "        record = (int(row[0]), row[1], int(row[2]), int(row[3]), int(row[4]), int(row[5]))\n",
    "        coe_list.append(record)\n",
    "\n",
    "print(len(coe_list), \"COE Records Loaded\")\n",
    "\n",
    "# Show first 10 records\n",
    "for i in range(10):\n",
    "    print(coe_list[i])\n",
    "    "
   ]
  },
  {
   "cell_type": "markdown",
   "metadata": {},
   "source": [
    "### Functional Approach"
   ]
  },
  {
   "cell_type": "code",
   "execution_count": 41,
   "metadata": {},
   "outputs": [
    {
     "name": "stdout",
     "output_type": "stream",
     "text": [
      "64 COE Records Loaded\n",
      "(2018, 'March', 2, 5116, 1843, 2202)\n",
      "(2018, 'March', 1, 4890, 1839, 2376)\n",
      "(2018, 'February', 2, 4460, 1846, 2722)\n",
      "(2018, 'February', 1, 1020, 1894, 2077)\n",
      "(2018, 'January', 2, 2693, 1839, 2109)\n",
      "(2018, 'January', 1, 5001, 1839, 2541)\n",
      "(2017, 'December', 2, 6200, 1851, 2788)\n",
      "(2017, 'December', 1, 7721, 1840, 3149)\n",
      "(2017, 'November', 2, 2, 1851, 1852)\n",
      "(2017, 'November', 1, 10455, 1848, 2049)\n"
     ]
    }
   ],
   "source": [
    "import csv\n",
    "\n",
    "with open('coe.csv') as f:\n",
    "    reader = csv.reader(f)\n",
    "    coe_list = [(int(row[0]), row[1], int(row[2]), int(row[3]), int(row[4]), int(row[5])) for row in reader]\n",
    "\n",
    "print(len(coe_list), \"COE Records Loaded\")\n",
    "\n",
    "# Show first 10 records\n",
    "for i in range(10):\n",
    "    print(coe_list[i])\n",
    "    "
   ]
  },
  {
   "cell_type": "markdown",
   "metadata": {},
   "source": [
    "## Find Premium"
   ]
  },
  {
   "cell_type": "code",
   "execution_count": 42,
   "metadata": {},
   "outputs": [
    {
     "name": "stdout",
     "output_type": "stream",
     "text": [
      "(2017, 'October', 1, 13801, 1856, 2320)\n"
     ]
    }
   ],
   "source": [
    "# Procedural Approach\n",
    "\n",
    "yr  = 2017\n",
    "mth = 'October'\n",
    "rd  = 1\n",
    "\n",
    "for bid in coe_list:\n",
    "    if (bid[0] == yr and bid[1] == mth and bid[2] == rd):\n",
    "        print(bid)\n",
    "        break\n",
    " "
   ]
  },
  {
   "cell_type": "code",
   "execution_count": 43,
   "metadata": {},
   "outputs": [
    {
     "name": "stdout",
     "output_type": "stream",
     "text": [
      "(2017, 'October', 1, 13801, 1856, 2320)\n"
     ]
    }
   ],
   "source": [
    "# Functional Approach\n",
    "\n",
    "yr  = 2017\n",
    "mth = 'October'\n",
    "rd  = 1\n",
    "\n",
    "bid = list(filter(lambda b: b[0] == yr and b[1] == mth and b[2] == rd, coe_list))\n",
    "print(bid[0])\n"
   ]
  },
  {
   "cell_type": "markdown",
   "metadata": {},
   "source": [
    "## Average Premium"
   ]
  },
  {
   "cell_type": "code",
   "execution_count": 44,
   "metadata": {},
   "outputs": [
    {
     "name": "stdout",
     "output_type": "stream",
     "text": [
      "Average Premium is 12085.28\n"
     ]
    }
   ],
   "source": [
    "# Procedural Approach\n",
    "\n",
    "total = 0.0\n",
    "for bid in coe_list:\n",
    "    total += bid[3]\n",
    "\n",
    "average = total / len(coe_list)\n",
    "print(\"Average Premium is\", round(average, 2))  \n",
    "\n"
   ]
  },
  {
   "cell_type": "code",
   "execution_count": 45,
   "metadata": {},
   "outputs": [
    {
     "name": "stdout",
     "output_type": "stream",
     "text": [
      "Average Premium is 12085.28\n"
     ]
    }
   ],
   "source": [
    "# Functional Approach\n",
    "\n",
    "average = reduce(lambda a, b: a + b, list(map(lambda x: x[3], coe_list))) / len(coe_list)\n",
    "print(\"Average Premium is\", round(average, 2))  \n"
   ]
  },
  {
   "cell_type": "code",
   "execution_count": 46,
   "metadata": {},
   "outputs": [
    {
     "name": "stdout",
     "output_type": "stream",
     "text": [
      "Average Premium is 12085.28\n"
     ]
    }
   ],
   "source": [
    "# Pythonic Approach\n",
    "\n",
    "average = sum(list(map(lambda x: x[3], coe_list))) / len(coe_list)\n",
    "print(\"Average Premium is\", round(average, 2))  \n"
   ]
  },
  {
   "cell_type": "markdown",
   "metadata": {},
   "source": [
    "## Maximum and Minimum"
   ]
  },
  {
   "cell_type": "code",
   "execution_count": 47,
   "metadata": {},
   "outputs": [
    {
     "name": "stdout",
     "output_type": "stream",
     "text": [
      "Minimum Bid is 2\n",
      "Maximum Bid is 17999\n"
     ]
    }
   ],
   "source": [
    "min_bid_t = coe_list[0];\n",
    "max_bid_t = coe_list[0];\n",
    "for each_bid in coe_list:\n",
    "    if min_bid_t[3] > each_bid[3]: min_bid_t = each_bid\n",
    "    elif max_bid_t[3] < each_bid[3]: max_bid_t = each_bid\n",
    "    \n",
    "print(\"Minimum Bid is\", min_bid_t[3])  \n",
    "print(\"Maximum Bid is\", max_bid_t[3])  \n"
   ]
  },
  {
   "cell_type": "code",
   "execution_count": 48,
   "metadata": {},
   "outputs": [
    {
     "name": "stdout",
     "output_type": "stream",
     "text": [
      "Minimum Bid is 2\n",
      "Minimum Bid is 17999\n"
     ]
    }
   ],
   "source": [
    "min_bid = reduce(lambda a, b: a if a < b else b, list(map(lambda x: x[3], coe_list)))\n",
    "max_bid = reduce(lambda a, b: a if a > b else b, list(map(lambda x: x[3], coe_list)))\n",
    "\n",
    "print(\"Minimum Bid is\", min_bid)  \n",
    "print(\"Minimum Bid is\", max_bid)  \n"
   ]
  },
  {
   "cell_type": "code",
   "execution_count": 49,
   "metadata": {},
   "outputs": [
    {
     "name": "stdout",
     "output_type": "stream",
     "text": [
      "Minimum Bid is 2\n",
      "Minimum Bid is 17999\n"
     ]
    }
   ],
   "source": [
    "# Pythonic Approach\n",
    "\n",
    "min_bid = min(list(map(lambda x: x[3], coe_list)))\n",
    "max_bid = max(list(map(lambda x: x[3], coe_list)))\n",
    "\n",
    "print(\"Minimum Bid is\", min_bid)  \n",
    "print(\"Minimum Bid is\", max_bid) \n"
   ]
  },
  {
   "cell_type": "markdown",
   "metadata": {},
   "source": [
    "## Find the year, month and round that has the most bidders (Column E)"
   ]
  },
  {
   "cell_type": "code",
   "execution_count": 50,
   "metadata": {},
   "outputs": [
    {
     "name": "stdout",
     "output_type": "stream",
     "text": [
      "(2016, 'March', 1)\n"
     ]
    }
   ],
   "source": [
    "most_bidders = reduce(lambda a, b: a if a[4] > b[4] else b, coe_list)\n",
    "print(most_bidders[0:3])\n"
   ]
  }
 ],
 "metadata": {
  "kernelspec": {
   "display_name": "Python 3.9.12 ('RP-X0PA_3.9')",
   "language": "python",
   "name": "python3"
  },
  "language_info": {
   "codemirror_mode": {
    "name": "ipython",
    "version": 3
   },
   "file_extension": ".py",
   "mimetype": "text/x-python",
   "name": "python",
   "nbconvert_exporter": "python",
   "pygments_lexer": "ipython3",
   "version": "3.9.12"
  },
  "orig_nbformat": 2,
  "vscode": {
   "interpreter": {
    "hash": "0974853aac2e1be22b1c71bc2108bee902f4a24fbab5204c66962b2aba421724"
   }
  }
 },
 "nbformat": 4,
 "nbformat_minor": 2
}
