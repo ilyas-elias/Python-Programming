{
 "cells": [
  {
   "cell_type": "markdown",
   "metadata": {},
   "source": [
    "## Imports\n",
    "Import libraries"
   ]
  },
  {
   "cell_type": "code",
   "execution_count": 1,
   "metadata": {},
   "outputs": [],
   "source": [
    "import PySimpleGUI as GuiMgr\n",
    "from typing import List\n",
    "import sys\n"
   ]
  },
  {
   "cell_type": "markdown",
   "metadata": {},
   "source": [
    "## Representing Graphs\n",
    "* Adjacency List\n",
    "* Adjacency Matrix"
   ]
  },
  {
   "cell_type": "code",
   "execution_count": 2,
   "metadata": {},
   "outputs": [],
   "source": [
    "# Using Adjacency List\n",
    "graph1 = {'0': ['1', '2'],\n",
    "          '1': ['2', '3'],\n",
    "          '2': [],\n",
    "          '3': ['0', '1', '2']}\n",
    "          \n",
    "# Using Adjacency Matrix\n",
    "T, F = True, False\n",
    "graph2 = [[F, T, T, F],  # From 0\n",
    "          [F, F, T, T],  # From 1\n",
    "          [F, F, F, F],  # From 2\n",
    "          [T, T, T, F]]  # From 3\n"
   ]
  },
  {
   "cell_type": "code",
   "execution_count": 3,
   "metadata": {
    "tags": []
   },
   "outputs": [],
   "source": [
    "# Using Adjacency List\n",
    "graph1 = {'A': ['B', 'C'],\n",
    "          'B': ['C', 'D'],\n",
    "          'C': ['D'],\n",
    "          'D': ['C'],\n",
    "          'E': ['F'],\n",
    "          'F': ['C']}\n",
    "\n",
    "# Using Adjacency Matrix\n",
    "y = True\n",
    "n = False\n",
    "graph2 = [[n, y, y, n, n, n],  # From A\n",
    "          [n, n, y, y, n, n],  # From B\n",
    "          [n, n, n, y, n, n],  # From C\n",
    "          [n, n, y, n, n, n],  # From D\n",
    "          [n, n, n, n, n, y],  # From E\n",
    "          [n, n, y, n, n, n]]  # From F\n"
   ]
  },
  {
   "cell_type": "markdown",
   "metadata": {},
   "source": [
    "# Adjacency List\n",
    "## The AL_Vertex Class"
   ]
  },
  {
   "cell_type": "code",
   "execution_count": 4,
   "metadata": {},
   "outputs": [],
   "source": [
    "class AL_Vertex:\n",
    "    def __init__(self, key):\n",
    "        self.id = key\n",
    "        self.connectedTo = {}\n",
    "\n",
    "    def addNeighbor(self, nbr, weight=0):\n",
    "        self.connectedTo[nbr] = weight\n",
    "\n",
    "    def __str__(self):\n",
    "        return str(self.id) + ' connectedTo: ' + str([x.id for x in self.connectedTo])\n",
    "\n",
    "    def getConnections(self):\n",
    "        return self.connectedTo.keys()\n",
    "\n",
    "    def getId(self):\n",
    "        return self.id\n",
    "\n",
    "    def getWeight(self,nbr):\n",
    "        return self.connectedTo[nbr]"
   ]
  },
  {
   "cell_type": "markdown",
   "metadata": {},
   "source": [
    "## The AL_Graph Class "
   ]
  },
  {
   "cell_type": "code",
   "execution_count": 5,
   "metadata": {},
   "outputs": [],
   "source": [
    "class AL_Graph:\n",
    "    def __init__(self):\n",
    "        self.vertList = {}\n",
    "        self.numVertices = 0\n",
    "\n",
    "    def addVertex(self,key):\n",
    "        self.numVertices = self.numVertices + 1\n",
    "        newVertex = AL_Vertex(key)\n",
    "        self.vertList[key] = newVertex\n",
    "        return newVertex\n",
    "\n",
    "    def getVertex(self,n):\n",
    "        if n in self.vertList:\n",
    "            return self.vertList[n]\n",
    "        else:\n",
    "            return None\n",
    "\n",
    "    def __contains__(self,n):\n",
    "        return n in self.vertList\n",
    "\n",
    "    def addEdge(self,f,t,weight=0):\n",
    "        if f not in self.vertList:\n",
    "            nv = self.addVertex(f)\n",
    "        if t not in self.vertList:\n",
    "            nv = self.addVertex(t)\n",
    "        self.vertList[f].addNeighbor(self.vertList[t], weight)\n",
    "\n",
    "    def getVertices(self):\n",
    "        return self.vertList.keys()\n",
    "\n",
    "    def __iter__(self):\n",
    "        return iter(self.vertList.values())"
   ]
  },
  {
   "cell_type": "markdown",
   "metadata": {},
   "source": [
    "## Using the AL_Graph class"
   ]
  },
  {
   "cell_type": "code",
   "execution_count": 6,
   "metadata": {
    "tags": []
   },
   "outputs": [
    {
     "name": "stdout",
     "output_type": "stream",
     "text": [
      "( 0 , 1 )\n",
      "( 0 , 5 )\n",
      "( 1 , 2 )\n",
      "( 2 , 3 )\n",
      "( 3 , 4 )\n",
      "( 3 , 5 )\n",
      "( 4 , 0 )\n",
      "( 5 , 4 )\n",
      "( 5 , 2 )\n"
     ]
    }
   ],
   "source": [
    "g = AL_Graph()\n",
    "for v in range(6):\n",
    "    g.addVertex(v)\n",
    "\n",
    "g.addEdge(0,1,5)\n",
    "g.addEdge(0,5,2)\n",
    "g.addEdge(1,2,4)\n",
    "g.addEdge(2,3,9)\n",
    "g.addEdge(3,4,7)\n",
    "g.addEdge(3,5,3)\n",
    "g.addEdge(4,0,1)\n",
    "g.addEdge(5,4,8)\n",
    "g.addEdge(5,2,1)\n",
    "\n",
    "for v in g:\n",
    "    for w in v.getConnections():\n",
    "        print(\"( %s , %s )\" % (v.getId(), w.getId()))\n"
   ]
  },
  {
   "cell_type": "markdown",
   "metadata": {},
   "source": [
    "# Adjacency Matrix\n",
    "## Undirected Graph "
   ]
  },
  {
   "cell_type": "code",
   "execution_count": 7,
   "metadata": {},
   "outputs": [],
   "source": [
    "class Vertex:\n",
    "    def __init__(self, index, label):\n",
    "        self.index = index\n",
    "        self.label = label\n",
    "        self.inTree = False\n",
    "\n",
    "    def isInTree(self) -> bool:\n",
    "        return self.inTree\n",
    "\n",
    "    def setInTree(self, inTree: bool):\n",
    "        self.inTree = inTree\n",
    "\n",
    "    def getIndex(self):\n",
    "        return self.index\n",
    "\n",
    "    def getLabel(self):\n",
    "        return self.label\n",
    "\n",
    "    def setLabel(self, label):\n",
    "        self.label = label\n"
   ]
  },
  {
   "cell_type": "code",
   "execution_count": 8,
   "metadata": {},
   "outputs": [],
   "source": [
    "class Graph:\n",
    "    INFINITY = float('inf')\n",
    "\n",
    "    def __init__(self, size):\n",
    "        self.size = size\n",
    "        self.matrix = [[Graph.INFINITY for i in range(size)] for j in range(size)]\n",
    "        self.vertexList = [Vertex(v, chr(v+65)) for v in range(size)]\n",
    "        \n",
    "    def getSize(self):\n",
    "        return self.size\n",
    "\n",
    "    def setEdge(self, src:int, dest:int, cost:int):\n",
    "        self.matrix[src][dest] = cost\n",
    "        self.matrix[dest][src] = cost\n",
    "\n",
    "    def getEdge(self, src:int, dest:int) -> int:\n",
    "        return self.matrix[src][dest]\n",
    "\n",
    "    def computePath(self, vtx:List[int]) -> int:\n",
    "        if vtx == None or len(vtx) == 0:\n",
    "            return Graph.INFINITY\n",
    "        sum = 0\n",
    "        for i in range(len(vtx) - 1):\n",
    "            weight = self.getEdge(vtx[i], vtx[i+1])\n",
    "            if weight == Graph.INFINITY:\n",
    "                return Graph.INFINITY\n",
    "            sum += weight\n",
    "        return sum\n",
    "\n",
    "    def __str__(self) -> str:\n",
    "        output = \"+---\" * (len(self.matrix) + 1) + \"+\\n|   \" \n",
    "        for i in range(self.size):\n",
    "            output += \"| {0} \".format(self.vertexList[i].getLabel())       \n",
    "        output += \"|\\n\" \n",
    "        for i, row in enumerate(self.matrix):\n",
    "            output += \"| {0} \".format(self.vertexList[i].getLabel())             \n",
    "            for cell in row:\n",
    "                if cell == Graph.INFINITY:\n",
    "                    output += \"|   \"    \n",
    "                else:\n",
    "                    output += \"|{:>3}\".format(cell)\n",
    "            output += \"|\\n\"    \n",
    "        output += \"+---\" * (len(self.matrix) + 1) + \"+\" \n",
    "        return output\n"
   ]
  },
  {
   "cell_type": "markdown",
   "metadata": {},
   "source": [
    "# Delivery App"
   ]
  },
  {
   "cell_type": "code",
   "execution_count": 9,
   "metadata": {},
   "outputs": [],
   "source": [
    "class DeliveryApp:\n",
    "\n",
    "    def __init__(self):\n",
    "        self.graph = Graph(6)\n",
    "\n",
    "    def doCreateGraph(self):\n",
    "        print(\"doCreateGraph\")\n",
    "        num = GuiMgr.read_Int(\"Vertices (2-26) :\")\n",
    "        if num == None:\n",
    "            return\n",
    "        if num < 2 or num > 26:\n",
    "            GuiMgr.display(\"Invalid Input\")\n",
    "        else:\n",
    "            self.graph = Graph(num)    \n",
    "        pass\n",
    "\n",
    "    def doAddEdge(self):\n",
    "        print(\"doAddEdge\")\n",
    "        v_end = chr(64 + self.graph.getSize())\n",
    "        vtx = GuiMgr.read_Str(f\"Enter Start Vertex (A-{v_end}) :\")\n",
    "        start = ord(vtx) - 65\n",
    "        vtx = GuiMgr.read_Str(f\"Enter End Vertex (A-{v_end}) :\")\n",
    "        end = ord(vtx) - 65\n",
    "        dist = GuiMgr.read_Int(\"Enter Travelling Time :\")\n",
    "        self.graph.setEdge(start, end, dist)\n",
    "\n",
    "    def doLoadGraph(self):\n",
    "        print(\"doLoadGraph\")\n",
    "        self.graph = Graph(6)\n",
    "        self.graph.setEdge(0, 1, 5);  # A to B\n",
    "        self.graph.setEdge(0, 2, 4);  # A to C\n",
    "        self.graph.setEdge(0, 3, 3);  # A to D\n",
    "        self.graph.setEdge(1, 4, 6);  # B to E\n",
    "        self.graph.setEdge(1, 5, 2);  # B to F\n",
    "        self.graph.setEdge(2, 3, 5);  # C to D\n",
    "        self.graph.setEdge(3, 5, 7);  # D to F\n",
    "\n",
    "    @staticmethod\n",
    "    def getVertexInput(count):\n",
    "        list = []\n",
    "        v_end = chr(64 + count)\n",
    "        for i in range(count):\n",
    "            vtx = GuiMgr.read_Str(\"Enter Vertex {0} (A-{1}) :\".format(i+1, v_end))\n",
    "            list.append(ord(vtx) - 65)\n",
    "        return list\n",
    "\n",
    "    def doCalculatePathCost(self):\n",
    "        print(\"doCalculatePathCost\")\n",
    "        nodes = GuiMgr.read_Int(\"Number of Vertices in the Path :\")\n",
    "        list = DeliveryApp.getVertexInput(nodes)\n",
    "        print(list)\n",
    "        cost = self.graph.computePath(list)\n",
    "        print(cost)\n",
    "\n",
    "    def doShowGraph(self):\n",
    "        GuiMgr.clear()\n",
    "        print(\"doShowGraph\")\n",
    "        if self.graph == None:\n",
    "            self.graph = Graph(6)\n",
    "        print(self.graph)\n",
    "\n",
    "    def run(self):\n",
    "        config = {\"Create a new Graph\": self.doCreateGraph, \n",
    "                  \"Connect Vertices\": self.doAddEdge, \n",
    "                  \"Load Mr Wong's Graph\": self.doLoadGraph, \n",
    "                  \"Calculate Path\": self.doCalculatePathCost, \n",
    "                  \"Display Graph\": self.doShowGraph\n",
    "                 }\n",
    "        GuiMgr.popup(\"Mr Wong Delivery App\", config)\n",
    "\n",
    "app = DeliveryApp()\n",
    "app.run()\n"
   ]
  }
 ],
 "metadata": {
  "kernelspec": {
   "display_name": "Python 3.9.12 ('RP-X0PA_3.9')",
   "language": "python",
   "name": "python3"
  },
  "language_info": {
   "codemirror_mode": {
    "name": "ipython",
    "version": 3
   },
   "file_extension": ".py",
   "mimetype": "text/x-python",
   "name": "python",
   "nbconvert_exporter": "python",
   "pygments_lexer": "ipython3",
   "version": "3.9.12"
  },
  "orig_nbformat": 2,
  "vscode": {
   "interpreter": {
    "hash": "0974853aac2e1be22b1c71bc2108bee902f4a24fbab5204c66962b2aba421724"
   }
  }
 },
 "nbformat": 4,
 "nbformat_minor": 2
}
