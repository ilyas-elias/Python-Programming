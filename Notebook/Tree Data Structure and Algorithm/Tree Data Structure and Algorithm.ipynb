{
 "cells": [
  {
   "cell_type": "markdown",
   "metadata": {},
   "source": [
    "## Imports\n",
    "Import libraries"
   ]
  },
  {
   "cell_type": "code",
   "execution_count": 1,
   "metadata": {},
   "outputs": [],
   "source": [
    "from typing import TypeVar, Generic\n",
    "from __future__ import annotations\n"
   ]
  },
  {
   "cell_type": "markdown",
   "metadata": {},
   "source": [
    "# Tree Data Structure and Algorithm"
   ]
  },
  {
   "cell_type": "markdown",
   "metadata": {},
   "source": [
    "## Introduction\n",
    "\n",
    "Trees are **hierarchical** data structures.  A tree represents nodes connected by edges.  A binary tree has a special condition that each node can have a maximum of two children.  A binary tree has the benefits of both an ordered array and a linked list as search is as quick as in a sorted array and insertion or deletion operation are as fast as in linked list.\n",
    "\n",
    "![Binary Tree](https://www.tutorialspoint.com/data_structures_algorithms/images/binary_tree.jpg)\n",
    "\n",
    "Following are the important terms with respect to tree.\n",
    "\n",
    "* **Path** − Path refers to the sequence of nodes along the edges of a tree.\n",
    "* **Root** − The node at the top of the tree is called root. There is only one root per tree and one path from the root node to any node.\n",
    "* **Parent** − Any node except the root node has one edge upward to a node called parent.\n",
    "* **Child** − The node below a given node connected by its edge downward is called its child node.\n",
    "* **Leaf** − The node which does not have any child node is called the leaf node.\n",
    "* **Subtree** − Subtree represents the descendants of a node.\n",
    "* **Visiting** − Visiting refers to checking the value of a node when control is on the node.\n",
    "* **Traversing** − Traversing means passing through nodes in a specific order.\n",
    "* **Levels** − Level of a node represents the generation of a node. If the root node is at level 0, then its next child node is at level 1, its grandchild is at level 2, and so on.\n",
    "* **keys** − Key represents a value of a node based on which a search operation is to be carried out for a node.\n",
    "\n",
    "(Taken from [Tutorials Point](https://www.tutorialspoint.com/data_structures_algorithms/tree_data_structure.htm))"
   ]
  },
  {
   "cell_type": "markdown",
   "metadata": {},
   "source": [
    "## Node Class"
   ]
  },
  {
   "cell_type": "code",
   "execution_count": 2,
   "metadata": {},
   "outputs": [],
   "source": [
    "# from __future__ import annotations\n",
    "\n",
    "class Node:\n",
    "    def __init__(self, info: str): \n",
    "        self._info: str = info   \n",
    "        self._left: Node = None\n",
    "        self._right: Node = None\n",
    "\n",
    "    def getInfo(self) -> object:\n",
    "        return self._info\n",
    "\n",
    "    def setInfo(self, info: str) -> None:\n",
    "        self._info = info\n",
    "\n",
    "    def getLeft(self) -> object:\n",
    "        return self._left\n",
    "\n",
    "    def getRight(self) -> object:\n",
    "        return self._right\n",
    "\n",
    "    def setLeft(self, subtree: Node) -> None:\n",
    "        self._left = subtree\n",
    "\n",
    "    def setRight(self, subtree: Node) -> None:\n",
    "        self._right = subtree\n",
    "\n",
    "    def listNodes(self) -> None:\n",
    "      #print(\" (\", end = '')\n",
    "      if (self._left != None):    \n",
    "           self._left.listNodes()\n",
    "      print(self._info, end = '')\n",
    "      if (self._right != None):\n",
    "           self._right.listNodes()\n",
    "      #print(\") \", end = '')\n"
   ]
  },
  {
   "cell_type": "markdown",
   "metadata": {},
   "source": [
    "## Tree Exercise"
   ]
  },
  {
   "cell_type": "code",
   "execution_count": 3,
   "metadata": {},
   "outputs": [
    {
     "name": "stdout",
     "output_type": "stream",
     "text": [
      "EICFJBGDKHLA"
     ]
    }
   ],
   "source": [
    "a: Node = Node(\"A\")\n",
    "b: Node = Node(\"B\")\n",
    "c: Node = Node(\"C\")\n",
    "d: Node = Node(\"D\")\n",
    "e: Node = Node(\"E\")\n",
    "f: Node = Node(\"F\")\n",
    "g: Node = Node(\"G\")\n",
    "h: Node = Node(\"H\")\n",
    "i: Node = Node(\"I\")\n",
    "j: Node = Node(\"J\")\n",
    "k: Node = Node(\"K\")\n",
    "l: Node = Node(\"L\")\n",
    "\n",
    "a.setLeft(b)\n",
    "b.setLeft(c)\n",
    "b.setRight(d)\n",
    "c.setLeft(e)\n",
    "c.setRight(f)\n",
    "d.setLeft(g)\n",
    "d.setRight(h)\n",
    "e.setRight(i)\n",
    "f.setRight(j)\n",
    "h.setLeft(k)\n",
    "h.setRight(l)\n",
    "\n",
    "a.listNodes()"
   ]
  },
  {
   "cell_type": "markdown",
   "metadata": {},
   "source": [
    "# Case Study - Guess that Fruit"
   ]
  },
  {
   "cell_type": "markdown",
   "metadata": {},
   "source": [
    "## FruitNode Class"
   ]
  },
  {
   "cell_type": "code",
   "execution_count": 4,
   "metadata": {},
   "outputs": [],
   "source": [
    "# from __future__ import annotations\n",
    "\n",
    "class FruitNode:\n",
    "    def __init__(self, text: str, tag: str): \n",
    "        self._text: str = text   \n",
    "        self._tag: str = tag\n",
    "        self._pathYes: FruitNode = None\n",
    "        self._pathNo: FruitNode = None\n",
    "\n",
    "    def getText(self) -> str:\n",
    "        return self._text\n",
    "\n",
    "    def getTag(self) -> str:\n",
    "        return self._tag\n",
    "\n",
    "    def getPathYes(self) -> FruitNode:\n",
    "        return self._pathYes\n",
    "\n",
    "    def getPathNo(self) -> FruitNode:\n",
    "        return self._pathNo\n",
    "\n",
    "    def setPathYes(self, path: FruitNode) -> None:\n",
    "        self._pathYes = path\n",
    "\n",
    "    def setPathNo(self, path: FruitNode) -> None:\n",
    "        self._pathNo = path\n"
   ]
  },
  {
   "cell_type": "markdown",
   "metadata": {},
   "source": [
    "## Creating FruitNode Objects"
   ]
  },
  {
   "cell_type": "code",
   "execution_count": 5,
   "metadata": {},
   "outputs": [],
   "source": [
    "# Question Nodes\n",
    "q1: FruitNode = FruitNode(\"Is it yellow in colour?\",    \"S\")\n",
    "q2: FruitNode = FruitNode(\"Do monkeys love it?\",        \"Y\")\n",
    "q3: FruitNode = FruitNode(\"Does it have many seeds?\",   \"N\")\n",
    "q4: FruitNode = FruitNode(\"Does it always taste sour?\", \"N\")\n",
    "q5: FruitNode = FruitNode(\"Is it round in shape?\",      \"Y\")\n",
    "q6: FruitNode = FruitNode(\"Is it crunchy?\",             \"N\")\n",
    "\n",
    "# Answer Nodes\n",
    "a1: FruitNode = FruitNode(\"Pineapple\",  \"N\")\n",
    "a2: FruitNode = FruitNode(\"Lemon\",      \"Y\")\n",
    "a3: FruitNode = FruitNode(\"Banana\",     \"Y\")\n",
    "a4: FruitNode = FruitNode(\"Watermelon\", \"Y\")\n",
    "a5: FruitNode = FruitNode(\"Papaya\",     \"N\")\n",
    "a6: FruitNode = FruitNode(\"Apple\",      \"Y\")\n",
    "a7: FruitNode = FruitNode(\"Orange\",     \"N\")\n"
   ]
  },
  {
   "cell_type": "markdown",
   "metadata": {},
   "source": [
    " ## Building the Decision Tree"
   ]
  },
  {
   "cell_type": "code",
   "execution_count": 6,
   "metadata": {},
   "outputs": [],
   "source": [
    "q1.setPathYes(q2)\n",
    "q1.setPathNo(q3)\n",
    "q2.setPathYes(a3)\n",
    "q2.setPathNo(q4)\n",
    "q3.setPathYes(q5)\n",
    "q3.setPathNo(q6)\n",
    "q4.setPathYes(a2)\n",
    "q4.setPathNo(a1)\n",
    "q5.setPathYes(a4)\n",
    "q5.setPathNo(a5)\n",
    "q6.setPathYes(a6)\n",
    "q6.setPathNo(a7)\n",
    "\n",
    "root = q1\n"
   ]
  },
  {
   "cell_type": "markdown",
   "metadata": {},
   "source": [
    "## Visiting the Decision Tree"
   ]
  },
  {
   "cell_type": "code",
   "execution_count": 7,
   "metadata": {},
   "outputs": [
    {
     "name": "stdout",
     "output_type": "stream",
     "text": [
      "  S Is it yellow in colour?\n",
      "    Y Do monkeys love it?\n",
      "      Y Banana\n",
      "      N Does it always taste sour?\n",
      "        Y Lemon\n",
      "        N Pineapple\n",
      "    N Does it have many seeds?\n",
      "      Y Is it round in shape?\n",
      "        Y Watermelon\n",
      "        N Papaya\n",
      "      N Is it crunchy?\n",
      "        Y Apple\n",
      "        N Orange\n"
     ]
    }
   ],
   "source": [
    "def visit(n: FruitNode, indent: str):\n",
    "    print(indent + n.getTag() + \" \" + n.getText())\n",
    "    if (n.getPathNo() != None and n.getPathYes() != None): \n",
    "         visit(n.getPathYes(), indent + \"  \")\n",
    "         visit(n.getPathNo(),  indent + \"  \")\n",
    "\n",
    "visit(root, \"  \")\n"
   ]
  },
  {
   "cell_type": "markdown",
   "metadata": {},
   "source": [
    "## Adding the Guessing Logic"
   ]
  },
  {
   "cell_type": "code",
   "execution_count": 8,
   "metadata": {},
   "outputs": [
    {
     "name": "stdout",
     "output_type": "stream",
     "text": [
      "Out of these SEVEN fruits, think of ONE fruit.\n",
      "Apple, Banana, Lemon, Orange, Papaya, Pineapple, Watermelon\n",
      "Is it yellow in colour?Enter only Y/N\n",
      "Is it yellow in colour? Yes\n",
      "Do monkeys love it? Yes\n",
      "The fruit is Banana\n"
     ]
    }
   ],
   "source": [
    "def decide(n: FruitNode):\n",
    "    if (n.getPathNo() == None and n.getPathYes() == None): \n",
    "        print(\"The fruit is \" + n.getText())\n",
    "    else:\n",
    "        response: str = '' \n",
    "        while (response not in ['Y', 'N']):\n",
    "            response = input(n.getText()).upper()\n",
    "            print(n.getText(), end='')\n",
    "            if (response == 'Y'):\n",
    "                print(' Yes')\n",
    "                decide(n.getPathYes())\n",
    "            elif (response == 'N'):\n",
    "                print(' No')\n",
    "                decide(n.getPathNo())   \n",
    "            else:\n",
    "                print(\"Enter only Y/N\")\n",
    "\n",
    "print(\"Out of these SEVEN fruits, think of ONE fruit.\")\n",
    "print(\"Apple, Banana, Lemon, Orange, Papaya, Pineapple, Watermelon\")\n",
    "\n",
    "decide(root)\n",
    "\n"
   ]
  },
  {
   "cell_type": "markdown",
   "metadata": {},
   "source": [
    "# Case Study - Board Games Interest Group"
   ]
  },
  {
   "cell_type": "markdown",
   "metadata": {},
   "source": [
    "## Generic BSTNode Class"
   ]
  },
  {
   "cell_type": "code",
   "execution_count": 9,
   "metadata": {},
   "outputs": [],
   "source": [
    "# from __future__ import annotations\n",
    "\n",
    "from typing import TypeVar, Generic\n",
    "T = TypeVar('T')\n",
    "\n",
    "class BST_Node(Generic[T]):\n",
    "    def __init__(self, data: T): \n",
    "        self._data: T = data   \n",
    "        self._left: BST_Node = None\n",
    "        self._right: BST_Node = None\n",
    "\n",
    "    def getData(self) -> T:\n",
    "        return self._data\n",
    "\n",
    "    def setData(self, data: T) -> None:\n",
    "        self._data = data\n",
    "\n",
    "    def getLeft(self) -> BST_Node:\n",
    "        return self._left\n",
    "\n",
    "    def setRight(self, subtree: Node) -> None:\n",
    "        self._right = subtree\n",
    "\n",
    "    def getRight(self) -> BST_Node:\n",
    "        return self._right\n",
    "\n",
    "    def setLeft(self, subtree: Node) -> None:\n",
    "        self._left = subtree\n",
    "\n",
    "    def preOrder(self) -> list[T]:\n",
    "        nodes = []\n",
    "        nodes.append(self._data)\n",
    "        if (self._left != None):\n",
    "            nodes += self._left.preOrder()    \n",
    "        if (self._right !=  None):\n",
    "            nodes += self._right.preOrder()    \n",
    "        return nodes\n",
    "\n",
    "    def postOrder(self) -> list[T]:\n",
    "        nodes = []\n",
    "        if (self._left !=  None):\n",
    "            nodes += self._left.postOrder()    \n",
    "        if (self._right !=  None):\n",
    "            nodes += self._right.postOrder()    \n",
    "        nodes.append(self._data)\n",
    "        return nodes\n",
    "\n",
    "    def inOrder(self) -> list[T]:\n",
    "        nodes = []\n",
    "        if (self._left != None):\n",
    "            nodes += self._left.inOrder()    \n",
    "        nodes.append(self._data)\n",
    "        if (self._right != None):\n",
    "            nodes += self._right.inOrder()    \n",
    "        return nodes\n"
   ]
  },
  {
   "cell_type": "markdown",
   "metadata": {},
   "source": [
    "## BoardGame Class "
   ]
  },
  {
   "cell_type": "code",
   "execution_count": 10,
   "metadata": {},
   "outputs": [],
   "source": [
    "class BoardGame():\n",
    "    def __init__(self, *args):\n",
    "        self._title = args[0]\n",
    "        if len(args) == 3:\n",
    "            self._qty = args[1]\n",
    "            self._cost = args[2]\n",
    "        else:\n",
    "            self._qty = 1\n",
    "            self._cost = 0.0    \n",
    "\n",
    "    def getTitle(self) -> str:\n",
    "        return self._title\n",
    "\n",
    "    def setTitle(self, title: str) -> None:\n",
    "        self._title = title\n",
    "\n",
    "    def getQty(self) -> str:\n",
    "        return self._qty\n",
    "\n",
    "    def setQty(self, qty: int) -> None:        \n",
    "        self._qty = qty\n",
    "\n",
    "    def getCost(self) -> str:\n",
    "        return self._cost\n",
    "\n",
    "    def setCost(self, cost: float) -> None:\n",
    "        self._cost = cost\n",
    "\n",
    "    def __str__(self) -> str:\n",
    "        return f\"BoardGame ['{self._title}', Qty={self._qty}, Cost={self._cost}]\"\n",
    "\n",
    "    def __lt__(self, other: Any) -> bool:\n",
    "        return self._title < other._title\n",
    "\n",
    "    def __gt__(self, other: Any) -> bool:\n",
    "        return self._title > other._title\n",
    "\n",
    "    def __eq__(self, other: Any) -> bool:\n",
    "        return self._title == other._title \n",
    "\n",
    "    # def __eq__(self, other: Any) -> bool:\n",
    "    #     return self._title == other._title and \\\n",
    "    #            self._qty == other._qty and \\\n",
    "    #            self._cost == other._cost    \n",
    "\n"
   ]
  },
  {
   "cell_type": "code",
   "execution_count": 11,
   "metadata": {},
   "outputs": [
    {
     "name": "stdout",
     "output_type": "stream",
     "text": [
      "BoardGame ['Monopoly', Qty=12, Cost=19.9]\n",
      "BoardGame ['Risk', Qty=12, Cost=19.9]\n",
      "BoardGame ['Cluedo', Qty=1, Cost=0.0]\n",
      "False\n",
      "True\n",
      "False\n",
      "True\n",
      "True\n",
      "False\n"
     ]
    }
   ],
   "source": [
    "# Testing the BoardGame class\n",
    "\n",
    "g1 = BoardGame('Monopoly', 12, 19.9)\n",
    "g2 = BoardGame('Risk', 12, 19.9)\n",
    "g3 = BoardGame('Cluedo')\n",
    "\n",
    "print(g1)\n",
    "print(g2)\n",
    "print(g3)\n",
    "\n",
    "print(g1 > g2)\n",
    "print(g1 < g2)\n",
    "print(g2 == g3)\n",
    "print(g2 != g3)\n",
    "print(g2 > g3)\n",
    "print(g2 < g3)\n"
   ]
  },
  {
   "cell_type": "markdown",
   "metadata": {},
   "source": [
    "## Binary Search Tree Class"
   ]
  },
  {
   "cell_type": "code",
   "execution_count": 12,
   "metadata": {},
   "outputs": [],
   "source": [
    "from typing import TypeVar, Generic, List\n",
    "from __future__ import annotations\n",
    "\n",
    "T = TypeVar('T')\n",
    "\n",
    "class BS_Tree(Generic[T]):\n",
    "    def __init__(self): \n",
    "        self._root: BST_Node[T] = None\n",
    "        \n",
    "    def pre_order_traverse(self) -> list[T]:\n",
    "        if (self._root != None):\n",
    "            return self._root.preOrder()\n",
    "        return []   \n",
    "\n",
    "\n",
    "    def in_order_traverse(self) -> list[T]:\n",
    "        if (self._root != None):\n",
    "            return self._root.inOrder()\n",
    "        return []   \n",
    "\n",
    "    def post_order_traverse(self) -> list[T]:\n",
    "        if self._root != None:\n",
    "            return self._root.postOrder()\n",
    "        return []\n",
    "\n",
    "    def bf_order_traverse(self) -> list[T]:\n",
    "        list = []\n",
    "        if self._root == None:\n",
    "            return list\n",
    "\n",
    "        queue = [self._root]\n",
    "        while len(queue) > 0:\n",
    "            node = queue.pop(0)\n",
    "            list.append(node.getData())\n",
    "            if node.getLeft() != None:\n",
    "                queue.append(node.getLeft())\n",
    "            if node.getRight() != None:\n",
    "                queue.append(node.getRight())\n",
    "        return list\n",
    "\n",
    "    def search(self, game: T) -> T:\n",
    "        current = self._root\n",
    "        while current != None:\n",
    "            if current.getData() == game:\n",
    "                return current.getData()\n",
    "            elif current.getData() > game:\n",
    "                current = current.getLeft()\n",
    "            else:\n",
    "                current = current.getRight()\n",
    "        return None\n",
    "\n",
    "    @classmethod\n",
    "    def insert_node(cls, tree: BST_Node[T], child: BST_Node[T]) -> None:\n",
    "        if (tree.getData() > child.getData()):    \n",
    "            if (tree.getLeft() == None):\n",
    "                tree.setLeft(child)\n",
    "            else:\n",
    "                BS_Tree.insert_node(tree.getLeft(), child)    \n",
    "        else:\n",
    "            if (tree.getRight() == None):\n",
    "                tree.setRight(child)\n",
    "            else:\n",
    "                BS_Tree.insert_node(tree.getRight(), child)    \n",
    "\n",
    "    def insert(self, data:T) -> None:\n",
    "        node: BST_Node[T] = BST_Node[T](data)\n",
    "        if (self._root == None):\n",
    "            self._root = node\n",
    "        else:\n",
    "            BS_Tree.insert_node(self._root, node)   \n",
    "\n",
    " \n"
   ]
  },
  {
   "cell_type": "code",
   "execution_count": 13,
   "metadata": {},
   "outputs": [
    {
     "name": "stdout",
     "output_type": "stream",
     "text": [
      "Korea,Hong Kong,England,Ireland,Indonesia,Scotland,Malaysia,Thailand,Singapore,Wales,\n",
      "England,Hong Kong,Indonesia,Ireland,Korea,Malaysia,Scotland,Singapore,Thailand,Wales,\n",
      "England,Indonesia,Ireland,Hong Kong,Malaysia,Singapore,Wales,Thailand,Scotland,Korea,\n",
      "Korea,Hong Kong,Scotland,England,Ireland,Malaysia,Thailand,Indonesia,Singapore,Wales,\n"
     ]
    }
   ],
   "source": [
    "countries = BS_Tree[str]()\n",
    "countries.insert(\"Korea\")\n",
    "countries.insert(\"Hong Kong\")\n",
    "countries.insert(\"Scotland\")\n",
    "countries.insert(\"Ireland\")\n",
    "countries.insert(\"Thailand\")\n",
    "countries.insert(\"Malaysia\")\n",
    "countries.insert(\"Singapore\")\n",
    "countries.insert(\"Wales\")\n",
    "countries.insert(\"England\")\n",
    "countries.insert(\"Indonesia\")\n",
    "\n",
    "for country in countries.pre_order_traverse():\n",
    "    print(country, end=\",\")\n",
    "print()\n",
    "for country in countries.in_order_traverse():\n",
    "    print(country, end=\",\")\n",
    "print()\n",
    "for country in countries.post_order_traverse():\n",
    "    print(country, end=\",\")\n",
    "print()\n",
    "for country in countries.bf_order_traverse():\n",
    "    print(country, end=\",\")\n",
    "print()\n",
    "    "
   ]
  },
  {
   "cell_type": "code",
   "execution_count": 14,
   "metadata": {},
   "outputs": [],
   "source": [
    "ig_tree = BS_Tree[BoardGame]()\n",
    "\n",
    "ig_tree.insert(BoardGame(\"Risk\", 2, 40.99))\n",
    "ig_tree.insert(BoardGame(\"Monopoly\", 5, 20.99))\n",
    "ig_tree.insert(BoardGame(\"Clue\", 2, 25.99))\n",
    "ig_tree.insert(BoardGame(\"Snake & Ladder\", 1, 10.0))\n",
    "ig_tree.insert(BoardGame(\"Saboteur\", 2, 20.99))\n",
    "ig_tree.insert(BoardGame(\"Quantum\", 3, 36.99))\n",
    "ig_tree.insert(BoardGame(\"Twilight Imperium\", 4, 44.99))\n"
   ]
  },
  {
   "cell_type": "code",
   "execution_count": 15,
   "metadata": {},
   "outputs": [
    {
     "name": "stdout",
     "output_type": "stream",
     "text": [
      "BoardGame ['Clue', Qty=2, Cost=25.99]\n",
      "BoardGame ['Quantum', Qty=3, Cost=36.99]\n",
      "None\n"
     ]
    }
   ],
   "source": [
    "# Searching\n",
    "print(ig_tree.search(BoardGame(\"Clue\")))\n",
    "print(ig_tree.search(BoardGame(\"Quantum\")))\n",
    "print(ig_tree.search(BoardGame(\"Uno\")))\n",
    "\n"
   ]
  },
  {
   "cell_type": "code",
   "execution_count": 16,
   "metadata": {},
   "outputs": [
    {
     "name": "stdout",
     "output_type": "stream",
     "text": [
      "B F O R D E R\n",
      "BoardGame ['Risk', Qty=2, Cost=40.99]\n",
      "BoardGame ['Monopoly', Qty=5, Cost=20.99]\n",
      "BoardGame ['Snake & Ladder', Qty=1, Cost=10.0]\n",
      "BoardGame ['Clue', Qty=2, Cost=25.99]\n",
      "BoardGame ['Quantum', Qty=3, Cost=36.99]\n",
      "BoardGame ['Saboteur', Qty=2, Cost=20.99]\n",
      "BoardGame ['Twilight Imperium', Qty=4, Cost=44.99]\n"
     ]
    }
   ],
   "source": [
    "# BF Traversal\n",
    "print(\"B F O R D E R\")\n",
    "game_list = ig_tree.bf_order_traverse()\n",
    "for game in game_list:\n",
    "    print(game)\n"
   ]
  },
  {
   "cell_type": "code",
   "execution_count": 17,
   "metadata": {},
   "outputs": [
    {
     "name": "stdout",
     "output_type": "stream",
     "text": [
      "P R E O R D E R\n",
      "BoardGame ['Risk', Qty=2, Cost=40.99]\n",
      "BoardGame ['Monopoly', Qty=5, Cost=20.99]\n",
      "BoardGame ['Clue', Qty=2, Cost=25.99]\n",
      "BoardGame ['Quantum', Qty=3, Cost=36.99]\n",
      "BoardGame ['Snake & Ladder', Qty=1, Cost=10.0]\n",
      "BoardGame ['Saboteur', Qty=2, Cost=20.99]\n",
      "BoardGame ['Twilight Imperium', Qty=4, Cost=44.99]\n"
     ]
    }
   ],
   "source": [
    "# Preorder Traversal\n",
    "print(\"P R E O R D E R\")\n",
    "game_list = ig_tree.pre_order_traverse()\n",
    "for game in game_list:\n",
    "    print(game)\n"
   ]
  },
  {
   "cell_type": "code",
   "execution_count": 18,
   "metadata": {},
   "outputs": [
    {
     "name": "stdout",
     "output_type": "stream",
     "text": [
      "I N O R D E R\n",
      "BoardGame ['Clue', Qty=2, Cost=25.99]\n",
      "BoardGame ['Monopoly', Qty=5, Cost=20.99]\n",
      "BoardGame ['Quantum', Qty=3, Cost=36.99]\n",
      "BoardGame ['Risk', Qty=2, Cost=40.99]\n",
      "BoardGame ['Saboteur', Qty=2, Cost=20.99]\n",
      "BoardGame ['Snake & Ladder', Qty=1, Cost=10.0]\n",
      "BoardGame ['Twilight Imperium', Qty=4, Cost=44.99]\n"
     ]
    }
   ],
   "source": [
    "# Inorder Traversal\n",
    "print(\"I N O R D E R\")\n",
    "game_list = ig_tree.in_order_traverse()\n",
    "for game in game_list:\n",
    "    print(game)\n"
   ]
  },
  {
   "cell_type": "code",
   "execution_count": 19,
   "metadata": {},
   "outputs": [
    {
     "name": "stdout",
     "output_type": "stream",
     "text": [
      "P O S T O R D E R\n",
      "BoardGame ['Clue', Qty=2, Cost=25.99]\n",
      "BoardGame ['Quantum', Qty=3, Cost=36.99]\n",
      "BoardGame ['Monopoly', Qty=5, Cost=20.99]\n",
      "BoardGame ['Saboteur', Qty=2, Cost=20.99]\n",
      "BoardGame ['Twilight Imperium', Qty=4, Cost=44.99]\n",
      "BoardGame ['Snake & Ladder', Qty=1, Cost=10.0]\n",
      "BoardGame ['Risk', Qty=2, Cost=40.99]\n"
     ]
    }
   ],
   "source": [
    "# Postorder Traversal\n",
    "print(\"P O S T O R D E R\")\n",
    "game_list = ig_tree.post_order_traverse()\n",
    "for game in game_list:\n",
    "    print(game)\n"
   ]
  }
 ],
 "metadata": {
  "kernelspec": {
   "display_name": "Python 3.9.12 ('RP-X0PA_3.9')",
   "language": "python",
   "name": "python3"
  },
  "language_info": {
   "codemirror_mode": {
    "name": "ipython",
    "version": 3
   },
   "file_extension": ".py",
   "mimetype": "text/x-python",
   "name": "python",
   "nbconvert_exporter": "python",
   "pygments_lexer": "ipython3",
   "version": "3.9.12"
  },
  "orig_nbformat": 2,
  "vscode": {
   "interpreter": {
    "hash": "0974853aac2e1be22b1c71bc2108bee902f4a24fbab5204c66962b2aba421724"
   }
  }
 },
 "nbformat": 4,
 "nbformat_minor": 2
}
