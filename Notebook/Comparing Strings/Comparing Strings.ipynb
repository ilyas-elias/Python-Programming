{
 "cells": [
  {
   "cell_type": "markdown",
   "metadata": {},
   "source": [
    "## Imports\n",
    "Import libraries"
   ]
  },
  {
   "cell_type": "code",
   "execution_count": 47,
   "metadata": {},
   "outputs": [
    {
     "name": "stdout",
     "output_type": "stream",
     "text": [
      "<module 'PySimpleGUI' from 'c:\\\\ProgramData\\\\Anaconda3\\\\envs\\\\RP-X0PA_3.9\\\\lib\\\\site-packages\\\\PySimpleGUI\\\\__init__.py'>\n"
     ]
    }
   ],
   "source": [
    "import PySimpleGUI as GuiMgr\n",
    "print (GuiMgr)\n"
   ]
  },
  {
   "cell_type": "markdown",
   "metadata": {},
   "source": [
    "## Comparing Strings"
   ]
  },
  {
   "cell_type": "code",
   "execution_count": 48,
   "metadata": {},
   "outputs": [
    {
     "name": "stdout",
     "output_type": "stream",
     "text": [
      "Beijing comes before Seoul\n",
      "Seoul is similar to Seoul\n",
      "Tokyo comes after Seoul\n"
     ]
    }
   ],
   "source": [
    "listOfPlaces = [\"Beijing\", \"Seoul\", \"Tokyo\"]\n",
    "currentCity = \"Seoul\"\n",
    "\n",
    "for place in listOfPlaces:\n",
    "    if place < currentCity:\n",
    "        print (\"%s comes before %s\" % (place, currentCity))\n",
    "    elif place > currentCity:\n",
    "        print (\"%s comes after %s\" % (place, currentCity))\n",
    "    else:\n",
    "        print (\"%s is similar to %s\" % (place, currentCity))\n"
   ]
  },
  {
   "cell_type": "code",
   "execution_count": 49,
   "metadata": {},
   "outputs": [
    {
     "name": "stdout",
     "output_type": "stream",
     "text": [
      "comparing Beijing with SeOul: False\n",
      "comparing Seoul with SeOul: True\n",
      "comparing Tokyo with SeOul: False\n"
     ]
    }
   ],
   "source": [
    "# Case-Insensitive Comparisons\n",
    "listOfPlaces = [\"Beijing\", \"Seoul\", \"Tokyo\"]\n",
    "\n",
    "currentCity = \"SeOul\"\n",
    "for place in listOfPlaces:\n",
    "    print(\"comparing %s with %s: %s\" % \n",
    "        (place, currentCity, place.lower() == currentCity.lower()))\n"
   ]
  },
  {
   "cell_type": "markdown",
   "metadata": {},
   "source": [
    "# Binary Search"
   ]
  },
  {
   "cell_type": "markdown",
   "metadata": {},
   "source": [
    "## Introduction\n",
    "\n",
    "Binary search is a fast search algorithm with run-time complexity of Ο(log n). This search algorithm works on the principle of divide and conquer. For this algorithm to work properly, the data collection should be in the sorted form.\n",
    "\n",
    "Binary search looks for a particular item by comparing the middle most item of the collection. If a match occurs, then the index of item is returned. If the middle item is greater than the item, then the item is searched in the sub-array to the left of the middle item. Otherwise, the item is searched for in the sub-array to the right of the middle item. This process continues on the sub-array as well until the size of the subarray reduces to zero. (Taken from [Tutorials Point](https://www.tutorialspoint.com/data_structures_algorithms/binary_search_algorithm.htm))"
   ]
  },
  {
   "cell_type": "code",
   "execution_count": 50,
   "metadata": {},
   "outputs": [],
   "source": [
    "def binarySearch(searchFor: int, start: int, end: int) -> bool: \n",
    "    if (start > end): \n",
    "        return False\n",
    "    else:\n",
    "        mid: int = (start + end) // 2\n",
    "        if (sortList[mid] > searchFor):\n",
    "            return binarySearch(searchFor, start, mid - 1)\n",
    "        elif (sortList[mid] < searchFor): \n",
    "            return binarySearch(searchFor, mid + 1, end)\n",
    "        else: \n",
    "            return True\n"
   ]
  },
  {
   "cell_type": "markdown",
   "metadata": {},
   "source": [
    "## Testing Binary Search"
   ]
  },
  {
   "cell_type": "code",
   "execution_count": 51,
   "metadata": {},
   "outputs": [
    {
     "name": "stdout",
     "output_type": "stream",
     "text": [
      "0 False\n",
      "1 False\n",
      "2 True\n",
      "3 False\n",
      "4 True\n",
      "5 False\n",
      "6 True\n",
      "7 False\n",
      "8 True\n",
      "9 False\n",
      "10 True\n",
      "11 False\n",
      "12 True\n",
      "13 False\n",
      "14 True\n",
      "15 False\n",
      "16 True\n",
      "17 False\n",
      "18 True\n",
      "19 False\n",
      "20 True\n",
      "21 False\n",
      "22 True\n",
      "23 False\n",
      "24 True\n",
      "25 False\n",
      "26 True\n",
      "27 False\n",
      "28 True\n",
      "29 False\n",
      "30 True\n"
     ]
    }
   ],
   "source": [
    "sortList: list[int] = [2, 4, 6, 8, 10, 12, 14, 16, 18, 20, 22, 24, 26, 28, 30]\n",
    "\n",
    "for s in range(0, 31):\n",
    "    print(s, binarySearch(s, 0, len(sortList) - 1))\n",
    "    "
   ]
  },
  {
   "cell_type": "markdown",
   "metadata": {},
   "source": [
    "# Case Study - Word Search"
   ]
  },
  {
   "cell_type": "code",
   "execution_count": 52,
   "metadata": {},
   "outputs": [],
   "source": [
    "puzzle: list[list[str]] = \\\n",
    "    [ [ 'J', 'U', 'N', 'E', 'M', 'B', 'O', 'F', 'S' ],\n",
    "      [ 'F', 'A', 'P', 'R', 'I', 'L', 'E', 'E', 'E' ],\n",
    "      [ 'A', 'C', 'R', 'J', 'U', 'L', 'Y', 'B', 'P' ],\n",
    "      [ 'N', 'O', 'C', 'T', 'O', 'B', 'E', 'R', 'T' ],\n",
    "      [ 'U', 'M', 'A', 'R', 'C', 'H', 'U', 'U', 'E' ],\n",
    "      [ 'A', 'U', 'G', 'U', 'S', 'T', 'R', 'A', 'M' ],\n",
    "      [ 'D', 'E', 'C', 'E', 'M', 'B', 'E', 'R', 'B' ],\n",
    "      [ 'O', 'J', 'A', 'N', 'U', 'A', 'R', 'Y', 'E' ],\n",
    "      [ 'Y', 'N', 'O', 'V', 'E', 'M', 'B', 'E', 'R' ] ]\n"
   ]
  },
  {
   "cell_type": "code",
   "execution_count": 53,
   "metadata": {},
   "outputs": [
    {
     "name": "stdout",
     "output_type": "stream",
     "text": [
      "PRIL\n",
      "ERJT\n",
      "ARTCT\n"
     ]
    }
   ],
   "source": [
    "# Getting Horizontal Words\n",
    "x = ''.join(puzzle[1][2:6]) # Row 2 From 3rd Letter to 6th \n",
    "print(x) # PRIL\n",
    "\n",
    "# Getting Vertical Words\n",
    "x = ''.join([puzzle[0+i][3] for i in range(4)]) # From 1,4 Four letters \n",
    "print(x) # ERJT\n",
    "\n",
    "# Getting Diagonal Words\n",
    "x = ''.join([puzzle[1+i][1+i] for i in range(5)]) # From 2,2 Five letters \n",
    "print(x) # ARTCT"
   ]
  },
  {
   "cell_type": "code",
   "execution_count": 54,
   "metadata": {},
   "outputs": [
    {
     "name": "stdout",
     "output_type": "stream",
     "text": [
      "756 words generated\n"
     ]
    }
   ],
   "source": [
    "MAX_WORD_SIZE: int = 9\n",
    "\n",
    "def gen_word_list() -> list[str]:\n",
    "    words: list[str] = []\n",
    "\n",
    "    # horizontal words\n",
    "    for row in range(len(puzzle)): \n",
    "        for wordsize in range(4, MAX_WORD_SIZE+1): \n",
    "            for col in range(len(puzzle[row]) - wordsize + 1):\n",
    "                word: str = ''.join(puzzle[row][col:col+wordsize])\n",
    "                words.append(word)\n",
    "                words.append(word[::-1]) # Reverse the word\n",
    "\n",
    "    # vertical words\n",
    "    for col in range(len(puzzle[0])):\n",
    "        for wordsize in range(4, MAX_WORD_SIZE + 1):\n",
    "            for row in range(len(puzzle) - wordsize + 1) :\n",
    "                word: str = ''.join([puzzle[row+i][col] for i in range(wordsize)]) \n",
    "                words.append(word)\n",
    "                words.append(word[::-1]) # Reverse the word\n",
    "\n",
    "    return words\n",
    "\n",
    "word_list: list[str] = gen_word_list()\n",
    "print(len(word_list), \"words generated\")\n"
   ]
  },
  {
   "cell_type": "code",
   "execution_count": 55,
   "metadata": {},
   "outputs": [
    {
     "name": "stdout",
     "output_type": "stream",
     "text": [
      "['JUNEMBOF', 'FOBMENUJ', 'UNEMBOFS', 'SFOBMENU', 'FAPRILEE', 'EELIRPAF', 'APRILEEE', 'EEELIRPA', 'ACRJULYB', 'BYLUJRCA', 'CRJULYBP', 'PBYLUJRC', 'NOCTOBER', 'REBOTCON', 'OCTOBERT', 'TREBOTCO', 'UMARCHUU', 'UUHCRAMU', 'MARCHUUE', 'EUUHCRAM', 'AUGUSTRA', 'ARTSUGUA', 'UGUSTRAM', 'MARTSUGU', 'DECEMBER', 'REBMECED', 'ECEMBERB', 'BREBMECE', 'OJANUARY', 'YRAUNAJO', 'JANUARYE', 'EYRAUNAJ', 'YNOVEMBE', 'EBMEVONY', 'NOVEMBER', 'REBMEVON', 'JFANUADO', 'ODAUNAFJ', 'FANUADOY', 'YODAUNAF', 'UACOMUEJ', 'JEUMOCAU', 'ACOMUEJN', 'NJEUMOCA', 'NPRCAGCA', 'ACGACRPN', 'PRCAGCAO', 'OACGACRP', 'ERJTRUEN', 'NEURTJRE', 'RJTRUENV', 'VNEURTJR', 'MIUOCSMU', 'UMSCOUIM', 'IUOCSMUE', 'EUMSCOUI', 'BLLBHTBA', 'ABTHBLLB', 'LLBHTBAM', 'MABTHBLL', 'OEYEURER', 'RERUEYEO', 'EYEURERB', 'BRERUEYE', 'FEBRUARY', 'YRAURBEF', 'EBRUARYE', 'EYRAURBE', 'SEPTEMBE', 'EBMETPES', 'EPTEMBER', 'REBMETPE']\n"
     ]
    }
   ],
   "source": [
    "#print(gen_word_list())\n",
    "\n",
    "print(list(filter(lambda x: len(x)==8, gen_word_list())))\n"
   ]
  },
  {
   "cell_type": "code",
   "execution_count": 56,
   "metadata": {},
   "outputs": [
    {
     "data": {
      "text/plain": [
       "True"
      ]
     },
     "execution_count": 56,
     "metadata": {},
     "output_type": "execute_result"
    }
   ],
   "source": [
    "word_list = []\n",
    "with open('dictionary.txt') as f:\n",
    "    word_list = [word.rstrip() for word in f.readlines()]\n",
    "\n",
    "def binarySearchWord(word: str, front: int, back: int) -> bool:\n",
    "    if (front > back): \n",
    "        return False\n",
    "    else: \n",
    "        mid: int = (front + back) // 2\n",
    "        # print(word_list[mid], len(word_list[mid]))\n",
    "        if (word > word_list[mid]):  \n",
    "            # Recursively Search Second Half\n",
    "            return binarySearchWord(word, mid + 1, back)    \n",
    "        elif (word < word_list[mid]):\n",
    "            # Recursively Search First Half\n",
    "            return binarySearchWord(word, front, mid - 1)\n",
    "        else: \n",
    "            # Found the word\n",
    "            return True\n",
    "\n",
    "def is_word(word: str) -> bool:\n",
    "    return binarySearchWord(word.upper(), 0, len(word_list)-1)\n",
    "\n",
    "is_word('december')"
   ]
  },
  {
   "cell_type": "markdown",
   "metadata": {},
   "source": [
    "## Solution"
   ]
  },
  {
   "cell_type": "code",
   "execution_count": 57,
   "metadata": {},
   "outputs": [
    {
     "name": "stdout",
     "output_type": "stream",
     "text": [
      "['JUNE', 'APRIL', 'JULY', 'OCTOBER', 'MARCH', 'AUGUST', 'DECEMBER', 'JANUARY', 'NOVEMBER', 'DAUN', 'MOCA', 'BRER', 'FEBRUARY', 'SEPTEMBER']\n"
     ]
    }
   ],
   "source": [
    "print(list(filter(lambda x: is_word(x), gen_word_list())))\n"
   ]
  },
  {
   "cell_type": "markdown",
   "metadata": {},
   "source": [
    "# Sorting Algorithms\n",
    "This notebook contains various code for Sorting\n",
    "- Bubble Sorting\n",
    "- Selection Sorting\n",
    "\n"
   ]
  },
  {
   "cell_type": "markdown",
   "metadata": {},
   "source": [
    "## Resources\n",
    "- https://sadanandpai.github.io/sorting-visualizer/dist/\n",
    "- https://www.toptal.com/developers/sorting-algorithms\n",
    "\n"
   ]
  },
  {
   "cell_type": "markdown",
   "metadata": {},
   "source": [
    "## Bubble Sort"
   ]
  },
  {
   "cell_type": "markdown",
   "metadata": {},
   "source": [
    "## Introduction\n",
    "\n",
    "Bubble sort is a simple sorting algorithm. This sorting algorithm is comparison-based algorithm in which each pair of adjacent elements is compared and the elements are swapped if they are not in order. This algorithm is not suitable for large data sets as its average and worst case complexity are of Ο(n<sup>2</sup>) where n is the number of items. (Taken from [Tutorials Point](https://www.tutorialspoint.com/data_structures_algorithms/bubble_sort_algorithm.htm))"
   ]
  },
  {
   "cell_type": "code",
   "execution_count": 58,
   "metadata": {},
   "outputs": [],
   "source": [
    "# Ascending, larger number bubbling to the right\n",
    "def bubble_sort_asc_right(list: list[int]) -> None:\n",
    "    for i in range(len(list)-1): \n",
    "        for j in range(len(list)-1-i):\n",
    "            if (list[j] > list[j+1]): \n",
    "                list[j], list[j+1] = \\\n",
    "                list[j+1], list[j]\n",
    "\n",
    "# Descending, smaller number bubbling to the right                \n",
    "def bubble_sort_dsc_right(list: list[int]) -> None:\n",
    "    for i in range(len(list)-1): \n",
    "        for j in range(len(list)-1-i):\n",
    "            if (list[j] < list[j+1]): \n",
    "                list[j], list[j+1] = \\\n",
    "                list[j+1], list[j]\n",
    "\n",
    "# Ascending, smaller number bubbling to the left\n",
    "def bubble_sort_asc_left(list: list[int]) -> None:\n",
    "    for i in range(len(list)-1): \n",
    "        for j in range(len(list)-1, i, -1):\n",
    "            if (list[j] < list[j-1]): \n",
    "                list[j], list[j-1] = \\\n",
    "                list[j-1], list[j]\n",
    "\n",
    "# Descending, larger number bubbling to the left                \n",
    "def bubble_sort_dsc_left(list: list[int]) -> None:\n",
    "    for i in range(len(list)-1): \n",
    "        for j in range(len(list)-1, i, -1):\n",
    "            if (list[j] > list[j-1]): \n",
    "                list[j], list[j-1] = \\\n",
    "                list[j-1], list[j]\n",
    "\n"
   ]
  },
  {
   "cell_type": "markdown",
   "metadata": {},
   "source": [
    "## Testing Bubble Sort"
   ]
  },
  {
   "cell_type": "code",
   "execution_count": 59,
   "metadata": {},
   "outputs": [
    {
     "name": "stdout",
     "output_type": "stream",
     "text": [
      "1 [0, 1, 2, 3, 4, 5, 6, 7, 8, 9]\n",
      "2 [9, 8, 7, 6, 5, 4, 3, 2, 1, 0]\n",
      "3 [0, 1, 2, 3, 4, 5, 6, 7, 8, 9]\n",
      "4 [9, 8, 7, 6, 5, 4, 3, 2, 1, 0]\n"
     ]
    }
   ],
   "source": [
    "test1: list[int] = [1]\n",
    "bubble_sort_asc_left(test1)\n",
    "bubble_sort_asc_left(test1)\n",
    "bubble_sort_dsc_right(test1)\n",
    "bubble_sort_dsc_right(test1)\n",
    "\n",
    "test2 = [10]\n",
    "bubble_sort_asc_left(test2)\n",
    "bubble_sort_asc_left(test2)\n",
    "bubble_sort_dsc_right(test2)\n",
    "bubble_sort_dsc_right(test2)\n",
    "\n",
    "array = [1, 9, 2, 8, 3, 7, 4, 6, 5, 0]\n",
    "bubble_sort_asc_left(array)\n",
    "print(1, array)\n",
    "\n",
    "array = [1, 9, 2, 8, 3, 7, 4, 6, 5, 0]\n",
    "bubble_sort_dsc_left(array)\n",
    "print(2, array)\n",
    "\n",
    "array = [1, 9, 2, 8, 3, 7, 4, 6, 5, 0]\n",
    "bubble_sort_asc_right(array)\n",
    "print(3, array)\n",
    "\n",
    "array = [1, 9, 2, 8, 3, 7, 4, 6, 5, 0]\n",
    "bubble_sort_dsc_right(array)\n",
    "print(4, array)\n"
   ]
  },
  {
   "cell_type": "markdown",
   "metadata": {},
   "source": [
    "## Selection Sort"
   ]
  },
  {
   "cell_type": "markdown",
   "metadata": {},
   "source": [
    "## Introduction\n",
    "\n",
    "Selection sort is a simple sorting algorithm. This sorting algorithm is an in-place comparison-based algorithm in which the list is divided into two parts, the sorted part at the left end and the unsorted part at the right end. Initially, the sorted part is empty and the unsorted part is the entire list.\n",
    "\n",
    "The smallest element is selected from the unsorted array and swapped with the leftmost element, and that element becomes a part of the sorted array. This process continues moving unsorted array boundary by one element to the right.\n",
    "\n",
    "This algorithm is not suitable for large data sets as its average and worst case complexities are of Ο(n<sup>2</sup>), where n is the number of items.  (Taken from [Tutorials Point](https://www.tutorialspoint.com/data_structures_algorithms/selection_sort_algorithm.htm))"
   ]
  },
  {
   "cell_type": "code",
   "execution_count": 60,
   "metadata": {},
   "outputs": [],
   "source": [
    "# Ascending, smaller number selected to the left\n",
    "def selection_sort_asc_left(list: list[int]) -> None:\n",
    "    for i in range(len(list)-1): \n",
    "        idx: int = i\n",
    "        for j in range(i, len(list)):\n",
    "            if (list[j] < list[idx]) :\n",
    "                idx = j\n",
    "        list[i], list[idx] = \\\n",
    "        list[idx], list[i]\n",
    "\n",
    "# Descending, larger number selected to the left\n",
    "def selection_sort_dsc_left(list: list[int]) -> None:\n",
    "    for i in range(len(list)-1): \n",
    "        idx: int = i\n",
    "        for j in range(i, len(list)):\n",
    "            if (list[j] > list[idx]) :\n",
    "                idx = j\n",
    "        list[i], list[idx] = \\\n",
    "        list[idx], list[i]\n",
    "\n",
    "# Ascending, larger number selected to the right\n",
    "def selection_sort_asc_right(list: list[int]) -> None:\n",
    "    for i in range(len(list)-1, 0, -1): \n",
    "        idx: int = i\n",
    "        for j in range(0, i):\n",
    "            if (list[j] > list[idx]) :\n",
    "                idx = j\n",
    "        list[i], list[idx] = \\\n",
    "        list[idx], list[i]\n",
    "\n",
    "# Descending, smaller number selected to the right\n",
    "def selection_sort_dsc_right(list: list[int]) -> None:\n",
    "    for i in range(len(list)-1, 0, -1): \n",
    "        idx: int = i\n",
    "        for j in range(0, i):\n",
    "            if (list[j] < list[idx]) :\n",
    "                idx = j\n",
    "        list[i], list[idx] = \\\n",
    "        list[idx], list[i]\n"
   ]
  },
  {
   "cell_type": "markdown",
   "metadata": {},
   "source": [
    "## Testing Selection Sort\n"
   ]
  },
  {
   "cell_type": "code",
   "execution_count": 61,
   "metadata": {},
   "outputs": [
    {
     "name": "stdout",
     "output_type": "stream",
     "text": [
      "1 [0, 1, 2, 3, 4, 5, 6, 7, 8, 9]\n",
      "2 [9, 8, 7, 6, 5, 4, 3, 2, 1, 0]\n",
      "3 [0, 1, 2, 3, 4, 5, 6, 7, 8, 9]\n",
      "4 [9, 8, 7, 6, 5, 4, 3, 2, 1, 0]\n"
     ]
    }
   ],
   "source": [
    "test1 = []\n",
    "selection_sort_asc_left(test1)\n",
    "selection_sort_asc_left(test1)\n",
    "selection_sort_dsc_right(test1)\n",
    "selection_sort_dsc_right(test1)\n",
    "\n",
    "test2 = [10]\n",
    "selection_sort_asc_left(test2)\n",
    "selection_sort_asc_left(test2)\n",
    "selection_sort_dsc_right(test2)\n",
    "selection_sort_dsc_right(test2)\n",
    "\n",
    "array = [1, 9, 2, 8, 3, 7, 4, 6, 5, 0]\n",
    "selection_sort_asc_left(array)\n",
    "print(1, array)\n",
    "\n",
    "array = [1, 9, 2, 8, 3, 7, 4, 6, 5, 0]\n",
    "selection_sort_dsc_left(array)\n",
    "print(2, array)\n",
    "\n",
    "array = [1, 9, 2, 8, 3, 7, 4, 6, 5, 0]\n",
    "selection_sort_asc_right(array)\n",
    "print(3, array)\n",
    "\n",
    "array = [1, 9, 2, 8, 3, 7, 4, 6, 5, 0]\n",
    "selection_sort_dsc_right(array)\n",
    "print(4, array)"
   ]
  },
  {
   "cell_type": "markdown",
   "metadata": {},
   "source": [
    "# Case Study - Roll of Honours\n"
   ]
  },
  {
   "cell_type": "markdown",
   "metadata": {},
   "source": [
    "## Load Student Records from CSV file int student_list\n"
   ]
  },
  {
   "cell_type": "code",
   "execution_count": 62,
   "metadata": {},
   "outputs": [
    {
     "name": "stdout",
     "output_type": "stream",
     "text": [
      "1000 Student Records Loaded\n",
      "(15077790, 'Judy Quek', 'SHL', 3.66819408748)\n",
      "(15073142, 'Andy Chow', 'SOI', 2.98912801338)\n",
      "(15049527, 'Ah Teck Then', 'SOI', 2.48984116571)\n",
      "(15074935, 'Daisy Goh', 'SHL', 2.87091041138)\n",
      "(15062333, 'Brenda Boo', 'SOH', 2.71561070868)\n",
      "(15055639, 'Wee Teck Goh', 'SAS', 3.02500102299)\n",
      "(15074346, 'Brenda Goh', 'SAS', 3.80719247612)\n",
      "(15075877, 'Timothy Chye', 'SHL', 2.27389683731)\n",
      "(15058875, 'Brenda Yap', 'SOH', 2.89189434167)\n",
      "(15061436, 'Michelle Teo', 'SHL', 2.1082494102)\n"
     ]
    }
   ],
   "source": [
    "import csv\n",
    "\n",
    "student_list: list[tuple[int, str, str, float]] = []\n",
    "\n",
    "with open('students.csv') as f:\n",
    "    csv_reader = csv.reader(f, delimiter=',')\n",
    "    for row in csv_reader:\n",
    "        record = (int(row[0]), row[1], row[2], float(row[3]))\n",
    "        student_list.append(record)\n",
    "\n",
    "print(len(student_list), \"Student Records Loaded\")\n",
    "\n",
    "# Show first 10 records\n",
    "for i in range(10):\n",
    "    print(student_list[i])\n"
   ]
  },
  {
   "cell_type": "markdown",
   "metadata": {},
   "source": [
    "## Implement Bubble and Selection Sort to sort GPA's in descending order\n"
   ]
  },
  {
   "cell_type": "code",
   "execution_count": 63,
   "metadata": {},
   "outputs": [],
   "source": [
    "def gpa_sort_bubble() -> None:\n",
    "    for i in range(len(student_list)-1): \n",
    "        for j in range(len(student_list) - i - 1):\n",
    "            if (student_list[j][3] < student_list[j+1][3]): \n",
    "                student_list[j], student_list[j+1] = \\\n",
    "                student_list[j+1], student_list[j]\n",
    "                \n",
    "def gpa_sort_selection() -> None:\n",
    "    for i in range(len(student_list)-1): \n",
    "        idx: int = i\n",
    "        for j in range(i, len(student_list)):\n",
    "            if (student_list[j][3] > student_list[idx][3]) :\n",
    "                idx = j\n",
    "        student_list[i], student_list[idx] = \\\n",
    "        student_list[idx], student_list[i]\n"
   ]
  },
  {
   "cell_type": "markdown",
   "metadata": {},
   "source": [
    "## Sort the Student Records by GPA\n"
   ]
  },
  {
   "cell_type": "code",
   "execution_count": 64,
   "metadata": {},
   "outputs": [
    {
     "name": "stdout",
     "output_type": "stream",
     "text": [
      "[1] for Selection and [2] for Bubble\n",
      "Display the first 10 records\n",
      "(15053452, 'Daisy Tan', 'SOH', 3.99372263644)\n",
      "(15076228, 'Wee Teck Loh', 'SEG', 3.99104730155)\n",
      "(15052007, 'Peter Then', 'SEG', 3.98893491476)\n",
      "(15052744, 'Belinda Ravi', 'SEG', 3.98077186879)\n",
      "(15064134, 'Judy Chye', 'SAS', 3.98022982614)\n",
      "(15078390, 'Brenda Goh', 'SOI', 3.97879018841)\n",
      "(15067115, 'Wee Teck Chang', 'SOI', 3.97822249222)\n",
      "(15063753, 'Brenda Jones', 'SHL', 3.97643452838)\n",
      "(15071388, 'George Man', 'SHL', 3.97636525963)\n",
      "(15077926, 'David David', 'SOH', 3.97514812377)\n"
     ]
    }
   ],
   "source": [
    "print(\"[1] for Selection and [2] for Bubble\")\n",
    "choice = input(\"Enter Choice -> \")\n",
    "if choice == 1:\n",
    "    gpa_sort_selection()\n",
    "else:\n",
    "    gpa_sort_bubble()\n",
    "\n",
    "print(\"Display the first 10 records\")\n",
    "for i in range(10):\n",
    "    print(student_list[i])\n"
   ]
  },
  {
   "cell_type": "markdown",
   "metadata": {},
   "source": [
    "## Display the top 5% of the cohort\n"
   ]
  },
  {
   "cell_type": "code",
   "execution_count": 65,
   "metadata": {},
   "outputs": [
    {
     "name": "stdout",
     "output_type": "stream",
     "text": [
      "1 (15053452, 'Daisy Tan', 'SOH', 3.99372263644)\n",
      "2 (15076228, 'Wee Teck Loh', 'SEG', 3.99104730155)\n",
      "3 (15052007, 'Peter Then', 'SEG', 3.98893491476)\n",
      "4 (15052744, 'Belinda Ravi', 'SEG', 3.98077186879)\n",
      "5 (15064134, 'Judy Chye', 'SAS', 3.98022982614)\n",
      "6 (15078390, 'Brenda Goh', 'SOI', 3.97879018841)\n",
      "7 (15067115, 'Wee Teck Chang', 'SOI', 3.97822249222)\n",
      "8 (15063753, 'Brenda Jones', 'SHL', 3.97643452838)\n",
      "9 (15071388, 'George Man', 'SHL', 3.97636525963)\n",
      "10 (15077926, 'David David', 'SOH', 3.97514812377)\n",
      "11 (15079796, 'Lisa Ng', 'SOH', 3.97279421114)\n",
      "12 (15058766, 'Brenda Ang', 'SOI', 3.97238005299)\n",
      "13 (15055519, 'Timothy Ravi', 'SHL', 3.97171468954)\n",
      "14 (15053644, 'Lee Long Goh', 'SOI', 3.97035093461)\n",
      "15 (15043222, 'Belinda Lim', 'SEG', 3.96991378473)\n",
      "16 (15064509, 'Wee Teck David', 'SAS', 3.96971416503)\n",
      "17 (15057718, 'Wee Teck Yong', 'SOH', 3.96793031089)\n",
      "18 (15079923, 'Michelle Yong', 'SAS', 3.96698099727)\n",
      "19 (15059244, 'Debra Loo', 'SEG', 3.96688577659)\n",
      "20 (15044030, 'Wee Teck Goh', 'SAS', 3.96644922133)\n",
      "21 (15054829, 'John Smith', 'SAS', 3.95991705554)\n",
      "22 (15067894, 'Judy Tan', 'SOH', 3.95972595372)\n",
      "23 (15074240, 'Michelle Then', 'SOH', 3.95875653068)\n",
      "24 (15056280, 'Michelle David', 'SAS', 3.95721239355)\n",
      "25 (15066700, 'Michelle Wong', 'SOH', 3.95686092982)\n",
      "26 (15074870, 'Belinda Kang', 'SEG', 3.95518711484)\n",
      "27 (15058349, 'Siew Ling Ng', 'SHL', 3.95342107558)\n",
      "28 (15071745, 'George Quek', 'SAS', 3.95041494415)\n",
      "29 (15053149, 'Mary David', 'SOH', 3.95005667257)\n",
      "30 (15047407, 'Debra David', 'SAS', 3.94961615285)\n",
      "31 (15044533, 'George Loh', 'SOH', 3.94920282906)\n",
      "32 (15041306, 'Eunice Chan', 'SEG', 3.94895583163)\n",
      "33 (15045511, 'James Tan', 'SOH', 3.94888628895)\n",
      "34 (15057560, 'Andy Wong', 'SAS', 3.9484134737)\n",
      "35 (15065862, 'Sim Sim Goh', 'SEG', 3.94662462735)\n",
      "36 (15077811, 'Ai Ling Ravi', 'SOH', 3.94593635939)\n",
      "37 (15059044, 'Sim Sim Ang', 'SEG', 3.94182708067)\n",
      "38 (15071692, 'Charlene David', 'SEG', 3.93967616194)\n",
      "39 (15076937, 'Daisy Boo', 'SOI', 3.93934927314)\n",
      "40 (15042892, 'James Goh', 'SAS', 3.93759958505)\n",
      "41 (15056345, 'Peter Quek', 'SAS', 3.93012253698)\n",
      "42 (15045541, 'James Seow', 'SOI', 3.9299899957)\n",
      "43 (15072989, 'Luke Chow', 'SOI', 3.92705008603)\n",
      "44 (15058016, 'Debra Yeo', 'SOI', 3.9259123024)\n",
      "45 (15042558, 'Debra Chye', 'SAS', 3.92534146195)\n",
      "46 (15064221, 'Mary Man', 'SAS', 3.9218038657)\n",
      "47 (15064880, 'Andy Chan', 'SAS', 3.91923257207)\n",
      "48 (15045178, 'Andy Loo', 'SOH', 3.91857400836)\n",
      "49 (15064960, 'Sim Sim Jones', 'SEG', 3.91835713933)\n",
      "50 (15054169, 'George Jones', 'SAS', 3.91780474516)\n"
     ]
    }
   ],
   "source": [
    "top5 = int(len(student_list) * 5 / 100)\n",
    "for i in range(top5):\n",
    "    print(i+1, student_list[i])\n"
   ]
  }
 ],
 "metadata": {
  "kernelspec": {
   "display_name": "Python 3.9.12 ('RP-X0PA_3.9')",
   "language": "python",
   "name": "python3"
  },
  "language_info": {
   "codemirror_mode": {
    "name": "ipython",
    "version": 3
   },
   "file_extension": ".py",
   "mimetype": "text/x-python",
   "name": "python",
   "nbconvert_exporter": "python",
   "pygments_lexer": "ipython3",
   "version": "3.9.12"
  },
  "orig_nbformat": 2,
  "vscode": {
   "interpreter": {
    "hash": "0974853aac2e1be22b1c71bc2108bee902f4a24fbab5204c66962b2aba421724"
   }
  }
 },
 "nbformat": 4,
 "nbformat_minor": 2
}
