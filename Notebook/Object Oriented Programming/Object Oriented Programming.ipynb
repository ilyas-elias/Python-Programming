{
 "cells": [
  {
   "cell_type": "markdown",
   "metadata": {},
   "source": [
    "## Numeric Types\n",
    "There are three distinct numeric types: **integers**, **floating point numbers**, and **complex numbers**. "
   ]
  },
  {
   "cell_type": "code",
   "execution_count": 1,
   "metadata": {},
   "outputs": [
    {
     "name": "stdout",
     "output_type": "stream",
     "text": [
      "<class 'int'>\n",
      "<class 'float'>\n",
      "<class 'complex'>\n"
     ]
    }
   ],
   "source": [
    "num1 = 20                  # int\n",
    "num2 = 7.9                 # float\n",
    "num3 = 3.142j              # complex\n",
    "\n",
    "print(type(num1))\n",
    "print(type(num2))\n",
    "print(type(num3))\n"
   ]
  },
  {
   "cell_type": "markdown",
   "metadata": {},
   "source": [
    "## Strings\n"
   ]
  },
  {
   "cell_type": "code",
   "execution_count": 2,
   "metadata": {},
   "outputs": [
    {
     "name": "stdout",
     "output_type": "stream",
     "text": [
      "The quick\n",
      "brown fox\n",
      "      jumps over the \n",
      "            lazy dog\n"
     ]
    }
   ],
   "source": [
    "str1 = \"Hello World\"         # Delimited by double quotes\n",
    "str2 = 'Hi Cosmos'           # Delimited by single quotes\n",
    "\n",
    "# Multi-line String\n",
    "str3 = \"\"\"The quick\n",
    "brown fox\n",
    "      jumps over the \n",
    "            lazy dog\"\"\"\n",
    "print(str3)\n"
   ]
  },
  {
   "cell_type": "markdown",
   "metadata": {},
   "source": [
    "## Lists"
   ]
  },
  {
   "cell_type": "code",
   "execution_count": 3,
   "metadata": {},
   "outputs": [
    {
     "name": "stdout",
     "output_type": "stream",
     "text": [
      "<class 'list'>\n",
      "['Apple', 'Banana', 'Cherry']\n"
     ]
    }
   ],
   "source": [
    "list = [] # Create an empty list\n",
    "print(type(list))\n",
    "\n",
    "list.append(\"Banana\")\n",
    "list.insert(0, \"Apple\")\n",
    "list.append(\"Cherry\")\n",
    "print(list)\n"
   ]
  },
  {
   "cell_type": "code",
   "execution_count": 4,
   "metadata": {},
   "outputs": [
    {
     "name": "stdout",
     "output_type": "stream",
     "text": [
      "Christopher is third name\n",
      "7\n",
      "Grace is last name\n"
     ]
    }
   ],
   "source": [
    "name_list = [\"Albert\", \"Ben\", \"Christopher\", \"Daniel\", \"Elaine\", \"Frank\", \"Grace\"]\n",
    "c = name_list[2]\n",
    "print(c + \" is third name\")\n",
    "\n",
    "total_names = len(name_list)\n",
    "print(total_names)\n",
    "\n",
    "g = name_list[-1]\n",
    "print(g + \" is last name\")\n"
   ]
  },
  {
   "cell_type": "markdown",
   "metadata": {},
   "source": [
    "## Exercises (Simple Algorithms)"
   ]
  },
  {
   "cell_type": "code",
   "execution_count": 5,
   "metadata": {},
   "outputs": [
    {
     "name": "stdout",
     "output_type": "stream",
     "text": [
      "Albert, Ben, Christopher, Daniel, Elaine, Frank, Grace, "
     ]
    }
   ],
   "source": [
    "# Iterating over Lists\n",
    "for member in name_list:\n",
    "    print(member, end=\", \")"
   ]
  },
  {
   "cell_type": "code",
   "execution_count": 6,
   "metadata": {},
   "outputs": [
    {
     "name": "stdout",
     "output_type": "stream",
     "text": [
      "Albert, Christopher, Elaine, Grace, "
     ]
    }
   ],
   "source": [
    "# Odd position members\n",
    "for n, member in enumerate(name_list):\n",
    "    if n % 2 == 0:\n",
    "        print(member, end=\", \")"
   ]
  },
  {
   "cell_type": "code",
   "execution_count": 7,
   "metadata": {},
   "outputs": [
    {
     "name": "stdout",
     "output_type": "stream",
     "text": [
      "['Albert', 'Christopher', 'Daniel', 'Elaine']\n"
     ]
    }
   ],
   "source": [
    "# Select names with more than 5 characters\n",
    "new_list = []\n",
    "for member in name_list:\n",
    "    if len(member) > 5:\n",
    "        new_list.append(member)\n",
    "print(new_list)"
   ]
  },
  {
   "cell_type": "code",
   "execution_count": 8,
   "metadata": {},
   "outputs": [
    {
     "name": "stdout",
     "output_type": "stream",
     "text": [
      "3\n"
     ]
    }
   ],
   "source": [
    "# Count how many names less than 6 characters\n",
    "answer = 0\n",
    "for member in name_list:\n",
    "    if len(member) < 6:\n",
    "        answer += 1\n",
    "print(answer)"
   ]
  },
  {
   "cell_type": "code",
   "execution_count": 9,
   "metadata": {},
   "outputs": [
    {
     "name": "stdout",
     "output_type": "stream",
     "text": [
      "Total letters in all names is 42\n"
     ]
    }
   ],
   "source": [
    "# Total letters in all names\n",
    "total = 0\n",
    "for name in name_list:\n",
    "    total += len(name)\n",
    "print(f\"Total letters in all names is {total}\")"
   ]
  },
  {
   "cell_type": "code",
   "execution_count": 10,
   "metadata": {},
   "outputs": [
    {
     "name": "stdout",
     "output_type": "stream",
     "text": [
      "Longest name is Christopher. Shortest name is Ben\n"
     ]
    }
   ],
   "source": [
    "# Print the longest and shortest name\n",
    "longest = shortest = name_list[0]\n",
    "for name in name_list:\n",
    "    if len(name) < len(shortest):\n",
    "        shortest = name\n",
    "    elif len(name) > len(longest):\n",
    "        longest = name    \n",
    "print(\"Longest name is {}. Shortest name is {}\".format(longest, shortest))"
   ]
  },
  {
   "cell_type": "markdown",
   "metadata": {},
   "source": [
    "# Object Oriented Programming"
   ]
  },
  {
   "cell_type": "markdown",
   "metadata": {},
   "source": [
    "## Introduction\n",
    "\n",
    "Object-oriented programming and design is an approach that is based around 'objects'. You have already been working regularly with objects such as lists, tuples and dictionaries\n",
    "\n",
    "The topic of object-oriented programming is a whole module on its own, so in this section we will focus on:\n",
    "- Classes\n",
    "- Attributes of objects\n",
    "- Class methods\n",
    "\n",
    "Python supports the object-oriented programming paradigm; in fact, everything in Python is an object. You have been using concepts from object-oriented computing throughout this course.\n",
    "\n",
    "\n",
    "### Objectives\n",
    "- Appreciate objects as instantiations of classes\n",
    "- Understanding of attributes (values and methods) of classes\n",
    "- Learn to create simple classes\n",
    "- Implement and use class methods"
   ]
  },
  {
   "cell_type": "code",
   "execution_count": 11,
   "metadata": {},
   "outputs": [
    {
     "name": "stdout",
     "output_type": "stream",
     "text": [
      "<class 'str'>\n",
      "<class 'str'>\n",
      "abcdefghijklmnopqrstuvwxyz\n",
      "Calling the method ABCDEFGHIJKLMNOPQRSTUVWXYZ\n",
      "Printing the data ABCDEFGHIJKLMNOPQRSTUVWXYZ\n"
     ]
    }
   ],
   "source": [
    "# \"obj\" is a str object\n",
    "obj = \"ABCDEFGHIJKLMNOPQRSTUVWXYZ\"\n",
    "\n",
    "# Data Attribute of obj\n",
    "c = obj.__class__\n",
    "print(type(obj))  \n",
    "print(c)\n",
    "\n",
    "# Call Method obj\n",
    "print(obj.lower())\n",
    "\n",
    "# Method Attribute of obj\n",
    "myFunc = obj.upper    # Storing the reference to the Method upper\n",
    "myData = obj.upper()  # Calling the Method upper and storing the result\n",
    "print(\"Calling the method \" + myFunc())\n",
    "print(\"Printing the data \" + myData)\n"
   ]
  },
  {
   "cell_type": "code",
   "execution_count": 12,
   "metadata": {},
   "outputs": [
    {
     "name": "stdout",
     "output_type": "stream",
     "text": [
      "Windows ('64bit', 'WindowsPE') Intel64 Family 6 Model 79 Stepping 1, GenuineIntel\n"
     ]
    }
   ],
   "source": [
    "import platform\n",
    "\n",
    "arch = platform.architecture()\n",
    "os   = platform.system()\n",
    "cpu  = platform.processor()\n",
    "print(f\"{os} {arch} {cpu}\")\n",
    "\n"
   ]
  },
  {
   "cell_type": "markdown",
   "metadata": {},
   "source": [
    "## Car Class"
   ]
  },
  {
   "cell_type": "code",
   "execution_count": 13,
   "metadata": {},
   "outputs": [],
   "source": [
    "class Car():\n",
    "    \"\"\" Blueprint for the Car \"\"\"  # docstring\n",
    "\n",
    "    maker = \"Honda\"                # class attribute\n",
    "\n",
    "    def __init__(self, licenseNo, color, maxSpeed): # initializer method\n",
    "        \"\"\" runs when a new object is created.\n",
    "        Equivalent to constructor in other languages \n",
    "        \"\"\"\n",
    "        self.licenseNo = licenseNo  # instance attribute\n",
    "        self.color = color          # instance attribute\n",
    "        self.maxSpeed = maxSpeed    # instance attribute\n",
    "\n",
    "    def __str__(self): # special method\n",
    "        \"\"\" runs when Python tries to cast the object to a string. \n",
    "        Return this string when using print(), etc.\n",
    "        \"\"\"\n",
    "        return f\"{self.licenseNo}: {self.color} {Car.maker}, maxspeed={self.maxSpeed}\"\n",
    "\n",
    "    def accelerate(self, times):                # instance method\n",
    "        print(f'Stepping {times}x Accelerator')\n",
    "\n",
    "    def brake(self, times):                     # instance method\n",
    "        print(f'Applying {times}x Brakes')\n",
    "\n",
    "    def turn(self, degree):                     # instance method\n",
    "        print(f'Turning {degree} degrees')\n",
    "\n",
    "    def horn(self):                             # instance method\n",
    "        print(f\"{self.licenseNo}: BOOR BOOR\")\n"
   ]
  },
  {
   "cell_type": "markdown",
   "metadata": {},
   "source": [
    "### Creating Car Objects"
   ]
  },
  {
   "cell_type": "code",
   "execution_count": 14,
   "metadata": {},
   "outputs": [
    {
     "name": "stdout",
     "output_type": "stream",
     "text": [
      "SGT1347T: black Honda, maxspeed=220\n",
      "SMA1347T: maroon Honda, maxspeed=190\n",
      "EX23T: gray Honda, maxspeed=200\n"
     ]
    }
   ],
   "source": [
    "honda_civic = Car('SGT1347T', 'black', 220)\n",
    "honda_city = Car('SMA1347T', 'maroon', 190)\n",
    "honda_accord = Car('EX23T', 'gray', 200)\n",
    "\n",
    "print(honda_civic)\n",
    "print(honda_city)\n",
    "print(honda_accord)"
   ]
  },
  {
   "cell_type": "markdown",
   "metadata": {},
   "source": [
    "### Putting Car Objects in a list"
   ]
  },
  {
   "cell_type": "code",
   "execution_count": 15,
   "metadata": {},
   "outputs": [
    {
     "name": "stdout",
     "output_type": "stream",
     "text": [
      "SGT1347T: black Honda, maxspeed=220\n",
      "SMA1347T: maroon Honda, maxspeed=190\n",
      "EX23T: gray Honda, maxspeed=200\n"
     ]
    }
   ],
   "source": [
    "cars = []\n",
    "cars.append(honda_civic)\n",
    "cars.append(honda_city)\n",
    "cars.append(honda_accord)\n",
    "\n",
    "for car in cars:\n",
    "    print(car)\n"
   ]
  },
  {
   "cell_type": "markdown",
   "metadata": {},
   "source": [
    "### Calling Instance Methods"
   ]
  },
  {
   "cell_type": "code",
   "execution_count": 16,
   "metadata": {},
   "outputs": [
    {
     "name": "stdout",
     "output_type": "stream",
     "text": [
      "Stepping 3x Accelerator\n",
      "Applying 2x Brakes\n",
      "Turning 90 degrees\n",
      "EX23T: BOOR BOOR\n"
     ]
    }
   ],
   "source": [
    "oldCar = Car('EX23T', 'gray', 200)\n",
    "oldCar.accelerate(3)\n",
    "oldCar.brake(2)\n",
    "oldCar.turn(90)\n",
    "oldCar.horn()\n"
   ]
  }
 ],
 "metadata": {
  "kernelspec": {
   "display_name": "Python 3.9.12 ('RP-X0PA_3.9')",
   "language": "python",
   "name": "python3"
  },
  "language_info": {
   "codemirror_mode": {
    "name": "ipython",
    "version": 3
   },
   "file_extension": ".py",
   "mimetype": "text/x-python",
   "name": "python",
   "nbconvert_exporter": "python",
   "pygments_lexer": "ipython3",
   "version": "3.9.12"
  },
  "orig_nbformat": 2,
  "vscode": {
   "interpreter": {
    "hash": "0974853aac2e1be22b1c71bc2108bee902f4a24fbab5204c66962b2aba421724"
   }
  }
 },
 "nbformat": 4,
 "nbformat_minor": 2
}
