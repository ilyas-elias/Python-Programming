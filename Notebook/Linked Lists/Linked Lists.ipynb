{
 "cells": [
  {
   "cell_type": "markdown",
   "metadata": {},
   "source": [
    "## Imports\n",
    "Import libraries\n",
    "\n",
    "**GuiMgr** uses [**PySimpleGUI**](https://pypi.org/project/PySimpleGUI/).  You can install it by the following command:\n",
    "\n",
    "<code>pip install PySimpleGUI</code>"
   ]
  },
  {
   "cell_type": "code",
   "execution_count": 1,
   "metadata": {},
   "outputs": [],
   "source": [
    "#pip install PySimpleGUI"
   ]
  },
  {
   "cell_type": "code",
   "execution_count": 2,
   "metadata": {},
   "outputs": [
    {
     "name": "stdout",
     "output_type": "stream",
     "text": [
      "<module 'PySimpleGUI' from 'c:\\\\ProgramData\\\\Anaconda3\\\\envs\\\\RP-X0PA_3.9\\\\lib\\\\site-packages\\\\PySimpleGUI\\\\__init__.py'>\n"
     ]
    }
   ],
   "source": [
    "import PySimpleGUI as GuiMgr\n",
    "print (GuiMgr)\n"
   ]
  },
  {
   "cell_type": "markdown",
   "metadata": {},
   "source": [
    "# Linked Lists"
   ]
  },
  {
   "cell_type": "markdown",
   "metadata": {},
   "source": [
    "## Introduction\n",
    "\n",
    "Like arrays, Linked List is a __linear__ data structure. Unlike arrays, linked list elements are not stored at a contiguous location; the elements are linked using pointers. After arrays, Linked list is a most widely used data structure. \n",
    "\n",
    "Linked List is a sequence of nodes which contain data and link. Each link contains a connection to another node.  Following are the important terms to understand the concept of Linked List.\n",
    "\n",
    "* **Node** − Each node of a linked list can store a __data item__ and a __link__ to the next node.\n",
    "* **Link** − Each link (usually called **Next**) of a linked list contains a link to the next Node.  The last node in a linked list points to nothing.\n",
    "* **LinkedList** − The connection link to the first node (usually called **Head**) of the linked list.\n",
    "\n",
    "Linked list can be visualized as a chain of **Nodes**, where every node points to the next **node**.\n",
    "\n",
    "![Linked Lists](https://www.tutorialspoint.com/data_structures_algorithms/images/linked_list.jpg)\n"
   ]
  },
  {
   "cell_type": "code",
   "execution_count": 3,
   "metadata": {},
   "outputs": [],
   "source": [
    "class Node:\n",
    "    def __init__(self, data: object):\n",
    "        self._data = data\n",
    "        self._next = None\n",
    "\n",
    "    def __str__(self):\n",
    "        return str(self._data)\n",
    "        \n",
    "    def getData(self) -> object:\n",
    "        return self._data\n",
    "\n",
    "    def setData(self, data):\n",
    "        self._data = data\n",
    "\n",
    "    def setNext(self, ref):\n",
    "        self._next = ref\n",
    "\n",
    "    def getNext(self):\n",
    "        return self._next\n",
    "\n",
    "# QUESTIONS\n",
    "# 1. What type of data can be stored in this Node?\n",
    "#"
   ]
  },
  {
   "cell_type": "code",
   "execution_count": 4,
   "metadata": {},
   "outputs": [],
   "source": [
    "class LinkedList:\n",
    "    def __init__(self):\n",
    "        self._head = None\n",
    "        self._tail = None\n",
    "        self._count = 0\n",
    "\n",
    "    def isEmpty(self) -> bool:\n",
    "        \"\"\"Check if the list is empty\"\"\"\n",
    "        return self._count == 0\n",
    "\n",
    "    def size(self) -> int:\n",
    "        \"\"\"Return the length/size/count of the list\"\"\"\n",
    "        return self._count        \n",
    "\n",
    "    def add(self, item) -> None:\n",
    "        \"\"\"Add the item to the FRONT of the list\"\"\"\n",
    "        new_node = Node(item)\n",
    "        if (self._head == None):\n",
    "            self._tail = new_node\n",
    "        else:\n",
    "            new_node.setNext(self._head)\n",
    "        self._head = new_node\n",
    "        self._count += 1\n",
    "\n",
    "    def append(self, item) -> None:\n",
    "        \"\"\"Add the item to the END of the list\"\"\"\n",
    "        new_node = Node(item)\n",
    "        if (self._head == None):\n",
    "            self._tail = new_node\n",
    "            self._head = new_node\n",
    "        else:\n",
    "            self._tail.setNext(new_node)\n",
    "            self._tail = new_node\n",
    "        self._count += 1\n",
    "\n",
    "    def search(self, item) -> bool:\n",
    "        \"\"\"Search for item in list. \n",
    "           Return True if found, False otherwise\"\"\"\n",
    "        current = self._head\n",
    "        while current is not None:\n",
    "            if current.getData() is item:\n",
    "                return True\n",
    "            else:\n",
    "                current = current.getNext()\n",
    "        return False        \n",
    "\n",
    "    def removeFirst(self) -> None :\n",
    "        if (self._head == self._tail):\n",
    "            self._head = None\n",
    "            self._tail = None\n",
    "        else:\n",
    "            self._head = self._head.getNext()   \n",
    "        self._count -= 1 \n",
    "\n",
    "    def remove(self, item) -> bool :\n",
    "        \"\"\"Remove item from list and return True. \n",
    "           If item is not found in list, return False\"\"\"\n",
    "        if (self._head == None):\n",
    "            return False\n",
    "        else:\n",
    "            if (self._head.getData() is item):\n",
    "                self.removeFirst()\n",
    "                return True\n",
    "            else:\n",
    "                current = self._head.getNext()\n",
    "                previous = self._head\n",
    "                while (current != None):\n",
    "                    if (current.getData() is item):\n",
    "                        if (current != self._tail):\n",
    "                            previous._next = current._next\n",
    "                        else:\n",
    "                            previous._next = None\n",
    "                            self._tail = previous\n",
    "                        self._count -= 1 \n",
    "                        return True\n",
    "                    previous = current\n",
    "                    current = current.getNext()\n",
    "            return False\n",
    "\n",
    "    def get(self, index) -> Node:\n",
    "        \"\"\"Return the node referred to by the inex in the list.\n",
    "           Raise IndexError if the index is out of bounds.\"\"\"\n",
    "        if (index >= self._count):\n",
    "            raise IndexError\n",
    "        current = self._head    \n",
    "        for i in range(index):\n",
    "            current = current.getNext()\n",
    "        return(current)\n",
    "\n",
    "    def __str__(self):\n",
    "        if self._head is None : return \"[] (0)\"\n",
    "        buf = \"[\"\n",
    "        current = self._head\n",
    "        while current is not None:\n",
    "            buf += str(current.getData()) + \", \"\n",
    "            current = current.getNext()\n",
    "        return(buf[:-2] + \"] (\" + str(self._count) + \")\")\n",
    "\n",
    "# QUESTIONS\n",
    "# 1. What is the purpose of having the property _tail in Line 4?\n",
    "# 2. Is it possible to add a Node somewhere in the middle of the Linked List?\n",
    "# 3. Is it possible to remove a Node somewhere in the middle of the Linked List?\n",
    "# 4. Is it possible to get a Node by its index?\n",
    "#"
   ]
  },
  {
   "cell_type": "markdown",
   "metadata": {},
   "source": [
    "## Testing LinkedList"
   ]
  },
  {
   "cell_type": "code",
   "execution_count": 5,
   "metadata": {},
   "outputs": [
    {
     "name": "stdout",
     "output_type": "stream",
     "text": [
      "[A, G, F, E, D, H] (6)\n",
      "A\n",
      "G\n",
      "F\n",
      "E\n",
      "D\n",
      "H\n",
      "[] (0)\n"
     ]
    }
   ],
   "source": [
    "myList = LinkedList()\n",
    "myList.append('E')\n",
    "myList.append('D')\n",
    "myList.add('F')\n",
    "myList.add('G')\n",
    "myList.append('H')\n",
    "myList.add('A')\n",
    "print(myList)\n",
    "for i in range(6):\n",
    "    print(myList.get(i))\n",
    "\n",
    "myList.remove('A')\n",
    "myList.remove('H')\n",
    "myList.remove('E')\n",
    "myList.remove('F')\n",
    "myList.remove('G')\n",
    "myList.remove('D')\n",
    "print(myList)\n"
   ]
  },
  {
   "cell_type": "markdown",
   "metadata": {},
   "source": [
    "# Case Study - Polynomials"
   ]
  },
  {
   "cell_type": "markdown",
   "metadata": {},
   "source": [
    "## Term Class"
   ]
  },
  {
   "cell_type": "code",
   "execution_count": 6,
   "metadata": {},
   "outputs": [],
   "source": [
    "class Term:\n",
    "    def __init__(self, coefficient: int, power: int):\n",
    "        self.coefficient = coefficient\n",
    "        self.power = power\n",
    "        self.next = None\n",
    "\n",
    "    def __str__(self):\n",
    "        sb = \"\"\n",
    "        if self.coefficient != 0:\n",
    "            if self.power == 0:\n",
    "                sb = str(self.coefficient)\n",
    "            else:\n",
    "                if self.coefficient == 1:\n",
    "                    sb += \"x\" \n",
    "                else:    \n",
    "                    sb += str(self.coefficient) + \"x\"\n",
    "                if self.power > 1 or self.power < 0:\n",
    "                    sb += \"^\" + str(self.power)\n",
    "        return sb"
   ]
  },
  {
   "cell_type": "markdown",
   "metadata": {},
   "source": [
    "## Polynomial Class"
   ]
  },
  {
   "cell_type": "code",
   "execution_count": 7,
   "metadata": {},
   "outputs": [],
   "source": [
    "class Polynomial:\n",
    "\n",
    "    def __init__(self):\n",
    "        self.head = None\n",
    "        self.tail = None\n",
    "\n",
    "    def addFirst(self, term: Term) -> None:\n",
    "        if (self.head == None) :\n",
    "            self.head = term\n",
    "            self.tail = term\n",
    "        else:\n",
    "            term.next = self.head\n",
    "            self.head = term\n",
    "      \n",
    "    def addLast(self, term: Term) -> None:\n",
    "        if (self.tail == None):\n",
    "            self.head = term\n",
    "            self.tail = term\n",
    "        else:\n",
    "            self.tail.next = term\n",
    "            self.tail = term\n",
    "\n",
    "    def add(self, term: Term) -> None:\n",
    "        if (self.head == None):\n",
    "            self.addFirst(term)\n",
    "        else:\n",
    "            if (self.head.power < term.power):\n",
    "                self.addFirst(term)\n",
    "            elif (self.tail.power > term.power):\n",
    "                self.addLast(term)\n",
    "            else:\n",
    "                previous = None\n",
    "                current = self.head\n",
    "                while (current.power > term.power):\n",
    "                    previous = current\n",
    "                    current = current.next\n",
    "                if (current.power == term.power):\n",
    "                    newcoeff = current.coefficient + term.coefficient\n",
    "                    current.coefficient = newcoeff\n",
    "                else:\n",
    "                    term.next = current\n",
    "                    previous.next = term\n",
    "\n",
    "    def size(self) -> int:\n",
    "        count = 0\n",
    "        if (self.head != None):\n",
    "            current = self.head\n",
    "            while (current != None):\n",
    "                count += 1\n",
    "                current = current.next\n",
    "        return count\n",
    "\n",
    "    def removeFirst(self) -> None:\n",
    "        if (self.head == self.tail):\n",
    "            self.head = None\n",
    "            self.tail = None\n",
    "        else:\n",
    "            self.head = self.head.next    \n",
    "\n",
    "    def remove(self, power: int) -> bool:\n",
    "        if (self.head == None):\n",
    "            return False\n",
    "        else:\n",
    "            if (self.head.power == power):\n",
    "                self.removeFirst()\n",
    "                return True\n",
    "            else:\n",
    "                current = self.head.next\n",
    "                previous = self.head\n",
    "                while (current != None and current.power >= power):\n",
    "                    if (current.power == power):\n",
    "                        if (current != self.tail):\n",
    "                            previous.next = current.next\n",
    "                        else:\n",
    "                            previous.next = None\n",
    "                            self.tail = previous\n",
    "                        return True\n",
    "                    previous = current\n",
    "                    current = current.next\n",
    "            return False\n",
    "\n",
    "    def evaluate(self, x: int) -> float:\n",
    "        result = 0.0\n",
    "        curr = self.head\n",
    "        while (curr != None):\n",
    "            result += curr.coefficient * pow(x, curr.power)\n",
    "            curr = curr.next\n",
    "        return result\n",
    "\n",
    "    def __str__(self):\n",
    "        sb = \"\"\n",
    "        if (self.head != None):\n",
    "            sb = str(self.head)\n",
    "            current = self.head.next\n",
    "            while (current != None):\n",
    "                t = str(current)\n",
    "                if (current.coefficient < 0):\n",
    "                    sb += \" \" + t[:1] + \" \" + t[1:]\n",
    "                elif (current.coefficient > 0):\n",
    "                    sb += \" + \" + t\n",
    "                current = current.next\n",
    "        return sb\n"
   ]
  },
  {
   "cell_type": "markdown",
   "metadata": {},
   "source": [
    "## Testing Term and Polynomial Classes"
   ]
  },
  {
   "cell_type": "code",
   "execution_count": 8,
   "metadata": {},
   "outputs": [
    {
     "name": "stdout",
     "output_type": "stream",
     "text": [
      "3x^3 + x + 4\n"
     ]
    }
   ],
   "source": [
    "p = Polynomial()\n",
    "p.addFirst(Term(4, 0))\n",
    "p.addFirst(Term(1, 1))\n",
    "p.addFirst(Term(0, 2))\n",
    "p.addFirst(Term(3, 3))\n",
    "print(p)"
   ]
  },
  {
   "cell_type": "markdown",
   "metadata": {},
   "source": [
    "## Polynomial App"
   ]
  },
  {
   "cell_type": "code",
   "execution_count": 9,
   "metadata": {},
   "outputs": [],
   "source": [
    "class PolynomialApp:\n",
    "\n",
    "    def __init__(self):\n",
    "        self.poly = Polynomial()\n",
    "\n",
    "    def doAddNewTerm(self):\n",
    "        coeff = GuiMgr.read_Int(\"Enter Coefficient\")\n",
    "        power = GuiMgr.read_Int(\"Enter Power\")\n",
    "        t = Term(coeff, power)\n",
    "        self.poly.add(t)\n",
    "        print(str(self.poly))\n",
    "\n",
    "    def doRemoveTerm(self):\n",
    "        power = GuiMgr.read_Int(\"Enter Power\")\n",
    "        self.poly.remove(power)\n",
    "        print(str(self.poly))\n",
    "\n",
    "    def doEvalExpression(self):\n",
    "        x = GuiMgr.read_Int(\"Enter value for X\")\n",
    "        result = self.poly.evaluate(x)\n",
    "        print(\"For x = \" + str(x))\n",
    "        print(str(self.poly) + \" = \" + str(result))\n",
    "\n",
    "    def doClearExpression(self):\n",
    "        self.poly = Polynomial()\n",
    "\n",
    "    def run(self):\n",
    "        config = {\n",
    "            \"New Polynomial\": self.doClearExpression,\n",
    "            \"Add Term\": self.doAddNewTerm,\n",
    "            \"Remove Term\": self.doRemoveTerm,\n",
    "            \"Evaluate Polynomial\": self.doEvalExpression,\n",
    "        }   \n",
    "        GuiMgr.popup(\"GUI Polynomial App\", config)    \n",
    "\n",
    "app = PolynomialApp()\n",
    "app.run()"
   ]
  },
  {
   "cell_type": "markdown",
   "metadata": {},
   "source": [
    "# Stacks"
   ]
  },
  {
   "cell_type": "markdown",
   "metadata": {},
   "source": [
    "## Introduction\n",
    "\n",
    "A stack is an Abstract Data Type (ADT), commonly used in most programming languages. It is named stack as it behaves like a real-world stack, for example – a deck of cards or a pile of plates, etc.  \n",
    "\n",
    "A real-world stack allows operations at one end only. For example, we can place or remove a card or plate from the top of the stack only. Likewise, Stack ADT allows all data operations at one end only. At any given time, we can only access the top element of a stack.\n",
    "\n",
    "This feature makes it LIFO data structure. LIFO stands for Last-in-first-out. Here, the element which is placed (inserted or added) last, is accessed first. In stack terminology, insertion operation is called PUSH operation and removal operation is called POP operation. (Taken from [Tutorials Point](https://www.tutorialspoint.com/data_structures_algorithms/stack_algorithm.htm))\n"
   ]
  },
  {
   "cell_type": "code",
   "execution_count": 10,
   "metadata": {},
   "outputs": [],
   "source": [
    "class Stack:\n",
    "    def __init__(self):\n",
    "        self._list = LinkedList()\n",
    "   \n",
    "    def __str__(self):\n",
    "        return str(self._list)\n",
    "\n",
    "    def size(self) -> int:\n",
    "        return self._list.size()\n",
    "\n",
    "    def isEmpty(self) -> bool:\n",
    "        return self._list.isEmpty()\n",
    "\n",
    "    def push(self, item) -> None:\n",
    "        self._list.add(item)\n",
    "\n",
    "    def pop(self):\n",
    "        if (self._list.size() == 0):\n",
    "            return None\n",
    "        node = self._list.get(0)\n",
    "        self._list.removeFirst()\n",
    "        return node.getData()    \n",
    "\n",
    "    def peek(self):\n",
    "        if (self._list.size() == 0):\n",
    "            return None\n",
    "        return self._list.get(0).getData()\n"
   ]
  },
  {
   "cell_type": "markdown",
   "metadata": {},
   "source": [
    "## Exercises - Testing Stack"
   ]
  },
  {
   "cell_type": "code",
   "execution_count": 11,
   "metadata": {},
   "outputs": [
    {
     "name": "stdout",
     "output_type": "stream",
     "text": [
      "[32, 22, 12] (3)\n",
      "32\n",
      "1\n"
     ]
    }
   ],
   "source": [
    "# TODO : Create a stack called myStack\n",
    "myStack = Stack()\n",
    "\n",
    "# TODO : Add three numbers to myStack\n",
    "myStack.push(12)\n",
    "myStack.push(22)\n",
    "myStack.push(32)\n",
    "\n",
    "# TODO : Print the myStack\n",
    "print(myStack)\n",
    "\n",
    "# TODO : Get the top element of myStack without removing it. \n",
    "print(myStack.peek())\n",
    "\n",
    "# TODO : Remove 2 numbers from  myStack\n",
    "myStack.pop()\n",
    "myStack.pop()\n",
    "\n",
    "# TODO : Print the size of myStack\n",
    "print(myStack.size())\n"
   ]
  },
  {
   "cell_type": "markdown",
   "metadata": {},
   "source": []
  },
  {
   "cell_type": "markdown",
   "metadata": {},
   "source": [
    "# Case Study - Towers of Hanoi"
   ]
  },
  {
   "cell_type": "markdown",
   "metadata": {},
   "source": [
    "## Disc Class"
   ]
  },
  {
   "cell_type": "code",
   "execution_count": 12,
   "metadata": {},
   "outputs": [],
   "source": [
    "class Disc:\n",
    "    MAXRADIUS = 5\n",
    "\n",
    "    def __init__(self, p:str, r:int):\n",
    "        if r > Disc.MAXRADIUS: r = Disc.MAXRADIUS\n",
    "        if r < 1: r = 1    \n",
    "        self._radius = r\n",
    "        self._pattern = p\n",
    "\n",
    "    def __str__(self):\n",
    "        output = (self._radius * self._pattern) + \"|\" + \\\n",
    "                 (self._radius * self._pattern)\n",
    "        padding = \" \" * (Disc.MAXRADIUS - self._radius)\n",
    "        return padding + output + padding          \n",
    "\n",
    "    def getRadius(self):\n",
    "        return self._radius\n"
   ]
  },
  {
   "cell_type": "markdown",
   "metadata": {},
   "source": [
    "## DiscStack Class"
   ]
  },
  {
   "cell_type": "code",
   "execution_count": 13,
   "metadata": {},
   "outputs": [],
   "source": [
    "class DiscStack:\n",
    "    def __init__(self):\n",
    "        self._stack:list[Disc] = []\n",
    "\n",
    "    def push(self, d:Disc) -> None:\n",
    "        self._stack.append(d)\n",
    "\n",
    "    def pop(self) -> Disc:\n",
    "        return self._stack.pop()\n",
    "\n",
    "    def peek(self) -> Disc:\n",
    "        return self._stack[-1]\n",
    "\n",
    "    def size(self) -> int:\n",
    "        return len(self._stack)\n",
    "\n",
    "    def empty(self) -> bool:\n",
    "        return len(self._stack) == 0\n",
    "\n",
    "    def __str__(self):\n",
    "        output = \"\"\n",
    "        for d in self._stack:\n",
    "            output = str(d) + \"\\n\" + output\n",
    "        return output    \n",
    "    "
   ]
  },
  {
   "cell_type": "markdown",
   "metadata": {},
   "source": [
    "## Tower Class"
   ]
  },
  {
   "cell_type": "code",
   "execution_count": 14,
   "metadata": {},
   "outputs": [],
   "source": [
    "class Tower:\n",
    "    MAXHEIGHT = 5\n",
    "\n",
    "    def __init__(self, title:str): \n",
    "        self._title = title\n",
    "        self._pile = DiscStack()\n",
    "\n",
    "    def topDisc(self) -> Disc:\n",
    "        if self._pile.empty():\n",
    "            return None\n",
    "        else:\n",
    "            return self._pile.peek()\n",
    "\n",
    "    def placeDisc(self, d:Disc) -> bool:\n",
    "        if self._pile.empty():\n",
    "            self._pile.push(d)\n",
    "            return True\n",
    "        \n",
    "        top:Disc = self._pile.peek()\n",
    "        if d.getRadius() < top.getRadius():\n",
    "            self._pile.push(d)\n",
    "            return True\n",
    "        else:\n",
    "            return False\n",
    "\n",
    "    def removeDisc(self) -> bool:\n",
    "        if self._pile.empty():\n",
    "            return False\n",
    "        else:\n",
    "            self._pile.pop()\n",
    "            return True\n",
    "    \n",
    "    def __str__(self) -> str:\n",
    "        output = '{:^11}\\n'.format(self._title)\n",
    "        output += '     |     \\n' * (Tower.MAXHEIGHT - self._pile.size())\n",
    "        output += str(self._pile) \n",
    "        output += \"=\" * 11\n",
    "        return output\n",
    "               "
   ]
  },
  {
   "cell_type": "markdown",
   "metadata": {},
   "source": [
    "## Testing Disc and DiscStack Classes"
   ]
  },
  {
   "cell_type": "code",
   "execution_count": 15,
   "metadata": {},
   "outputs": [
    {
     "name": "stdout",
     "output_type": "stream",
     "text": [
      "5 %%%%%|%%%%%\n",
      "3   $$$|$$$  \n",
      "\n",
      "Tower size is  0\n",
      "   %%|%%   \n",
      "  $$$|$$$  \n",
      " ####|#### \n",
      "@@@@@|@@@@@\n",
      "\n",
      "Tower size is  4\n",
      "\n",
      "  Hanoi A  \n",
      "     |     \n",
      "     |     \n",
      "   ==|==   \n",
      "  $$$|$$$  \n",
      "%%%%%|%%%%%\n",
      "===========\n"
     ]
    }
   ],
   "source": [
    "# Testing Disc\n",
    "d1 = Disc(\"%\", 5)\n",
    "d2 = Disc(\"$\", 3)\n",
    "print(d1.getRadius(), d1)\n",
    "print(d2.getRadius(), d2)\n",
    "print()\n",
    "\n",
    "# Testing DiscStack\n",
    "tower = DiscStack()\n",
    "print(\"Tower size is \", tower.size())\n",
    "tower.push(Disc(\"@\", 5))\n",
    "tower.push(Disc(\"#\", 4))\n",
    "tower.push(Disc(\"$\", 3))\n",
    "tower.push(Disc(\"%\", 2))\n",
    "print(tower)\n",
    "print(\"Tower size is \", tower.size())\n",
    "print()\n",
    "\n",
    "# Testing Tower\n",
    "hanoiA = Tower(\"Hanoi A\")\n",
    "hanoiA.placeDisc(d2)\n",
    "hanoiA.placeDisc(d1)\n",
    "hanoiA.removeDisc()\n",
    "hanoiA.placeDisc(d1)\n",
    "hanoiA.placeDisc(d2)\n",
    "hanoiA.placeDisc(Disc(\"=\", 2))\n",
    "\n",
    "print(hanoiA)"
   ]
  },
  {
   "cell_type": "markdown",
   "metadata": {},
   "source": [
    "## HanoiApp"
   ]
  },
  {
   "cell_type": "code",
   "execution_count": 16,
   "metadata": {},
   "outputs": [],
   "source": [
    "class HanoiApp:\n",
    "    def displayTowers(self):\n",
    "        GuiMgr.clear()\n",
    "        t1 = str(self._towers[0]).split('\\n')\n",
    "        t2 = str(self._towers[1]).split('\\n')\n",
    "        t3 = str(self._towers[2]).split('\\n')\n",
    "        for i in range(len(t1)):\n",
    "            print(t1[i] + \" \" + t2[i] + \" \" + t3[i])\n",
    "\n",
    "    def newGame(self):\n",
    "        h1 = Tower(\"Tower 1\")\n",
    "        h2 = Tower(\"Tower 2\")\n",
    "        h3 = Tower(\"Tower 3\")\n",
    "\n",
    "        d1 = Disc('&', 5)\n",
    "        d2 = Disc('#', 4)\n",
    "        d3 = Disc('%', 3)\n",
    "        d4 = Disc('@', 2)\n",
    "\n",
    "        h1.placeDisc(d1)\n",
    "        h1.placeDisc(d2)\n",
    "        h1.placeDisc(d3)\n",
    "        h1.placeDisc(d4)\n",
    "\n",
    "        self._towers = [h1, h2, h3]\n",
    "        self.displayTowers()\n",
    "\n",
    "    def moveDisc(self):\n",
    "        fmTower = GuiMgr.read_Int(\"From Tower (1,2,3) : \")\n",
    "        toTower = GuiMgr.read_Int(\"To Tower (1,2,3) : \")        \n",
    "        fmTower -= 1\n",
    "        toTower -= 1\n",
    "\n",
    "        if fmTower not in [0,1,2] or toTower not in [0,1,2]:\n",
    "            print(\"Invalid Tower\")\n",
    "            return\n",
    "\n",
    "        disc = self._towers[fmTower].topDisc()\n",
    "        if disc == None:\n",
    "            print(\"Empty tower, no disc to move\")\n",
    "            return\n",
    "\n",
    "        if self._towers[toTower].placeDisc(disc):\n",
    "            self._towers[fmTower].removeDisc()\n",
    "            self.displayTowers()\n",
    "        else:\n",
    "            print(\"Invalid move, disc too big to move there\")    \n",
    "        \n",
    "    def run(self):\n",
    "        config = {\"Start New Game\": self.newGame, \n",
    "                  \"Move Disc\": self.moveDisc\n",
    "                 }\n",
    "        GuiMgr.popup(\"Towers of Hanoi App\", config)\n",
    "\n",
    "app = HanoiApp()\n",
    "app.run()"
   ]
  },
  {
   "cell_type": "markdown",
   "metadata": {},
   "source": [
    "# Queue"
   ]
  },
  {
   "cell_type": "markdown",
   "metadata": {},
   "source": [
    "## Introduction\n",
    "\n",
    "Queue is an abstract data structure, somewhat similar to Stacks. Unlike stacks, a queue is open at both its ends. One end is always used to insert data (enqueue) and the other is used to remove data (dequeue). Queue follows First-In-First-Out methodology, i.e., the data item stored first will be accessed first.\n",
    "\n",
    "A real-world example of queue can be a single-lane one-way road, where the vehicle enters first, exits first. More real-world examples can be seen as queues at the ticket windows and bus-stops.\n",
    "(Taken from [Tutorials Point](https://www.tutorialspoint.com/data_structures_algorithms/dsa_queue.htm))"
   ]
  },
  {
   "cell_type": "code",
   "execution_count": 17,
   "metadata": {},
   "outputs": [],
   "source": [
    "class Queue:\n",
    "    def __init__(self):\n",
    "        self._list = LinkedList()\n",
    "   \n",
    "    def __str__(self):\n",
    "        return str(self._list)\n",
    "\n",
    "    def size(self) -> int:\n",
    "        return self._list.size()\n",
    "\n",
    "    def isEmpty(self) -> bool:\n",
    "        return self._list.isEmpty()\n",
    "\n",
    "    def enqueue(self, item) -> None:\n",
    "        self._list.append(item)\n",
    "\n",
    "    def dequeue(self):\n",
    "        if (self._list.size() == 0):\n",
    "            return None\n",
    "        node = self._list.get(0)\n",
    "        self._list.removeFirst()\n",
    "        return node.getData()    \n",
    "\n",
    "    def peek(self):\n",
    "        if (self._list.size() == 0):\n",
    "            return None\n",
    "        return self._list.get(0).getData()"
   ]
  },
  {
   "cell_type": "markdown",
   "metadata": {},
   "source": [
    "## Exercises - Testing Queue"
   ]
  },
  {
   "cell_type": "code",
   "execution_count": 18,
   "metadata": {},
   "outputs": [
    {
     "name": "stdout",
     "output_type": "stream",
     "text": [
      "[12, 22, 32] (3)\n",
      "12\n",
      "[32] (1)\n",
      "1\n",
      "[32] (1)\n"
     ]
    }
   ],
   "source": [
    "# TODO : Create a queue called myQueue\n",
    "myQueue = Queue()\n",
    "\n",
    "# TODO : Create a queue called myQueue\n",
    "myQueue.enqueue(12)\n",
    "myQueue.enqueue(22)\n",
    "myQueue.enqueue(32)\n",
    "\n",
    "# TODO : Print the myQueue\n",
    "# Which number is at the front?\n",
    "# Which number is at the rear?\n",
    "print(myQueue)\n",
    "\n",
    "# TODO : Get the top element of myQueue without removing it. \n",
    "print(myQueue.peek())\n",
    "\n",
    "# TODO : Remove 2 numbers from myQueue\n",
    "myQueue.dequeue()\n",
    "myQueue.dequeue()\n",
    "print(myQueue)\n",
    "\n",
    "# TODO : Print the size of myQueue\n",
    "# Which number left?\n",
    "print(myQueue.size())\n",
    "print(myQueue)\n"
   ]
  }
 ],
 "metadata": {
  "kernelspec": {
   "display_name": "Python 3.9.12 ('RP-X0PA_3.9')",
   "language": "python",
   "name": "python3"
  },
  "language_info": {
   "codemirror_mode": {
    "name": "ipython",
    "version": 3
   },
   "file_extension": ".py",
   "mimetype": "text/x-python",
   "name": "python",
   "nbconvert_exporter": "python",
   "pygments_lexer": "ipython3",
   "version": "3.9.12"
  },
  "orig_nbformat": 2,
  "vscode": {
   "interpreter": {
    "hash": "0974853aac2e1be22b1c71bc2108bee902f4a24fbab5204c66962b2aba421724"
   }
  }
 },
 "nbformat": 4,
 "nbformat_minor": 2
}
