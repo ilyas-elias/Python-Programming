{
 "cells": [
  {
   "cell_type": "markdown",
   "metadata": {},
   "source": [
    "# Numpy Exercise"
   ]
  },
  {
   "cell_type": "markdown",
   "metadata": {},
   "source": [
    "***\n",
    "### Overview on Numpy\n",
    "\n",
    "Please install numpy library via Pip Manager / command prompt"
   ]
  },
  {
   "cell_type": "markdown",
   "metadata": {},
   "source": [
    "Convert a list of numeric value into a one-dimensional NumPy array\n",
    "<br>Expected Output:\n",
    "<br>Original List: [12.23, 13.32, 100, 36.32]\n",
    "<br>One-dimensional NumPy array: [ 12.23 13.32 100. 36.32]"
   ]
  },
  {
   "cell_type": "code",
   "execution_count": 26,
   "metadata": {},
   "outputs": [
    {
     "name": "stdout",
     "output_type": "stream",
     "text": [
      "Original List: [12.23, 13.32, 100, 36.32]\n",
      "One-dimensional NumPy array:  [ 12.23  13.32 100.    36.32]\n"
     ]
    }
   ],
   "source": [
    "import numpy as np\n",
    "l = [12.23, 13.32, 100, 36.32]\n",
    "print(\"Original List:\",l)\n",
    "a = np.array(l)\n",
    "print(\"One-dimensional NumPy array: \", a)"
   ]
  },
  {
   "cell_type": "markdown",
   "metadata": {},
   "source": [
    "Write a NumPy program to create a 3x3 matrix with values ranging from 2 to 10. \n",
    "Expected Output:\n",
    "<br>[[ 2 3 4]\n",
    "<br>[ 5 6 7]\n",
    "<br>[ 8 9 10]]\n"
   ]
  },
  {
   "cell_type": "code",
   "execution_count": 27,
   "metadata": {},
   "outputs": [
    {
     "name": "stdout",
     "output_type": "stream",
     "text": [
      "[[ 2  3  4]\n",
      " [ 5  6  7]\n",
      " [ 8  9 10]]\n"
     ]
    }
   ],
   "source": [
    "x =  np.arange(2, 11).reshape(3,3)\n",
    "print(x)"
   ]
  },
  {
   "cell_type": "markdown",
   "metadata": {},
   "source": [
    "Write a NumPy program to reverse an array (first element becomes last). \n",
    "<br>Original array:\n",
    "<br>[12 13 14 15 16 17 18 19 20 21 22 23 24 25 26 27 28 29 30 31 32 33 34 35 36 37]\n",
    "<br>Reverse array:\n",
    "<br>[37 36 35 34 33 32 31 30 29 28 27 26 25 24 23 22 21 20 19 18 17 16 15 14 13 12]\n"
   ]
  },
  {
   "cell_type": "code",
   "execution_count": 28,
   "metadata": {},
   "outputs": [
    {
     "name": "stdout",
     "output_type": "stream",
     "text": [
      "Original array:\n",
      "[12 13 14 15 16 17 18 19 20 21 22 23 24 25 26 27 28 29 30 31 32 33 34 35\n",
      " 36 37]\n",
      "Reverse array:\n",
      "[37 36 35 34 33 32 31 30 29 28 27 26 25 24 23 22 21 20 19 18 17 16 15 14\n",
      " 13 12]\n"
     ]
    }
   ],
   "source": [
    "x = np.arange(12, 38)\n",
    "print(\"Original array:\")\n",
    "print(x)\n",
    "print(\"Reverse array:\")\n",
    "x = x[::-1]\n",
    "print(x)"
   ]
  },
  {
   "cell_type": "markdown",
   "metadata": {},
   "source": [
    "Write a NumPy program to create a 2d array with 1 on the border and 0 inside. \n",
    "<br>Expected Output:\n",
    "<br>Original array:\n",
    "<br>[[ 1. 1. 1. 1. 1.]\n",
    "<br>...................\n",
    "<br>[ 1. 1. 1. 1. 1.]]\n",
    "<br>1 on the border and 0 inside in the array\n",
    "<br>[[ 1. 1. 1. 1. 1.]\n",
    "<br>...................\n",
    "<br>[ 1. 1. 1. 1. 1.]]"
   ]
  },
  {
   "cell_type": "code",
   "execution_count": 29,
   "metadata": {},
   "outputs": [
    {
     "name": "stdout",
     "output_type": "stream",
     "text": [
      "Original array:\n",
      "[[1. 1. 1. 1. 1.]\n",
      " [1. 1. 1. 1. 1.]\n",
      " [1. 1. 1. 1. 1.]\n",
      " [1. 1. 1. 1. 1.]\n",
      " [1. 1. 1. 1. 1.]]\n",
      "1 on the border and 0 inside in the array\n",
      "[[1. 1. 1. 1. 1.]\n",
      " [1. 0. 0. 0. 1.]\n",
      " [1. 0. 0. 0. 1.]\n",
      " [1. 0. 0. 0. 1.]\n",
      " [1. 1. 1. 1. 1.]]\n"
     ]
    }
   ],
   "source": [
    "x = np.ones((5,5))\n",
    "print(\"Original array:\")\n",
    "print(x)\n",
    "print(\"1 on the border and 0 inside in the array\")\n",
    "x[1:-1,1:-1] = 0\n",
    "print(x)"
   ]
  },
  {
   "cell_type": "markdown",
   "metadata": {},
   "source": [
    "Write a NumPy program to convert a list and tuple into arrays. \n",
    "<br>List to array:\n",
    "<br>[1 2 3 4 5 6 7 8]\n",
    "<br>Tuple to array:\n",
    "<br>[[8 4 6]\n",
    "<br>[1 2 3]]"
   ]
  },
  {
   "cell_type": "code",
   "execution_count": 30,
   "metadata": {},
   "outputs": [
    {
     "name": "stdout",
     "output_type": "stream",
     "text": [
      "List to array: \n",
      "[1 2 3 4 5 6 7 8]\n",
      "Tuple to array: \n",
      "[[8 4 6]\n",
      " [1 2 3]]\n"
     ]
    }
   ],
   "source": [
    "my_list = [1, 2, 3, 4, 5, 6, 7, 8]\n",
    "print(\"List to array: \")\n",
    "print(np.asarray(my_list))\n",
    "my_tuple = ([8, 4, 6], [1, 2, 3])\n",
    "print(\"Tuple to array: \")\n",
    "print(np.asarray(my_tuple))"
   ]
  },
  {
   "cell_type": "markdown",
   "metadata": {},
   "source": [
    "Write a NumPy program to convert the values of Centigrade degrees into Fahrenheit degrees. Centigrade values are stored into a NumPy array. \n",
    "<br>Sample Array [0, 12, 45.21 ,34, 99.91]\n",
    "<br>Expected Output:\n",
    "<br>Values in Fahrenheit degrees:\n",
    "<br>[ 0. 12. 45.21 34. 99.91]\n",
    "<br>Values in Centigrade degrees:\n",
    "<br>[-17.77777778 -11.11111111 7.33888889 1.11111111 37.72777778]"
   ]
  },
  {
   "cell_type": "code",
   "execution_count": 31,
   "metadata": {},
   "outputs": [
    {
     "name": "stdout",
     "output_type": "stream",
     "text": [
      "Values in Fahrenheit degrees:\n",
      "[ 0.   12.   45.21 34.   99.91]\n",
      "Values in  Centigrade degrees:\n",
      "[-17.77777778 -11.11111111   7.33888889   1.11111111  37.72777778]\n"
     ]
    }
   ],
   "source": [
    "import numpy as np\n",
    "fvalues = [0, 12, 45.21, 34, 99.91]\n",
    "F = np.array(fvalues)\n",
    "print(\"Values in Fahrenheit degrees:\")\n",
    "print(F)\n",
    "print(\"Values in  Centigrade degrees:\") \n",
    "print(5*F/9 - 5*32/9)"
   ]
  },
  {
   "cell_type": "markdown",
   "metadata": {},
   "source": [
    "Write a NumPy program to test whether each element of a 1-D array is also present in a second array. \n",
    "<br>Expected Output:\n",
    "<br>Array1: [ 0 10 20 40 60]\n",
    "<br>Array2: [0, 40]\n",
    "<br>Compare each element of array1 and array2\n",
    "<br>[ True False False True False]"
   ]
  },
  {
   "cell_type": "code",
   "execution_count": 32,
   "metadata": {},
   "outputs": [
    {
     "name": "stdout",
     "output_type": "stream",
     "text": [
      "Array1:  [ 0 10 20 40 60]\n",
      "Array2:  [0, 40]\n",
      "Compare each element of array1 and array2\n",
      "[ True False False  True False]\n"
     ]
    }
   ],
   "source": [
    "array1 = np.array([0, 10, 20, 40, 60])\n",
    "print(\"Array1: \",array1)\n",
    "array2 = [0, 40]\n",
    "print(\"Array2: \",array2)\n",
    "print(\"Compare each element of array1 and array2\")\n",
    "print(np.in1d(array1, array2))"
   ]
  },
  {
   "cell_type": "markdown",
   "metadata": {},
   "source": [
    "Write a NumPy program to get the unique elements of an array. \n",
    "<br>Expected Output:\n",
    "<br>Original array:\n",
    "<br>[10 10 20 20 30 30]\n",
    "<br>Unique elements of the above array:\n",
    "<br>[10 20 30]\n",
    "<br>Original array:\n",
    "<br>[[1 1]\n",
    "<br>[2 3]]\n",
    "<br>Unique elements of the above array:\n",
    "<br>[1 2 3]"
   ]
  },
  {
   "cell_type": "code",
   "execution_count": 33,
   "metadata": {},
   "outputs": [
    {
     "name": "stdout",
     "output_type": "stream",
     "text": [
      "Original array:\n",
      "[10 10 20 20 30 30]\n",
      "Unique elements of the above array:\n",
      "[10 20 30]\n",
      "Original array:\n",
      "[[1 1]\n",
      " [2 3]]\n",
      "Unique elements of the above array:\n",
      "[1 2 3]\n"
     ]
    }
   ],
   "source": [
    "x = np.array([10, 10, 20, 20, 30, 30])\n",
    "print(\"Original array:\")\n",
    "print(x)\n",
    "print(\"Unique elements of the above array:\")\n",
    "print(np.unique(x))\n",
    "x = np.array([[1, 1], [2, 3]])\n",
    "print(\"Original array:\")\n",
    "print(x)\n",
    "print(\"Unique elements of the above array:\")\n",
    "print(np.unique(x))"
   ]
  },
  {
   "cell_type": "markdown",
   "metadata": {},
   "source": [
    "Write a NumPy program to find the set exclusive-or of two arrays. Set exclusive-or will return the sorted, unique values that are in only one (not both) of the input arrays. \n",
    "<br>Array1: [ 0 10 20 40 60 80]\n",
    "<br>Array2: [10, 30, 40, 50, 70]\n",
    "<br>Unique values that are in only one (not both) of the input arrays:\n",
    "<br>[ 0 20 30 50 60 70 80]"
   ]
  },
  {
   "cell_type": "code",
   "execution_count": 34,
   "metadata": {},
   "outputs": [
    {
     "name": "stdout",
     "output_type": "stream",
     "text": [
      "Array1:  [ 0 10 20 40 60 80]\n",
      "Array2:  [10, 30, 40, 50, 70]\n",
      "Unique values that are in only one (not both) of the input arrays:\n",
      "[ 0 20 30 50 60 70 80]\n"
     ]
    }
   ],
   "source": [
    "array1 = np.array([0, 10, 20, 40, 60, 80])\n",
    "print(\"Array1: \",array1)\n",
    "array2 = [10, 30, 40, 50, 70]\n",
    "print(\"Array2: \",array2)\n",
    "print(\"Unique values that are in only one (not both) of the input arrays:\")\n",
    "print(np.setxor1d(array1, array2))"
   ]
  },
  {
   "cell_type": "markdown",
   "metadata": {},
   "source": [
    "Write a NumPy program to find the union of two arrays. Union will return the unique, sorted array of values that are in either of the two input arrays. \n",
    "<br>Array1: [ 0 10 20 40 60 80]\n",
    "<br>Array2: [10, 30, 40, 50, 70]\n",
    "<br>Unique sorted array of values that are in either of the two input arrays:\n",
    "<br>[ 0 10 20 30 40 50 60 70 80]"
   ]
  },
  {
   "cell_type": "code",
   "execution_count": 35,
   "metadata": {},
   "outputs": [
    {
     "name": "stdout",
     "output_type": "stream",
     "text": [
      "Array1:  [ 0 10 20 40 60 80]\n",
      "Array2:  [10, 30, 40, 50, 70]\n",
      "Unique sorted array of values that are in either of the two input arrays:\n",
      "[ 0 10 20 30 40 50 60 70 80]\n"
     ]
    }
   ],
   "source": [
    "array1 = np.array([0, 10, 20, 40, 60, 80])\n",
    "print(\"Array1: \",array1)\n",
    "array2 = [10, 30, 40, 50, 70]\n",
    "print(\"Array2: \",array2)\n",
    "print(\"Unique sorted array of values that are in either of the two input arrays:\")\n",
    "print(np.union1d(array1, array2))"
   ]
  },
  {
   "cell_type": "markdown",
   "metadata": {},
   "source": [
    "Write a NumPy program to find the indices of the maximum and minimum values along the given axis of an array. \n",
    "<br>Original array: [1 2 3 4 5 6]\n",
    "<br>Maximum Values: 5\n",
    "<br>Minimum Values: 0"
   ]
  },
  {
   "cell_type": "code",
   "execution_count": 36,
   "metadata": {},
   "outputs": [
    {
     "name": "stdout",
     "output_type": "stream",
     "text": [
      "Original array:  [1 2 3 4 5 6]\n",
      "Maximum Values:  5\n",
      "Minimum Values:  0\n"
     ]
    }
   ],
   "source": [
    "x = np.array([1, 2, 3, 4, 5, 6])\n",
    "print(\"Original array: \",x)\n",
    "print(\"Maximum Values: \",np.argmax(x))\n",
    "print(\"Minimum Values: \",np.argmin(x))"
   ]
  },
  {
   "cell_type": "markdown",
   "metadata": {},
   "source": [
    "Write a NumPy program to change the dimension of an array. \n",
    "<br>Expected Output:\n",
    "<br>6 rows and 0 columns\n",
    "<br>(6,)\n",
    "<br>(3, 3) -> 3 rows and 3 columns\n",
    "<br>[[1 2 3]\n",
    "<br>[4 5 6]\n",
    "<br>[7 8 9]]\n",
    "<br>Change array shape to (3, 3) -> 3 rows and 3 columns\n",
    "<br>[[1 2 3]\n",
    "<br>[4 5 6]\n",
    "<br>[7 8 9]]"
   ]
  },
  {
   "cell_type": "code",
   "execution_count": 37,
   "metadata": {},
   "outputs": [
    {
     "name": "stdout",
     "output_type": "stream",
     "text": [
      "6 rows and 0 columns\n",
      "(6,)\n",
      "(3, 3) -> 3 rows and 3 columns \n",
      "[[1 2 3]\n",
      " [4 5 6]\n",
      " [7 8 9]]\n",
      "Change array shape to (3, 3) -> 3 rows and 3 columns \n",
      "[[1 2 3]\n",
      " [4 5 6]\n",
      " [7 8 9]]\n"
     ]
    }
   ],
   "source": [
    "x = np.array([1, 2, 3, 4, 5, 6])\n",
    "print(\"6 rows and 0 columns\")\n",
    "print(x.shape)\n",
    "\n",
    "y = np.array([[1, 2, 3],[4, 5, 6],[7,8,9]])\n",
    "print(\"(3, 3) -> 3 rows and 3 columns \")\n",
    "print(y)\n",
    "\n",
    "x = np.array([1,2,3,4,5,6,7,8,9])\n",
    "print(\"Change array shape to (3, 3) -> 3 rows and 3 columns \")\n",
    "x.shape = (3, 3)\n",
    "print(x)"
   ]
  },
  {
   "cell_type": "markdown",
   "metadata": {},
   "source": [
    "Write a NumPy program to create a new shape to an array without changing its data. \n",
    "<br>Reshape 3x2:\n",
    "<br>[[1 2]\n",
    "<br>[3 4]\n",
    "<br>[5 6]]\n",
    "<br>Reshape 2x3:\n",
    "<br>[[1 2 3]\n",
    "<br>[4 5 6]]"
   ]
  },
  {
   "cell_type": "code",
   "execution_count": 38,
   "metadata": {},
   "outputs": [
    {
     "name": "stdout",
     "output_type": "stream",
     "text": [
      "Reshape 3x2:\n",
      "[[1 2]\n",
      " [3 4]\n",
      " [5 6]]\n",
      "Reshape 2x3:\n",
      "[[1 2 3]\n",
      " [4 5 6]]\n"
     ]
    }
   ],
   "source": [
    "x = np.array([1, 2, 3, 4, 5, 6])\n",
    "y = np.reshape(x,(3,2))\n",
    "print(\"Reshape 3x2:\")\n",
    "print(y)\n",
    "z = np.reshape(x,(2,3))\n",
    "print(\"Reshape 2x3:\")\n",
    "print(z)"
   ]
  },
  {
   "cell_type": "markdown",
   "metadata": {},
   "source": [
    "Write a NumPy program to change the data type of an array. \n",
    "<br>Expected Output:\n",
    "<br>[[ 2 4 6]\n",
    "<br>[ 6 8 10]]\n",
    "<br>Data type of the array x is: int32\n",
    "<br>New Type: float64\n",
    "<br>[[ 2. 4. 6.]\n",
    "<br>[ 6. 8. 10.]]"
   ]
  },
  {
   "cell_type": "code",
   "execution_count": 39,
   "metadata": {},
   "outputs": [
    {
     "name": "stdout",
     "output_type": "stream",
     "text": [
      "[[ 2  4  6]\n",
      " [ 6  8 10]]\n",
      "Data type of the array x is: int32\n",
      "New Type:  float64\n",
      "[[ 2.  4.  6.]\n",
      " [ 6.  8. 10.]]\n"
     ]
    }
   ],
   "source": [
    "x = np.array([[2, 4, 6], [6, 8, 10]], np.int32)\n",
    "print(x)\n",
    "print(\"Data type of the array x is:\",x.dtype)\n",
    "# Change the data type of x\n",
    "y = x.astype(float)\n",
    "print(\"New Type: \",y.dtype)\n",
    "print(y)"
   ]
  },
  {
   "cell_type": "markdown",
   "metadata": {},
   "source": [
    "Write a NumPy program to collapse a 3-D array into one dimension array. \n",
    "<br>Expected Output:\n",
    "<br>3-D array:\n",
    "<br>[[ 1. 0. 0.]\n",
    "<br>[ 0. 1. 0.]\n",
    "<br>[ 0. 0. 1.]]\n",
    "<br>One dimension array:\n",
    "<br>[ 1. 0. 0. 0. 1. 0. 0. 0. 1.]"
   ]
  },
  {
   "cell_type": "code",
   "execution_count": 40,
   "metadata": {},
   "outputs": [
    {
     "name": "stdout",
     "output_type": "stream",
     "text": [
      "3-D array:\n",
      "[[1. 0. 0.]\n",
      " [0. 1. 0.]\n",
      " [0. 0. 1.]]\n",
      "One dimension array:\n",
      "[1. 0. 0. 0. 1. 0. 0. 0. 1.]\n"
     ]
    }
   ],
   "source": [
    "x = np.eye(3)\n",
    "print(\"3-D array:\")\n",
    "print(x)\n",
    "f = np.ravel(x, order='F')\n",
    "print(\"One dimension array:\")\n",
    "print(f)"
   ]
  },
  {
   "cell_type": "markdown",
   "metadata": {},
   "source": [
    "Write a NumPy program to interchange two axes of an array. \n",
    "<br>Sample array: [[1 2 3]]\n",
    "<br>Expected Output:\n",
    "<br>[[1]\n",
    "<br>[2]\n",
    "<br>[3]]"
   ]
  },
  {
   "cell_type": "code",
   "execution_count": 41,
   "metadata": {},
   "outputs": [
    {
     "name": "stdout",
     "output_type": "stream",
     "text": [
      "[[1 2 3]]\n",
      "[[1]\n",
      " [2]\n",
      " [3]]\n"
     ]
    }
   ],
   "source": [
    "x = np.array([[1,2,3]])\n",
    "print(x)\n",
    "y =  np.swapaxes(x,0,1)\n",
    "print(y)"
   ]
  },
  {
   "cell_type": "markdown",
   "metadata": {},
   "source": [
    "Write a NumPy program to split an array of 14 elements into 3 arrays, each of which has 2, 4, and 8 elements in the original order. \n",
    "<br>Expected Output:\n",
    "<br>Original array: [ 1 2 3 4 5 6 7 8 9 10 11 12 13 14]\n",
    "<br>After splitting:\n",
    "<br>[array([1, 2]), array([3, 4, 5, 6]), array([ 7, 8, 9, 10, 11, 12, 13, 14])]"
   ]
  },
  {
   "cell_type": "code",
   "execution_count": 42,
   "metadata": {},
   "outputs": [
    {
     "name": "stdout",
     "output_type": "stream",
     "text": [
      "Original array: [ 1  2  3  4  5  6  7  8  9 10 11 12 13 14]\n",
      "After splitting:\n",
      "[array([1, 2]), array([3, 4, 5, 6]), array([ 7,  8,  9, 10, 11, 12, 13, 14])]\n"
     ]
    }
   ],
   "source": [
    "x = np.arange(1, 15)\n",
    "print(\"Original array:\",x)\n",
    "print(\"After splitting:\")\n",
    "print(np.split(x, [2, 6]))"
   ]
  },
  {
   "cell_type": "markdown",
   "metadata": {},
   "source": [
    "Write a NumPy program to test whether specified values are present in an array. \n",
    "<br>Expected Output:\n",
    "<br>Original array:\n",
    "<br>[[ 1.12 2. 3.45]\n",
    "<br>[ 2.33 5.12 6. ]]\n",
    "<br>True\n",
    "<br>False\n",
    "<br>True\n",
    "<br>False\n",
    "<br>True"
   ]
  },
  {
   "cell_type": "code",
   "execution_count": 43,
   "metadata": {},
   "outputs": [
    {
     "name": "stdout",
     "output_type": "stream",
     "text": [
      "Original array:\n",
      "[[1.12 2.   3.45]\n",
      " [2.33 5.12 6.  ]]\n",
      "True\n",
      "False\n",
      "True\n",
      "False\n",
      "True\n"
     ]
    }
   ],
   "source": [
    "x = np.array([[1.12, 2.0, 3.45], [2.33, 5.12, 6.0]], float) \n",
    "print(\"Original array:\")\n",
    "print(x)\n",
    "print(2 in x)\n",
    "print(0 in x)\n",
    "print(6 in x)\n",
    "print(2.3 in x)\n",
    "print(5.12 in x)"
   ]
  },
  {
   "cell_type": "markdown",
   "metadata": {},
   "source": [
    "Write a NumPy program to access an array by column. \n",
    "<br>Expected Output:\n",
    "<br>Original array elements:\n",
    "<br>[[0 1]\n",
    "<br>[2 3]\n",
    "<br>[4 5]]\n",
    "<br>Access an array by column:\n",
    "<br>First column:\n",
    "<br>[0 1]\n",
    "<br>Second column:\n",
    "<br>[2 3]\n",
    "<br>Third column:\n",
    "<br>[4 5]"
   ]
  },
  {
   "cell_type": "code",
   "execution_count": 44,
   "metadata": {},
   "outputs": [
    {
     "name": "stdout",
     "output_type": "stream",
     "text": [
      "Original array elements:\n",
      "[[0 1 2]\n",
      " [3 4 5]\n",
      " [6 7 8]]\n",
      "Access an array by column:\n",
      "First column:\n",
      "[0 3 6]\n",
      "Second column:\n",
      "[1 4 7]\n",
      "Third column:\n",
      "[2 5 8]\n"
     ]
    }
   ],
   "source": [
    "x= np.arange(9).reshape(3,3)\n",
    "print(\"Original array elements:\")\n",
    "print(x)\n",
    "print(\"Access an array by column:\")\n",
    "print(\"First column:\")\n",
    "print(x[:,0])\n",
    "print(\"Second column:\")\n",
    "print(x[:,1])\n",
    "print(\"Third column:\")\n",
    "print(x[:,2])"
   ]
  },
  {
   "cell_type": "markdown",
   "metadata": {},
   "source": [
    "Write a NumPy program to replace all elements of NumPy array that are greater than specified array. \n",
    "<br>\n",
    "<br>Expected Output:\n",
    "<br>Original array:\n",
    "<br>[[ 0.42436315 0.48558583 0.32924763]\n",
    "<br>[ 0.7439979 0.58220701 0.38213418]\n",
    "<br>[ 0.5097581 0.34528799 0.1563123 ]]\n",
    "<br>Replace all elements of the said array with .5 which are greater than. 5\n",
    "<br>[[ 0.42436315 0.48558583 0.32924763]\n",
    "<br>[ 0.5 0.5 0.38213418]\n",
    "<br>[ 0.5 0.34528799 0.1563123 ]]"
   ]
  },
  {
   "cell_type": "code",
   "execution_count": 45,
   "metadata": {},
   "outputs": [
    {
     "name": "stdout",
     "output_type": "stream",
     "text": [
      "Original array:\n",
      "[[0.42436315 0.48558583 0.32924763]\n",
      " [0.7439979  0.58220701 0.38213418]\n",
      " [0.5097581  0.34528799 0.1563123 ]]\n",
      "Replace all elements of the said array with .5 which are greater than .5\n",
      "[[0.42436315 0.48558583 0.32924763]\n",
      " [0.5        0.5        0.38213418]\n",
      " [0.5        0.34528799 0.1563123 ]]\n"
     ]
    }
   ],
   "source": [
    "x = np.array([[ 0.42436315, 0.48558583, 0.32924763], [ 0.7439979,0.58220701,0.38213418], [ 0.5097581,0.34528799,0.1563123 ]])\n",
    "print(\"Original array:\")\n",
    "print(x)\n",
    "print(\"Replace all elements of the said array with .5 which are greater than .5\")\n",
    "x[x > .5] = .5\n",
    "print(x)"
   ]
  },
  {
   "cell_type": "markdown",
   "metadata": {},
   "source": [
    "Write a NumPy program to remove the negative values in a NumPy array with 0. \n",
    "<br>\n",
    "<br>Expected Output:\n",
    "<br>Original array:\n",
    "<br>[-1 -4 0 2 3 4 5 -6]\n",
    "<br>Replace the negative values of the said array with 0:\n",
    "<br>[0 0 0 2 3 4 5 0]"
   ]
  },
  {
   "cell_type": "code",
   "execution_count": 46,
   "metadata": {},
   "outputs": [
    {
     "name": "stdout",
     "output_type": "stream",
     "text": [
      "Original array:\n",
      "[-1 -4  0  2  3  4  5 -6]\n",
      "Replace the negative values of the said array with 0:\n",
      "[0 0 0 2 3 4 5 0]\n"
     ]
    }
   ],
   "source": [
    "x = np.array([-1, -4, 0, 2, 3, 4, 5, -6])\n",
    "print(\"Original array:\")\n",
    "print(x)\n",
    "print(\"Replace the negative values of the said array with 0:\")\n",
    "x[x < 0] = 0\n",
    "print(x)"
   ]
  },
  {
   "cell_type": "markdown",
   "metadata": {},
   "source": [
    "Write a NumPy program to select indices satisfying multiple conditions in a NumPy array. \n",
    "<br>Sample array :\n",
    "<br>a = np.array([97, 101, 105, 111, 117])\n",
    "<br>b = np.array(['a','e','i','o','u'])\n",
    "<br>Note: Select the elements from the second array corresponding to elements in the first array that are greater than 100 and less than 110\n",
    "<br>Expected Output:\n",
    "<br>Original arrays\n",
    "<br>[ 97 101 105 111 117]\n",
    "<br>['a' 'e' 'i' 'o' 'u']\n",
    "<br>Elements from the second array corresponding to elements in the first\n",
    "<br>array that are greater than 100 and less than 110:\n",
    "<br>['e' 'i']"
   ]
  },
  {
   "cell_type": "code",
   "execution_count": 47,
   "metadata": {},
   "outputs": [
    {
     "name": "stdout",
     "output_type": "stream",
     "text": [
      "Original arrays\n",
      "[ 97 101 105 111 117]\n",
      "['a' 'e' 'i' 'o' 'u']\n",
      "Elements from the second array  corresponding to elements in the first array  that are greater than 100 and less than 110:\n",
      "['e' 'i']\n"
     ]
    }
   ],
   "source": [
    "a = np.array([97, 101, 105, 111, 117])\n",
    "b = np.array(['a','e','i','o','u'])\n",
    "print(\"Original arrays\")\n",
    "print(a)\n",
    "print(b)\n",
    "print(\"Elements from the second array  corresponding to elements in the first array  that are greater than 100 and less than 110:\")\n",
    "print(b[(100 < a) & (a < 110)])\n"
   ]
  },
  {
   "cell_type": "markdown",
   "metadata": {},
   "source": [
    "Write a NumPy program to divide each row by a vector element. \n",
    "<br>Expected Output:\n",
    "<br>Original array:\n",
    "<br>[[20 20 20]\n",
    "<br>[30 30 30]\n",
    "<br>[40 40 40]]\n",
    "<br>Vector:\n",
    "<br>[20 30 40]\n",
    "<br>[[ 1. 1. 1.]\n",
    "<br>[ 1. 1. 1.]\n",
    "<br>[ 1. 1. 1.]]"
   ]
  },
  {
   "cell_type": "code",
   "execution_count": 48,
   "metadata": {},
   "outputs": [
    {
     "name": "stdout",
     "output_type": "stream",
     "text": [
      "Original array:\n",
      "[[20 20 20]\n",
      " [30 30 30]\n",
      " [40 40 40]]\n",
      "Vector:\n",
      "[20 30 40]\n",
      "[[1. 1. 1.]\n",
      " [1. 1. 1.]\n",
      " [1. 1. 1.]]\n"
     ]
    }
   ],
   "source": [
    "x = np.array([[20,20,20],[30,30,30],[40,40,40]])\n",
    "print(\"Original array:\")\n",
    "print(x)\n",
    "v = np.array([20,30,40])\n",
    "print(\"Vector:\")\n",
    "print(v)\n",
    "print(x / v[:,None])"
   ]
  },
  {
   "cell_type": "markdown",
   "metadata": {},
   "source": [
    "Write a NumPy program to sum and compute the product of a NumPy array elements. \n",
    "<br>Expected Output:\n",
    "<br>Original array:\n",
    "<br>[ 10. 20. 30.]\n",
    "<br>Sum of the array elements:\n",
    "<br>60.0\n",
    "<br>Product of the array elements:\n",
    "<br>6000.0"
   ]
  },
  {
   "cell_type": "code",
   "execution_count": 49,
   "metadata": {},
   "outputs": [
    {
     "name": "stdout",
     "output_type": "stream",
     "text": [
      "Original array:\n",
      "[10. 20. 30.]\n",
      "Sum of the array elements:\n",
      "60.0\n",
      "Product of the array elements:\n",
      "6000.0\n"
     ]
    }
   ],
   "source": [
    "x = np.array([10, 20, 30], float)\n",
    "print(\"Original array:\")\n",
    "print(x)\n",
    "print(\"Sum of the array elements:\")\n",
    "print(x.sum())\n",
    "print(\"Product of the array elements:\")\n",
    "print(x.prod())"
   ]
  },
  {
   "cell_type": "markdown",
   "metadata": {},
   "source": [
    "Write a NumPy program to read a CSV data file and store records in an array. \n",
    "<br>Sample CSV file: fdata.csv\n",
    "<br>Date,Open,High,Low,Close\n",
    "<br>03-10-16,774.25,776.065002,769.5,772.559998\n",
    "<br>.................\n",
    "<br>07-10-16,779.659973,779.659973,770.75,775.080017\n",
    "<br>Sample Output:\n",
    "<br>[(b'Date', nan, nan, nan, nan)\n",
    "<br>(b'03-10-16', 774.25, 776.065, 769.5 , 772.56)\n",
    "<br>......................\n",
    "<br>(b'07-10-16', 779.66, 779.66 , 770.75, 775.08)]"
   ]
  },
  {
   "cell_type": "code",
   "execution_count": 50,
   "metadata": {},
   "outputs": [
    {
     "name": "stdout",
     "output_type": "stream",
     "text": [
      "[(b'Date',    nan,     nan,    nan,    nan)\n",
      " (b'10-03-16', 774.25, 776.065, 769.5 , 772.56)\n",
      " (b'10-04-16', 776.03, 778.71 , 772.89, 776.43)\n",
      " (b'10-05-16', 779.31, 782.07 , 775.65, 776.47)\n",
      " (b'10-06-16', 779.  , 780.48 , 775.54, 776.86)\n",
      " (b'10-07-16', 779.66, 779.66 , 770.75, 775.08)]\n"
     ]
    }
   ],
   "source": [
    "from numpy import genfromtxt\n",
    "csv_data = genfromtxt('fdata.csv', dtype=['S10','float32','float32','float32','float32'], delimiter=\",\")\n",
    "print(csv_data)"
   ]
  },
  {
   "cell_type": "markdown",
   "metadata": {},
   "source": [
    "Write a NumPy program to extract first, third and fifth elements of the third and fifth rows from a given (6x6) array. \n",
    "<br>Sample Output:\n",
    "<br>Original array:\n",
    "<br>[[ 0 1 2 3 4 5]\n",
    "<br>................\n",
    "<br>[30 31 32 33 34 35]]\n",
    "<br>Extracted data: First, third and fifth elements of the third and fifth rows\n",
    "<br>[[12 14 16]\n",
    "<br>[24 26 28]]"
   ]
  },
  {
   "cell_type": "code",
   "execution_count": 51,
   "metadata": {},
   "outputs": [
    {
     "name": "stdout",
     "output_type": "stream",
     "text": [
      "Original array:\n",
      "[[ 0  1  2  3  4  5]\n",
      " [ 6  7  8  9 10 11]\n",
      " [12 13 14 15 16 17]\n",
      " [18 19 20 21 22 23]\n",
      " [24 25 26 27 28 29]\n",
      " [30 31 32 33 34 35]]\n",
      "\n",
      "Extracted data: First, third and fifth elements of the third and fifth rows\n",
      "[[12 14 16]\n",
      " [24 26 28]]\n"
     ]
    }
   ],
   "source": [
    "arra_data = np.arange(0,36).reshape((6, 6))\n",
    "print(\"Original array:\")\n",
    "print(arra_data)\n",
    "print(\"\\nExtracted data: First, third and fifth elements of the third and fifth rows\")\n",
    "print(arra_data[2::2, ::2]) "
   ]
  },
  {
   "cell_type": "markdown",
   "metadata": {},
   "source": [
    "Write a NumPy program to add two arrays A and B of sizes (3,3) and (,3). \n",
    "<br>Sample Output:\n",
    "<br>Original array:\n",
    "<br>Array-1\n",
    "<br>[[1. 1. 1.]\n",
    "<br>[1. 1. 1.]\n",
    "<br>[1. 1. 1.]]\n",
    "<br>Array-2\n",
    "<br>[0 1 2]\n",
    "<br>A + B:\n",
    "<br>[[1. 2. 3.]\n",
    "<br>[1. 2. 3.]\n",
    "<br>[1. 2. 3.]]"
   ]
  },
  {
   "cell_type": "code",
   "execution_count": 52,
   "metadata": {},
   "outputs": [
    {
     "name": "stdout",
     "output_type": "stream",
     "text": [
      "Original array:\n",
      "Array-1\n",
      "[[1. 1. 1.]\n",
      " [1. 1. 1.]\n",
      " [1. 1. 1.]]\n",
      "Array-2\n",
      "[0 1 2]\n",
      "A + B:\n",
      "[[1. 2. 3.]\n",
      " [1. 2. 3.]\n",
      " [1. 2. 3.]]\n"
     ]
    }
   ],
   "source": [
    "A = np.ones((3,3))\n",
    "B = np.arange(3)\n",
    "print(\"Original array:\")\n",
    "print(\"Array-1\")\n",
    "print(A)\n",
    "print(\"Array-2\")\n",
    "print(B)\n",
    "print(\"A + B:\")\n",
    "new_array = A + B\n",
    "print(new_array)"
   ]
  },
  {
   "cell_type": "markdown",
   "metadata": {},
   "source": [
    "Write a NumPy program to calculate the sum of all columns of a 2D NumPy array. \n",
    "<br>Sample Output:\n",
    "<br>Original array:\n",
    "<br>[[ 0 1 2 3 4 5 6 7 8]\n",
    "<br>[ 9 10 11 12 13 14 15 16 17]\n",
    "<br>[18 19 20 21 22 23 24 25 26]\n",
    "<br>[27 28 29 30 31 32 33 34 35]]\n",
    "<br>Sum of all columns:\n",
    "<br>[54 58 62 66 70 74 78 82 86]"
   ]
  },
  {
   "cell_type": "code",
   "execution_count": 53,
   "metadata": {},
   "outputs": [
    {
     "name": "stdout",
     "output_type": "stream",
     "text": [
      "Original array:\n",
      "[[ 0  1  2  3  4  5  6  7  8]\n",
      " [ 9 10 11 12 13 14 15 16 17]\n",
      " [18 19 20 21 22 23 24 25 26]\n",
      " [27 28 29 30 31 32 33 34 35]]\n",
      "\n",
      "Sum of all columns:\n",
      "[54 58 62 66 70 74 78 82 86]\n"
     ]
    }
   ],
   "source": [
    "num = np.arange(36)\n",
    "arr1 = np.reshape(num, [4, 9])\n",
    "print(\"Original array:\")\n",
    "print(arr1)\n",
    "result  = arr1.sum(axis=0)\n",
    "print(\"\\nSum of all columns:\")\n",
    "print(result)"
   ]
  },
  {
   "cell_type": "markdown",
   "metadata": {},
   "source": [
    "Write a NumPy program to combine last element with first element of two given ndarray with different shapes. \n",
    "<br>Original arrays:\n",
    "<br>['PHP', 'JS', 'C++']\n",
    "<br>['Python', 'C#', 'NumPy']\n",
    "<br>After Combining:\n",
    "<br>['PHP' 'JS' 'C++Python' 'C#' 'NumPy']"
   ]
  },
  {
   "cell_type": "code",
   "execution_count": 54,
   "metadata": {},
   "outputs": [
    {
     "name": "stdout",
     "output_type": "stream",
     "text": [
      "Original arrays:\n",
      "['PHP', 'JS', 'C++']\n",
      "['Python', 'C#', 'NumPy']\n",
      "\n",
      "After Combining:\n",
      "['PHP' 'JS' 'C++Python' 'C#' 'NumPy']\n"
     ]
    }
   ],
   "source": [
    "array1 = ['PHP','JS','C++']\n",
    "array2 = ['Python','C#', 'NumPy']    \n",
    "print(\"Original arrays:\")          \n",
    "print(array1)\n",
    "print(array2)          \n",
    "result  = np.r_[array1[:-1], [array1[-1]+array2[0]], array2[1:]]   \n",
    "print(\"\\nAfter Combining:\")       \n",
    "print(result)"
   ]
  },
  {
   "cell_type": "markdown",
   "metadata": {},
   "source": [
    "Write a NumPy program to subtract the mean of each row of a given matrix. \n",
    "<br>Original matrix:\n",
    "<br>[[0.59243452 0.51883289 0.03732848 0.49544926 0.22637201 0.45750412\n",
    "<br>0.81614237 0.86681236 0.95482226 0.54789281]\n",
    "<br>..............\n",
    "<br>[0.14428353 0.20556412 0.97059136 0.53545871 0.93828877 0.81535277\n",
    "<br>0.60563373 0.47543413 0.0468766 0.97460889]]\n",
    "<br>Subtract the mean of each row of the said matrix:\n",
    "<br>[[ 0.04107541 -0.03252622 -0.51403063 -0.05590985 -0.3249871 -0.09385499\n",
    "<br>0.26478326 0.31545325 0.40346315 -0.0034663 ]\n",
    "<br>....................\n",
    "<br>[-0.42692573 -0.36564514 0.3993821 -0.03575056 0.36707951 0.24414351\n",
    "<br>0.03442447 -0.09577513 -0.52433266 0.40339963]]"
   ]
  },
  {
   "cell_type": "code",
   "execution_count": 55,
   "metadata": {},
   "outputs": [
    {
     "name": "stdout",
     "output_type": "stream",
     "text": [
      "[[0.38416745 0.85845208 0.06763701 0.26700212 0.24002672 0.35914202\n",
      "  0.87652043 0.9672092  0.99488117 0.51428918]\n",
      " [0.30326028 0.76773482 0.11157602 0.70834462 0.74876148 0.73510079\n",
      "  0.9509995  0.27008801 0.6737293  0.42642885]\n",
      " [0.90053782 0.47560824 0.367416   0.42419383 0.72660661 0.43258356\n",
      "  0.54909697 0.41294478 0.64902379 0.9411624 ]\n",
      " [0.38898604 0.74764598 0.1895657  0.73339292 0.41596697 0.39980778\n",
      "  0.62999818 0.23726234 0.84056763 0.39430948]\n",
      " [0.72605277 0.03261777 0.67677364 0.60229811 0.92471754 0.98763856\n",
      "  0.73161266 0.80268822 0.28842293 0.9017354 ]]\n",
      "\n",
      "Subtract the mean of each row of the said matrix:\n",
      "\n",
      "[[-0.16876529  0.30551934 -0.48529573 -0.28593062 -0.31290602 -0.19379072\n",
      "   0.32358769  0.41427646  0.44194843 -0.03864356]\n",
      " [-0.26634209  0.19813246 -0.45802635  0.13874225  0.17915911  0.16549842\n",
      "   0.38139713 -0.29951436  0.10412693 -0.14317351]\n",
      " [ 0.31262042 -0.11230917 -0.2205014  -0.16372357  0.13868921 -0.15533384\n",
      "  -0.03882043 -0.17497262  0.06110638  0.353245  ]\n",
      " [-0.10876426  0.24989567 -0.3081846   0.23564262 -0.08178333 -0.09794252\n",
      "   0.13224788 -0.26048796  0.34281732 -0.10344082]\n",
      " [ 0.05859701 -0.63483799  0.00931788 -0.06515766  0.25726178  0.3201828\n",
      "   0.0641569   0.13523246 -0.37903283  0.23427964]]\n"
     ]
    }
   ],
   "source": [
    "X = np.random.rand(5, 10)\n",
    "print(X)\n",
    "print(\"\\nSubtract the mean of each row of the said matrix:\\n\")\n",
    "Y = X - X.mean(axis=1, keepdims=True)\n",
    "print(Y)"
   ]
  }
 ],
 "metadata": {
  "kernelspec": {
   "display_name": "Python 3.9.12 ('RP-X0PA_3.9')",
   "language": "python",
   "name": "python3"
  },
  "language_info": {
   "codemirror_mode": {
    "name": "ipython",
    "version": 3
   },
   "file_extension": ".py",
   "mimetype": "text/x-python",
   "name": "python",
   "nbconvert_exporter": "python",
   "pygments_lexer": "ipython3",
   "version": "3.9.12"
  },
  "vscode": {
   "interpreter": {
    "hash": "0974853aac2e1be22b1c71bc2108bee902f4a24fbab5204c66962b2aba421724"
   }
  }
 },
 "nbformat": 4,
 "nbformat_minor": 2
}
